{
 "cells": [
  {
   "cell_type": "markdown",
   "id": "bfe8837c",
   "metadata": {},
   "source": [
    "# Python Memory Management\n",
    "\n",
    "Memory management in Python involves a combination of automatic garbage collection, reference counting,\n",
    "and various internal optimizations to efficiently manage memory allocation and deallocation. Understanding\n",
    "these mechanisms can help developers write more efficient and robust applications.\n",
    "\n",
    "1. Key Concepts in Python Memory Management\n",
    "2. Memory Allocation and Deallocation\n",
    "3. Reference Counting\n",
    "4. Garbage Collection\n",
    "5. The gc Module\n",
    "6. Memory Management Best Practices"
   ]
  },
  {
   "cell_type": "markdown",
   "id": "2dc9f884",
   "metadata": {},
   "source": [
    "## Reference Counting \n",
    "Reference counting is the primary method Python uses to manage memory. Each object in Python maintains a\n",
    "count of references pointing to it. When the reference count drops to zero, the memory occupied by the object\n",
    "is deallocated."
   ]
  },
  {
   "cell_type": "code",
   "execution_count": null,
   "id": "9a11931e",
   "metadata": {},
   "outputs": [
    {
     "name": "stdout",
     "output_type": "stream",
     "text": [
      "2\n"
     ]
    }
   ],
   "source": [
    "import sys \n",
    "\n",
    "a = [] \n",
    "# 2 (one reference from 'a' and one from getrefcount()) \n",
    "print(sys.getrefcount(a))"
   ]
  },
  {
   "cell_type": "code",
   "execution_count": 5,
   "id": "d4a2c68d",
   "metadata": {},
   "outputs": [
    {
     "name": "stdout",
     "output_type": "stream",
     "text": [
      "3\n"
     ]
    }
   ],
   "source": [
    "b = a \n",
    "print(sys.getrefcount(b))"
   ]
  },
  {
   "cell_type": "code",
   "execution_count": 6,
   "id": "800e431a",
   "metadata": {},
   "outputs": [
    {
     "name": "stdout",
     "output_type": "stream",
     "text": [
      "2\n"
     ]
    }
   ],
   "source": [
    "del b \n",
    "print(sys.getrefcount(a))"
   ]
  },
  {
   "cell_type": "markdown",
   "id": "c78f7ba5",
   "metadata": {},
   "source": [
    "#### Grabage Collection \n",
    "Python includes a cyclic garbage collector to handle reference cycles. Reference cycles occur when\n",
    "objects reference each other, preventing their reference counts from reaching zero."
   ]
  },
  {
   "cell_type": "code",
   "execution_count": 7,
   "id": "fc261291",
   "metadata": {},
   "outputs": [],
   "source": [
    "import gc \n",
    "# Enable garbage collection \n",
    "gc.enable() "
   ]
  },
  {
   "cell_type": "code",
   "execution_count": 8,
   "id": "696d7fad",
   "metadata": {},
   "outputs": [],
   "source": [
    "gc.disable()"
   ]
  },
  {
   "cell_type": "code",
   "execution_count": 9,
   "id": "49d9e43e",
   "metadata": {},
   "outputs": [
    {
     "data": {
      "text/plain": [
       "970"
      ]
     },
     "execution_count": 9,
     "metadata": {},
     "output_type": "execute_result"
    }
   ],
   "source": [
    "gc.collect()"
   ]
  },
  {
   "cell_type": "code",
   "execution_count": 10,
   "id": "ec7290de",
   "metadata": {},
   "outputs": [
    {
     "name": "stdout",
     "output_type": "stream",
     "text": [
      "[{'collections': 247, 'collected': 1831, 'uncollectable': 0}, {'collections': 22, 'collected': 616, 'uncollectable': 0}, {'collections': 3, 'collected': 970, 'uncollectable': 0}]\n"
     ]
    }
   ],
   "source": [
    "### get garbage collection stats\n",
    "print(gc.get_stats())"
   ]
  },
  {
   "cell_type": "code",
   "execution_count": 11,
   "id": "b3924e8d",
   "metadata": {},
   "outputs": [
    {
     "name": "stdout",
     "output_type": "stream",
     "text": [
      "[]\n"
     ]
    }
   ],
   "source": [
    "### get unreachable objects \n",
    "print(gc.garbage)"
   ]
  },
  {
   "cell_type": "markdown",
   "id": "0e526446",
   "metadata": {},
   "source": [
    "## Memory Management Best Practices \n",
    "1. Use Local Variables: Local variables have a shorter lifespan and are freed sooner than global\n",
    "variables.\n",
    "2. Avoid Circular References: Circular references can lead to memory leaks if not properly managed\n",
    "3. Use Generators: Generators produce items one at a time and only keep one item in memory at a\n",
    "time, making them memory efficient.\n",
    "4. Explicitly Delete Objects: Use the del statement to delete variables and objects explicitly.\n",
    "5. Profile Memory Usage: Use memory profiling tools like tracemalloc and memory_profiler to\n",
    "identify memory leaks and optimize memory usage."
   ]
  },
  {
   "cell_type": "code",
   "execution_count": 2,
   "id": "579e3959",
   "metadata": {},
   "outputs": [
    {
     "name": "stdout",
     "output_type": "stream",
     "text": [
      "Object ob1 created\n",
      "Object ob2 created\n",
      "Object ob1 Deleted\n",
      "Object ob2 Deleted\n"
     ]
    },
    {
     "data": {
      "text/plain": [
       "11"
      ]
     },
     "execution_count": 2,
     "metadata": {},
     "output_type": "execute_result"
    }
   ],
   "source": [
    "### Handled Circular reference \n",
    "\n",
    "import gc \n",
    "class MyObject: \n",
    "    def __init__(self,name): \n",
    "        self.name = name\n",
    "        print(f\"Object {self.name} created\")\n",
    "    \n",
    "    def __del__(self): \n",
    "        print(f\"Object {self.name} Deleted\")\n",
    "\n",
    "## create circular reference \n",
    "ob1 = MyObject(\"ob1\")\n",
    "ob2 = MyObject(\"ob2\") \n",
    "ob1.ref = ob2 \n",
    "ob2.ref = ob1\n",
    "\n",
    "del ob1 \n",
    "del ob2 \n",
    "\n",
    "# Manually trigger the garbage collection\n",
    "gc.collect() "
   ]
  },
  {
   "cell_type": "code",
   "execution_count": null,
   "id": "a823be5b",
   "metadata": {},
   "outputs": [
    {
     "name": "stdout",
     "output_type": "stream",
     "text": [
      "0\n",
      "1\n",
      "2\n",
      "3\n",
      "4\n",
      "5\n",
      "6\n",
      "7\n",
      "8\n",
      "9\n",
      "10\n",
      "11\n"
     ]
    }
   ],
   "source": [
    "## Generators for Memory Efficient \n",
    "#Generators allow you to provide items one at a time, using memory efficiently by only keeping one item in memory at a time. \n",
    "\n",
    "def generate_numbers(n): \n",
    "    for i in range(n): \n",
    "        yield i \n",
    "    \n",
    "## using the generator \n",
    "for num in generate_numbers(100000):\n",
    "    print(num) \n",
    "    if num>10: \n",
    "        break"
   ]
  },
  {
   "cell_type": "code",
   "execution_count": 4,
   "id": "bc07173a",
   "metadata": {},
   "outputs": [],
   "source": [
    "## Profiling Memory Usage with tracemalloc \n",
    "import tracemalloc \n",
    "def create_list(): \n",
    "    return [i for i in range(10000)]\n",
    "\n",
    "def main(): \n",
    "    tracemalloc.start() \n",
    "\n",
    "    create_list() \n",
    "\n",
    "    snapshot = tracemalloc.take_snapshot() \n",
    "    top_stats = snapshot.statistics('lineno')\n",
    "    print(\"[Top 10]\")\n",
    "    for stat in top_stats[:10]: \n",
    "        print(stat)"
   ]
  },
  {
   "cell_type": "code",
   "execution_count": 5,
   "id": "70a5a192",
   "metadata": {},
   "outputs": [
    {
     "name": "stdout",
     "output_type": "stream",
     "text": [
      "[Top 10]\n",
      "c:\\Users\\admin\\AppData\\Local\\Programs\\Python\\Python310\\lib\\ast.py:50: size=2275 KiB, count=47145, average=49 B\n",
      "c:\\Users\\admin\\AppData\\Local\\Programs\\Python\\Python310\\lib\\site-packages\\executing\\executing.py:171: size=429 KiB, count=5870, average=75 B\n",
      "c:\\Users\\admin\\AppData\\Local\\Programs\\Python\\Python310\\lib\\linecache.py:137: size=343 KiB, count=3344, average=105 B\n",
      "c:\\Users\\admin\\AppData\\Local\\Programs\\Python\\Python310\\lib\\site-packages\\executing\\executing.py:154: size=341 KiB, count=3358, average=104 B\n",
      "c:\\Users\\admin\\AppData\\Local\\Programs\\Python\\Python310\\lib\\site-packages\\executing\\executing.py:169: size=237 KiB, count=702, average=346 B\n",
      "c:\\Users\\admin\\AppData\\Local\\Programs\\Python\\Python310\\lib\\ntpath.py:708: size=173 KiB, count=902, average=197 B\n",
      "c:\\Users\\admin\\AppData\\Local\\Programs\\Python\\Python310\\lib\\site-packages\\executing\\executing.py:153: size=152 KiB, count=2, average=75.9 KiB\n",
      "c:\\Users\\admin\\AppData\\Local\\Programs\\Python\\Python310\\lib\\ntpath.py:705: size=129 KiB, count=902, average=146 B\n",
      "c:\\Users\\admin\\AppData\\Local\\Programs\\Python\\Python310\\lib\\ntpath.py:66: size=129 KiB, count=902, average=146 B\n",
      "c:\\Users\\admin\\AppData\\Local\\Programs\\Python\\Python310\\lib\\genericpath.py:77: size=86.2 KiB, count=890, average=99 B\n"
     ]
    }
   ],
   "source": [
    "main()\n"
   ]
  },
  {
   "cell_type": "code",
   "execution_count": null,
   "id": "ce1478e6",
   "metadata": {},
   "outputs": [],
   "source": []
  }
 ],
 "metadata": {
  "kernelspec": {
   "display_name": "Python 3",
   "language": "python",
   "name": "python3"
  },
  "language_info": {
   "codemirror_mode": {
    "name": "ipython",
    "version": 3
   },
   "file_extension": ".py",
   "mimetype": "text/x-python",
   "name": "python",
   "nbconvert_exporter": "python",
   "pygments_lexer": "ipython3",
   "version": "3.10.11"
  }
 },
 "nbformat": 4,
 "nbformat_minor": 5
}
