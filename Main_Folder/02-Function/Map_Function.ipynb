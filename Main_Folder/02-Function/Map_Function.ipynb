{
 "cells": [
  {
   "cell_type": "markdown",
   "id": "3906758c-d7f3-4dc7-ab19-dd4f5be1341d",
   "metadata": {},
   "source": [
    "## Map() Function"
   ]
  },
  {
   "cell_type": "code",
   "execution_count": 4,
   "id": "078e6dc0-e69e-4797-a638-f742cb42f5f6",
   "metadata": {},
   "outputs": [
    {
     "name": "stdout",
     "output_type": "stream",
     "text": [
      "[1, 4, 9, 16, 25, 36]\n"
     ]
    }
   ],
   "source": [
    "numbers= [1,2,3,4,5,6]\n",
    "square = map(lambda x:x*x, numbers)\n",
    "print(list(square))"
   ]
  },
  {
   "cell_type": "code",
   "execution_count": 7,
   "id": "0068c8e9-5c93-405c-a4ba-653db8e9feaa",
   "metadata": {},
   "outputs": [
    {
     "name": "stdout",
     "output_type": "stream",
     "text": [
      "[5, 7, 9]\n"
     ]
    }
   ],
   "source": [
    "## Map multiple iterables\n",
    "\n",
    "n1 =[1,2,3]\n",
    "n2 =[4,5,6]\n",
    "added_numbers = map(lambda x,y: x+y, n1,n2)\n",
    "print(list(added_numbers))\n"
   ]
  },
  {
   "cell_type": "code",
   "execution_count": 8,
   "id": "13fa631f-66fd-44fc-8107-2c21a4cc60dd",
   "metadata": {},
   "outputs": [
    {
     "name": "stdout",
     "output_type": "stream",
     "text": [
      "[1, 2, 3, 4, 5]\n"
     ]
    }
   ],
   "source": [
    "## map() to convert a list of string to integer\n",
    "# Use map to convert strings to integers\n",
    "str_numbers = ['1','2','3','4','5']\n",
    "int_numbers = list(map(int, str_numbers))\n",
    "\n",
    "print(int_numbers)"
   ]
  },
  {
   "cell_type": "code",
   "execution_count": 10,
   "id": "2a8eaffa-e2c4-4e4d-a7be-ffbc0a89465f",
   "metadata": {},
   "outputs": [
    {
     "name": "stdout",
     "output_type": "stream",
     "text": [
      "[1.0, 2.0, 3.0, 4.0, 5.0]\n"
     ]
    }
   ],
   "source": [
    "int_n = [1,2,3,4,5]\n",
    "str_n = list(map(float, int_n))\n",
    "print(str_n)"
   ]
  },
  {
   "cell_type": "code",
   "execution_count": 17,
   "id": "9eb1e239-1ba4-4afd-8028-ec4ab5feaf7d",
   "metadata": {},
   "outputs": [
    {
     "name": "stdout",
     "output_type": "stream",
     "text": [
      "['APPLE', 'BANANA', 'MANGO']\n"
     ]
    }
   ],
   "source": [
    "words = ['apple', 'banana', 'mango']\n",
    "up_words = list(map(str.upper, words))\n",
    "print(up_words)"
   ]
  },
  {
   "cell_type": "code",
   "execution_count": 2,
   "id": "81760e91-1a28-469a-89f7-f77332d9775c",
   "metadata": {},
   "outputs": [
    {
     "data": {
      "text/plain": [
       "['Sushil', 'Jay']"
      ]
     },
     "execution_count": 2,
     "metadata": {},
     "output_type": "execute_result"
    }
   ],
   "source": [
    "def get_name(person):\n",
    "    return person['name']\n",
    "    \n",
    "people =[\n",
    "    {\"name\": \"Sushil\", \"age\": 19},\n",
    "    {\"name\": \"Jay\", \"age\": 20}\n",
    "]\n",
    "\n",
    "list(map(get_name, people))"
   ]
  },
  {
   "cell_type": "markdown",
   "id": "76bcfcc8-b8b8-465e-99ad-ddfb47c0043c",
   "metadata": {},
   "source": [
    "## Conclusion\n",
    "\n",
    "The map() function is a powerful tool for applying transformationto iterable data structures. It can be used\n",
    "with regular functions, lambda functions, and even multiple iterables, providing a versatile approch to data\n",
    "processing in Python. By understanding and utilizing map(), you can write more efficient and readable code."
   ]
  },
  {
   "cell_type": "code",
   "execution_count": null,
   "id": "123f0b8f-fb1b-4f89-8904-6ed94ed6b872",
   "metadata": {},
   "outputs": [],
   "source": []
  }
 ],
 "metadata": {
  "kernelspec": {
   "display_name": "Python 3 (ipykernel)",
   "language": "python",
   "name": "python3"
  },
  "language_info": {
   "codemirror_mode": {
    "name": "ipython",
    "version": 3
   },
   "file_extension": ".py",
   "mimetype": "text/x-python",
   "name": "python",
   "nbconvert_exporter": "python",
   "pygments_lexer": "ipython3",
   "version": "3.10.11"
  }
 },
 "nbformat": 4,
 "nbformat_minor": 5
}
