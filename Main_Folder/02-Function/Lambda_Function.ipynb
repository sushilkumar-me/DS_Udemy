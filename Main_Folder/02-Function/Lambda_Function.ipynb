{
 "cells": [
  {
   "cell_type": "markdown",
   "id": "15cbc7a4-3a8c-42fd-9138-8f3c0e339db7",
   "metadata": {},
   "source": [
    "## Lambda() Function"
   ]
  },
  {
   "cell_type": "code",
   "execution_count": 2,
   "id": "25fab49f-756a-4828-8683-246b9080f5cb",
   "metadata": {},
   "outputs": [
    {
     "data": {
      "text/plain": [
       "<function __main__.<lambda>(arguments)>"
      ]
     },
     "execution_count": 2,
     "metadata": {},
     "output_type": "execute_result"
    }
   ],
   "source": [
    "# Syntax \n",
    "lambda arguments: expression"
   ]
  },
  {
   "cell_type": "code",
   "execution_count": 3,
   "id": "ade5ec10-ac44-49a4-92d9-bedf3b54188b",
   "metadata": {},
   "outputs": [
    {
     "data": {
      "text/plain": [
       "5"
      ]
     },
     "execution_count": 3,
     "metadata": {},
     "output_type": "execute_result"
    }
   ],
   "source": [
    "addtion = lambda a,b: a+b\n",
    "addtion(2,3)"
   ]
  },
  {
   "cell_type": "code",
   "execution_count": 8,
   "id": "9fba2cfe-a25f-4b1c-b0d1-2de270328478",
   "metadata": {},
   "outputs": [
    {
     "data": {
      "text/plain": [
       "True"
      ]
     },
     "execution_count": 8,
     "metadata": {},
     "output_type": "execute_result"
    }
   ],
   "source": [
    "even = lambda num: num%2 == 0\n",
    "even(12)"
   ]
  },
  {
   "cell_type": "code",
   "execution_count": 10,
   "id": "824114aa-1441-4463-bd32-fcc5e91b301f",
   "metadata": {},
   "outputs": [
    {
     "data": {
      "text/plain": [
       "6"
      ]
     },
     "execution_count": 10,
     "metadata": {},
     "output_type": "execute_result"
    }
   ],
   "source": [
    "add = lambda x,y,z: x+y+z\n",
    "add(1,2,3)"
   ]
  },
  {
   "cell_type": "code",
   "execution_count": 14,
   "id": "3adf7d5b-1ee9-43d7-9f6d-6bfa5a148232",
   "metadata": {},
   "outputs": [
    {
     "name": "stdout",
     "output_type": "stream",
     "text": [
      "[1, 4, 9, 16, 25, 36]\n"
     ]
    }
   ],
   "source": [
    "## map() -- applies a function to all items in a list\n",
    "\n",
    "number = [1,2,3,4,5,6]\n",
    "square = list(map(lambda x:x**2, number))\n",
    "print(square)"
   ]
  },
  {
   "cell_type": "code",
   "execution_count": null,
   "id": "e1690bc8-9e7f-488e-8604-c444ecad849f",
   "metadata": {},
   "outputs": [],
   "source": []
  },
  {
   "cell_type": "code",
   "execution_count": null,
   "id": "8710c12e-0bfe-407c-94eb-960ce6995f21",
   "metadata": {},
   "outputs": [],
   "source": []
  }
 ],
 "metadata": {
  "kernelspec": {
   "display_name": "Python 3 (ipykernel)",
   "language": "python",
   "name": "python3"
  },
  "language_info": {
   "codemirror_mode": {
    "name": "ipython",
    "version": 3
   },
   "file_extension": ".py",
   "mimetype": "text/x-python",
   "name": "python",
   "nbconvert_exporter": "python",
   "pygments_lexer": "ipython3",
   "version": "3.10.11"
  }
 },
 "nbformat": 4,
 "nbformat_minor": 5
}
