{
 "cells": [
  {
   "cell_type": "markdown",
   "id": "fec198da-9a0d-47b8-b51b-19bf12180434",
   "metadata": {},
   "source": [
    "## EX: 1 Temperature Conversion"
   ]
  },
  {
   "cell_type": "code",
   "execution_count": 1,
   "id": "83f075e0-5def-43f7-8c45-6057c37e1cd7",
   "metadata": {},
   "outputs": [
    {
     "name": "stdout",
     "output_type": "stream",
     "text": [
      "-40.0\n",
      "-40.0\n"
     ]
    }
   ],
   "source": [
    "def convert_temperature(temp, unit):\n",
    "    \"\"\"This function converts temperature between Calsius and Fahrenheit\"\"\"\n",
    "    if unit == 'C':\n",
    "        return temp *9/5 +32 # Celsius to Fahrenheit\n",
    "    elif unit == 'F':\n",
    "        return (temp-32)*5/9 # Fahrenheit to ceclsius\n",
    "    else:\n",
    "        return None\n",
    "\n",
    "print(convert_temperature(-40, 'C'))\n",
    "print(convert_temperature(-40, 'F'))\n"
   ]
  },
  {
   "cell_type": "markdown",
   "id": "a2e05d8c-5ecb-434a-9f87-a299f6c286d3",
   "metadata": {},
   "source": [
    "## EX: 2 Password Strength Checker"
   ]
  },
  {
   "cell_type": "code",
   "execution_count": 8,
   "id": "e24c6675-1c00-43cd-935b-2189b1223724",
   "metadata": {},
   "outputs": [
    {
     "name": "stdout",
     "output_type": "stream",
     "text": [
      "False\n",
      "True\n"
     ]
    }
   ],
   "source": [
    "def is_strong_password(password):\n",
    "    \"\"\"This function checks if the password is strong or not\"\"\"\n",
    "    if len(password)< 8:\n",
    "        return False\n",
    "    if not any(char.isdigit() for char in password):\n",
    "        return False \n",
    "    if not any(char.islower() for char in password):\n",
    "        return False\n",
    "    if not any(char.isupper() for char in password):\n",
    "        return False\n",
    "    if not any(char in '!@#$%^&*()_+' for char in password):\n",
    "        return False\n",
    "    return True\n",
    "\n",
    "# Calling the function\n",
    "print(is_strong_password(\"WeakPwd\"))\n",
    "print(is_strong_password(\"Str0ngPwd!\"))\n",
    "    "
   ]
  },
  {
   "cell_type": "markdown",
   "id": "9d0005a2-ed51-488f-910c-0d5f432df612",
   "metadata": {},
   "source": [
    "## Ex: 3 Calculate the total cost of Item in a Shopping Cart"
   ]
  },
  {
   "cell_type": "code",
   "execution_count": 12,
   "id": "1582d3e7-9ebb-45c9-bbbe-ae6647405dab",
   "metadata": {},
   "outputs": [
    {
     "name": "stdout",
     "output_type": "stream",
     "text": [
      "5.8999999999999995\n"
     ]
    }
   ],
   "source": [
    "def calculate_total_cost(cart):\n",
    "    total_cost = 0\n",
    "    for item in cart:\n",
    "        total_cost += item['price'] * item['quantity']\n",
    "    return total_cost\n",
    "\n",
    "# Example cart data\n",
    "\n",
    "cart = [\n",
    "    {'name': 'Apple', 'price': 0.5, 'quantity': 4},\n",
    "    {'name': 'Banana', 'price': 0.3, 'quantity': 6},\n",
    "    {'name': 'Orange', 'price': 0.7, 'quantity': 3}\n",
    "]\n",
    "\n",
    "total_cost = calculate_total_cost(cart)\n",
    "print(total_cost)"
   ]
  },
  {
   "cell_type": "code",
   "execution_count": null,
   "id": "3877c341-5d41-4ff3-8611-56fadc469739",
   "metadata": {},
   "outputs": [],
   "source": []
  }
 ],
 "metadata": {
  "kernelspec": {
   "display_name": "Python 3 (ipykernel)",
   "language": "python",
   "name": "python3"
  },
  "language_info": {
   "codemirror_mode": {
    "name": "ipython",
    "version": 3
   },
   "file_extension": ".py",
   "mimetype": "text/x-python",
   "name": "python",
   "nbconvert_exporter": "python",
   "pygments_lexer": "ipython3",
   "version": "3.10.11"
  }
 },
 "nbformat": 4,
 "nbformat_minor": 5
}
