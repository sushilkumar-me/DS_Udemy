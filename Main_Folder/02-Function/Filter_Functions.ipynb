{
 "cells": [
  {
   "cell_type": "markdown",
   "id": "88e1b280-1eaa-47a2-8c83-07d00019054b",
   "metadata": {},
   "source": [
    "## Filter() Function"
   ]
  },
  {
   "cell_type": "code",
   "execution_count": 7,
   "id": "edbeae10-28af-4aa2-ae6d-d8af852c17b5",
   "metadata": {},
   "outputs": [
    {
     "data": {
      "text/plain": [
       "[2, 4, 6, 8]"
      ]
     },
     "execution_count": 7,
     "metadata": {},
     "output_type": "execute_result"
    }
   ],
   "source": [
    "def even(num):\n",
    "    if num%2 == 0:\n",
    "        return True\n",
    "\n",
    "l = [1,2,3,4,5,6,7,8,9]\n",
    "\n",
    "list(filter(even,l))"
   ]
  },
  {
   "cell_type": "code",
   "execution_count": 13,
   "id": "f58e0fa9-0a2e-4cab-8dae-e9e58e0bff22",
   "metadata": {},
   "outputs": [
    {
     "name": "stdout",
     "output_type": "stream",
     "text": [
      "[6, 7, 8, 9]\n"
     ]
    }
   ],
   "source": [
    "## Filter with Lambda function\n",
    "\n",
    "numbers= [1,2,3,4,5,6,7,8,9]\n",
    "greater_then_five =list(filter(lambda x:x>5, numbers))\n",
    "print(greater_then_five)"
   ]
  },
  {
   "cell_type": "code",
   "execution_count": 23,
   "id": "9fcbe958-f5ee-4db1-ac29-b7fe09710bb3",
   "metadata": {},
   "outputs": [
    {
     "name": "stdout",
     "output_type": "stream",
     "text": [
      "[6, 8]\n"
     ]
    }
   ],
   "source": [
    "## Filter with a Lambda function with multiple conditions\n",
    "\n",
    "numbers= [1,2,3,4,5,6,7,8,9]\n",
    "even_greater_than_five= list(filter(lambda x:x>5 and x%2 ==0, numbers))\n",
    "print(even_greater_than_five)"
   ]
  },
  {
   "cell_type": "code",
   "execution_count": 26,
   "id": "5e87eda2-b32b-4e20-a0f3-5a3ba002608e",
   "metadata": {},
   "outputs": [
    {
     "name": "stdout",
     "output_type": "stream",
     "text": [
      "[{'name': 'Rahul', 'age': 26}, {'name': 'Rohit', 'age': 22}]\n"
     ]
    }
   ],
   "source": [
    "## Filter() to check if the age is greater than 25 in dictionary\n",
    "people = [\n",
    "    {\"name\": \"sushil\", \"age\": 19},\n",
    "    {\"name\": \"Jay\", \"age\": 20},\n",
    "    {\"name\": \"Rahul\", \"age\": 26},\n",
    "    {\"name\": \"Rohit\", \"age\": 22}\n",
    "]\n",
    "\n",
    "def age_greater_then_20(person):\n",
    "    return person['age']>20\n",
    "\n",
    "greater = list(filter(age_greater_then_20, people))\n",
    "print(greater)\n"
   ]
  },
  {
   "cell_type": "markdown",
   "id": "a348042e-7961-4b21-8fbb-cfd8ea1da637",
   "metadata": {},
   "source": [
    "## Conclusion\n",
    "\n",
    "The filter() function is a powerful tool for creating iterators that filter items out an iterable based on a\n",
    "function. It is commonly used for data cleaning, filtering object, and removing unwanted elements from lists.\n",
    "By mastering filter(), you can write more concise and efficient code for processing and manipulating collections\n",
    "in Python."
   ]
  },
  {
   "cell_type": "code",
   "execution_count": null,
   "id": "238262cc-5f92-40c3-81b3-29dac3a96aa6",
   "metadata": {},
   "outputs": [],
   "source": []
  }
 ],
 "metadata": {
  "kernelspec": {
   "display_name": "Python 3 (ipykernel)",
   "language": "python",
   "name": "python3"
  },
  "language_info": {
   "codemirror_mode": {
    "name": "ipython",
    "version": 3
   },
   "file_extension": ".py",
   "mimetype": "text/x-python",
   "name": "python",
   "nbconvert_exporter": "python",
   "pygments_lexer": "ipython3",
   "version": "3.10.11"
  }
 },
 "nbformat": 4,
 "nbformat_minor": 5
}
