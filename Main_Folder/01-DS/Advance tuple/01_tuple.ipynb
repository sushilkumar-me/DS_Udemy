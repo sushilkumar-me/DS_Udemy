{
 "cells": [
  {
   "cell_type": "code",
   "execution_count": 3,
   "id": "b5bb7cc5-7a28-4d14-bfbb-d5338e053f8b",
   "metadata": {},
   "outputs": [
    {
     "name": "stdout",
     "output_type": "stream",
     "text": [
      "5\n"
     ]
    }
   ],
   "source": [
    "# Accessing tuple\n",
    "t = (1,2,3,4,5)\n",
    "print(t[-1])"
   ]
  },
  {
   "cell_type": "code",
   "execution_count": 4,
   "id": "8e9fbd7f-be87-42ad-b0bd-97bda76cf045",
   "metadata": {},
   "outputs": [
    {
     "name": "stdout",
     "output_type": "stream",
     "text": [
      "(5, 4, 3, 2, 1)\n"
     ]
    }
   ],
   "source": [
    "print(t[::-1])"
   ]
  },
  {
   "cell_type": "code",
   "execution_count": 8,
   "id": "7193dd5e-3d8a-4c25-887d-b7afb77cf129",
   "metadata": {},
   "outputs": [
    {
     "name": "stdout",
     "output_type": "stream",
     "text": [
      "(1, 3, 5)\n"
     ]
    }
   ],
   "source": [
    "print(t[::2])"
   ]
  },
  {
   "cell_type": "code",
   "execution_count": null,
   "id": "590e9e04-6e77-468b-9469-c8d6dd94572f",
   "metadata": {},
   "outputs": [],
   "source": []
  },
  {
   "cell_type": "code",
   "execution_count": 9,
   "id": "e1657ef7-12f9-4624-85af-8e038ca106e8",
   "metadata": {},
   "outputs": [],
   "source": [
    "# Tuple operation"
   ]
  },
  {
   "cell_type": "code",
   "execution_count": 14,
   "id": "5ee2e6fd-a818-4e8d-bb23-f061719b4a8c",
   "metadata": {},
   "outputs": [
    {
     "name": "stdout",
     "output_type": "stream",
     "text": [
      "\n",
      "(1, 2, 3, 4, 5, 2, 'hello', True, None, 4.4)\n"
     ]
    }
   ],
   "source": [
    "t= (1,2,3,4,5)\n",
    "t2 = (2,\"hello\",True, print(), 4.4)\n",
    "con_tuple = t + t2 # Concatenation of tuple\n",
    "print(con_tuple)"
   ]
  },
  {
   "cell_type": "code",
   "execution_count": 15,
   "id": "e77b1fc3-ba96-4eff-98b8-2a4065df40d8",
   "metadata": {},
   "outputs": [
    {
     "data": {
      "text/plain": [
       "(2,\n",
       " 'hello',\n",
       " True,\n",
       " None,\n",
       " 4.4,\n",
       " 2,\n",
       " 'hello',\n",
       " True,\n",
       " None,\n",
       " 4.4,\n",
       " 2,\n",
       " 'hello',\n",
       " True,\n",
       " None,\n",
       " 4.4)"
      ]
     },
     "execution_count": 15,
     "metadata": {},
     "output_type": "execute_result"
    }
   ],
   "source": [
    "t2 *3"
   ]
  },
  {
   "cell_type": "code",
   "execution_count": 19,
   "id": "3c967733-210d-4c66-87d3-33580f079aa3",
   "metadata": {},
   "outputs": [
    {
     "data": {
      "text/plain": [
       "(1, 2, 3, 4, 5, 1, 2, 3, 4, 5, 1, 2, 3, 4, 5)"
      ]
     },
     "execution_count": 19,
     "metadata": {},
     "output_type": "execute_result"
    }
   ],
   "source": [
    "t * 3"
   ]
  },
  {
   "cell_type": "code",
   "execution_count": null,
   "id": "bea29094-46b7-4c90-a718-f469958f4d32",
   "metadata": {},
   "outputs": [],
   "source": []
  },
  {
   "cell_type": "code",
   "execution_count": 21,
   "id": "3b5df316-5b72-4000-be1f-b309dca24f55",
   "metadata": {},
   "outputs": [],
   "source": [
    "# Immutable nature of tuple\n",
    "## Tuples are immutable, meaning their elements cannot be changed once asgined\n",
    "\n"
   ]
  },
  {
   "cell_type": "code",
   "execution_count": 26,
   "id": "02c4ce68-7c2f-4098-ac5c-a4b392825ce2",
   "metadata": {},
   "outputs": [
    {
     "name": "stdout",
     "output_type": "stream",
     "text": [
      "1\n",
      "2\n",
      "[1, 2, 3, 4, 5]\n",
      "[5, 4, 3, 2, 1]\n"
     ]
    }
   ],
   "source": [
    "## Tuple methods\n",
    "print(t.count(2))\n",
    "print(t.index(3))\n",
    "print(sorted(t))\n",
    "print(sorted(t, reverse= True))\n"
   ]
  },
  {
   "cell_type": "code",
   "execution_count": 27,
   "id": "662bf5ae-ee0d-4b6b-b0db-655a35a1fcb2",
   "metadata": {},
   "outputs": [
    {
     "name": "stdout",
     "output_type": "stream",
     "text": [
      "(1, 'hello', 3.14)\n"
     ]
    }
   ],
   "source": [
    "## Packing and Unpacking tuple\n",
    "\n",
    "# Packing tuple\n",
    "packed_tuple = 1, \"hello\", 3.14\n",
    "print(packed_tuple)"
   ]
  },
  {
   "cell_type": "code",
   "execution_count": 30,
   "id": "fcb83dbc-16c4-445b-b0c7-71eb9b5dcd4d",
   "metadata": {},
   "outputs": [
    {
     "name": "stdout",
     "output_type": "stream",
     "text": [
      "1\n",
      "hello\n",
      "3.14\n"
     ]
    }
   ],
   "source": [
    "# Unpacking tuple\n",
    "a, b, c = packed_tuple\n",
    "print(a)\n",
    "print(b)\n",
    "print(c)"
   ]
  },
  {
   "cell_type": "code",
   "execution_count": 31,
   "id": "3e74a618-c9ab-4f38-b9e0-d477a34d060f",
   "metadata": {},
   "outputs": [
    {
     "name": "stdout",
     "output_type": "stream",
     "text": [
      "1\n",
      "[2, 3, 4, 5]\n",
      "6\n"
     ]
    }
   ],
   "source": [
    "## Unpacking with * \n",
    "numbers = (1,2,3,4,5,6)\n",
    "first, *middle, last = numbers\n",
    "print(first)\n",
    "print(middle)\n",
    "print(last)"
   ]
  },
  {
   "cell_type": "code",
   "execution_count": null,
   "id": "30040010-9f8d-42b2-bb21-d85bee3df339",
   "metadata": {},
   "outputs": [],
   "source": []
  },
  {
   "cell_type": "code",
   "execution_count": 43,
   "id": "1ca3efce-bfb2-4f8a-87ec-0beec7f557df",
   "metadata": {},
   "outputs": [
    {
     "name": "stdout",
     "output_type": "stream",
     "text": [
      "2\n"
     ]
    }
   ],
   "source": [
    "## Nested tuple\n",
    "\n",
    "t = ((1,2),(3,4))\n",
    "print(t[0][1])"
   ]
  },
  {
   "cell_type": "code",
   "execution_count": 44,
   "id": "59eb4073-2884-492e-8b94-ca6442fad519",
   "metadata": {},
   "outputs": [
    {
     "name": "stdout",
     "output_type": "stream",
     "text": [
      "1 2 \n",
      "3 4 \n"
     ]
    }
   ],
   "source": [
    "## Itrating over nested tuple\n",
    "\n",
    "for i in t:\n",
    "    for j in i:\n",
    "        print(j, end=\" \")\n",
    "    print()"
   ]
  },
  {
   "cell_type": "code",
   "execution_count": null,
   "id": "bc75ecee-9fc9-4bf5-94f8-2003df7a0e39",
   "metadata": {},
   "outputs": [],
   "source": []
  },
  {
   "cell_type": "code",
   "execution_count": null,
   "id": "75215ed0-db4d-4dca-9951-1ecc87250e4e",
   "metadata": {},
   "outputs": [],
   "source": []
  },
  {
   "cell_type": "code",
   "execution_count": null,
   "id": "64570ef2-cf72-4832-8d3d-30b1aed35a37",
   "metadata": {},
   "outputs": [],
   "source": []
  },
  {
   "cell_type": "code",
   "execution_count": null,
   "id": "a9132977-6fbe-4c8a-90fd-5efd54ecacfe",
   "metadata": {},
   "outputs": [],
   "source": []
  }
 ],
 "metadata": {
  "kernelspec": {
   "display_name": "Python 3 (ipykernel)",
   "language": "python",
   "name": "python3"
  },
  "language_info": {
   "codemirror_mode": {
    "name": "ipython",
    "version": 3
   },
   "file_extension": ".py",
   "mimetype": "text/x-python",
   "name": "python",
   "nbconvert_exporter": "python",
   "pygments_lexer": "ipython3",
   "version": "3.10.11"
  }
 },
 "nbformat": 4,
 "nbformat_minor": 5
}
