{
 "cells": [
  {
   "cell_type": "code",
   "execution_count": 2,
   "id": "42f26c9e-d472-4960-8493-a4e93c8e7672",
   "metadata": {},
   "outputs": [
    {
     "name": "stdout",
     "output_type": "stream",
     "text": [
      "<class 'dict'>\n"
     ]
    }
   ],
   "source": [
    "## Creating Dictionary\n",
    "empty_dict ={}\n",
    "print(type(empty_dict))"
   ]
  },
  {
   "cell_type": "code",
   "execution_count": 3,
   "id": "663abeb5-9373-4abd-9752-134d32cc8be4",
   "metadata": {},
   "outputs": [
    {
     "data": {
      "text/plain": [
       "{}"
      ]
     },
     "execution_count": 3,
     "metadata": {},
     "output_type": "execute_result"
    }
   ],
   "source": [
    "empty_dict =dict()\n",
    "empty_dict"
   ]
  },
  {
   "cell_type": "code",
   "execution_count": 6,
   "id": "63087ebe-a390-45f4-bb1b-3095547f8b06",
   "metadata": {},
   "outputs": [
    {
     "name": "stdout",
     "output_type": "stream",
     "text": [
      "{'name': 'suhsil', 'age': 19, 'grade': 24}\n",
      "<class 'dict'>\n"
     ]
    }
   ],
   "source": [
    "student = {\"name\": \"suhsil\", \"age\": 19, \"grade\": 24}\n",
    "print(student)\n",
    "print(type(student))"
   ]
  },
  {
   "cell_type": "code",
   "execution_count": 17,
   "id": "63624b58-73c5-489f-aa66-09a5c86be927",
   "metadata": {},
   "outputs": [
    {
     "name": "stdout",
     "output_type": "stream",
     "text": [
      "{'name': 24, 'age': 19}\n"
     ]
    }
   ],
   "source": [
    "# Single key isalways used\n",
    "student = {\"name\": \"suhsil\", \"age\": 19, \"name\": 24}\n",
    "print(student)"
   ]
  },
  {
   "cell_type": "code",
   "execution_count": 18,
   "id": "3b50e36f-bc94-4c10-8611-754c476f051b",
   "metadata": {},
   "outputs": [
    {
     "name": "stdout",
     "output_type": "stream",
     "text": [
      "A\n",
      "19\n",
      "suhsil\n"
     ]
    }
   ],
   "source": [
    "## Accesing dictionary elements\n",
    "student = {\"name\": \"suhsil\", \"age\": 19, \"grade\": \"A\"}\n",
    "print(student['grade'])\n",
    "print(student['age'])\n",
    "print(student['name'])"
   ]
  },
  {
   "cell_type": "code",
   "execution_count": 19,
   "id": "ee126e5f-d0d0-4575-80b8-8dba2ad009ab",
   "metadata": {},
   "outputs": [
    {
     "name": "stdout",
     "output_type": "stream",
     "text": [
      "A\n",
      "None\n",
      "Not avaiable\n"
     ]
    }
   ],
   "source": [
    "## Accesing dictionary element using get() method\n",
    "print(student.get('grade'))\n",
    "print(student.get('last_name'))\n",
    "print(student.get('last_name',\"Not avaiable\"))"
   ]
  },
  {
   "cell_type": "code",
   "execution_count": 20,
   "id": "61e5ae61-64d3-4b9c-86b3-22c693a145f0",
   "metadata": {},
   "outputs": [
    {
     "name": "stdout",
     "output_type": "stream",
     "text": [
      "{'name': 'suhsil', 'age': 21, 'grade': 'A'}\n",
      "{'name': 'suhsil', 'age': 21, 'grade': 'A', 'address': 'surat'}\n"
     ]
    }
   ],
   "source": [
    "## MOdifying dictionary elements\n",
    "# Dictionary are mutable, so you add, update, or delete elements\n",
    "student['age'] = 21 # update value for the key\n",
    "print(student)\n",
    "student['address'] = \"surat\" # added a new key and value\n",
    "print(student)\n"
   ]
  },
  {
   "cell_type": "code",
   "execution_count": 21,
   "id": "2f88217e-02c3-4295-a4d4-dfcbe750cf98",
   "metadata": {},
   "outputs": [
    {
     "name": "stdout",
     "output_type": "stream",
     "text": [
      "{'name': 'suhsil', 'age': 21, 'address': 'surat'}\n"
     ]
    }
   ],
   "source": [
    "del student['grade'] # delete key and value pair\n",
    "print(student)"
   ]
  },
  {
   "cell_type": "code",
   "execution_count": 23,
   "id": "fc7ea5b3-0e57-4b8f-a87b-f35000ed6068",
   "metadata": {},
   "outputs": [
    {
     "name": "stdout",
     "output_type": "stream",
     "text": [
      "dict_keys(['name', 'age', 'address'])\n",
      "dict_values(['suhsil', 21, 'surat'])\n",
      "dict_items([('name', 'suhsil'), ('age', 21), ('address', 'surat')])\n"
     ]
    }
   ],
   "source": [
    "## Dictionary methods \n",
    "\n",
    "keys = student.keys() # get all the keys\n",
    "print(keys)\n",
    "\n",
    "values = student.values() # get the the values\n",
    "print(values)\n",
    "\n",
    "items = student.items() # get all key value pairs\n",
    "print(items)"
   ]
  },
  {
   "cell_type": "code",
   "execution_count": 31,
   "id": "7598d672-680f-4161-9bfd-cf942e153d5f",
   "metadata": {},
   "outputs": [
    {
     "name": "stdout",
     "output_type": "stream",
     "text": [
      "{'name': 'Krish', 'age': 19, 'grade': 'A'}\n",
      "{'name': 'suhsil', 'age': 19, 'grade': 'A'}\n",
      "{'name': 'Krish', 'age': 19, 'grade': 'A'}\n"
     ]
    }
   ],
   "source": [
    "## shallow copy\n",
    "student = {\"name\": \"suhsil\", \"age\": 19, \"grade\": \"A\"}\n",
    "student_copy = student.copy() # shallow copy\n",
    "student_copy1 = student # Deep copy\n",
    "student['name'] = 'Krish'\n",
    "print(student)\n",
    "print(student_copy)\n",
    "print(student_copy1)"
   ]
  },
  {
   "cell_type": "code",
   "execution_count": 46,
   "id": "890bf3f7-5af3-4b36-9675-7f149e7dcbcf",
   "metadata": {},
   "outputs": [
    {
     "data": {
      "text/plain": [
       "dict_items([('name', 'Krish'), ('age', 19), ('grade', 'A')])"
      ]
     },
     "execution_count": 46,
     "metadata": {},
     "output_type": "execute_result"
    }
   ],
   "source": [
    "student.items()"
   ]
  },
  {
   "cell_type": "code",
   "execution_count": 38,
   "id": "ccc2c0d8-c7bc-409d-a63a-0fe93e7c07b9",
   "metadata": {},
   "outputs": [
    {
     "name": "stdout",
     "output_type": "stream",
     "text": [
      "name\n",
      "age\n",
      "grade\n",
      "Krish\n",
      "19\n",
      "A\n",
      "name:Krish\n",
      "age:19\n",
      "grade:A\n",
      "name : Krish\n",
      "age : 19\n",
      "grade : A\n"
     ]
    }
   ],
   "source": [
    "## Itrating over Dictionary\n",
    "# We can use loops to itrative\n",
    "\n",
    "# Iterate over keys\n",
    "for i in student.keys():\n",
    "    print(i)\n",
    "\n",
    "# Iterate over values\n",
    "for i in student.values():\n",
    "    print(i)\n",
    "\n",
    "# Iterate key value pair\n",
    "for key,value in student.items():\n",
    "    print(f\"{key}:{value}\")\n",
    "\n",
    "for i in student:\n",
    "    print(f\"{i} : {student[i]}\")"
   ]
  },
  {
   "cell_type": "code",
   "execution_count": 39,
   "id": "460feb2f-2dde-4e48-a7a3-f0bb4a6da7d4",
   "metadata": {},
   "outputs": [
    {
     "name": "stdout",
     "output_type": "stream",
     "text": [
      "{'student1': {'name': 'sushil', 'age': 19}, 'student2': {'name': 'krish', 'age': 32}}\n"
     ]
    }
   ],
   "source": [
    "## Nested Dictionary\n",
    "students = {\n",
    "    \"student1\": {\"name\": \"sushil\", \"age\": 19},\n",
    "    \"student2\": {\"name\": \"krish\", \"age\": 32}\n",
    "}\n",
    "print(students)"
   ]
  },
  {
   "cell_type": "code",
   "execution_count": 42,
   "id": "9906ddd1-4840-4b57-b8a6-edbdf8380fc9",
   "metadata": {},
   "outputs": [
    {
     "name": "stdout",
     "output_type": "stream",
     "text": [
      "krish\n",
      "32\n"
     ]
    }
   ],
   "source": [
    "## Access nested Dictionary elements\n",
    "print(students['student2']['name'])\n",
    "print(students['student2']['age'])"
   ]
  },
  {
   "cell_type": "code",
   "execution_count": 43,
   "id": "07541350-3ed7-4460-8a2b-76fff6d4569a",
   "metadata": {},
   "outputs": [
    {
     "name": "stdout",
     "output_type": "stream",
     "text": [
      "dict_items([('student1', {'name': 'sushil', 'age': 19}), ('student2', {'name': 'krish', 'age': 32})])\n"
     ]
    }
   ],
   "source": [
    "print(students.items())"
   ]
  },
  {
   "cell_type": "code",
   "execution_count": 76,
   "id": "54de40e0-2a8d-47a6-9f15-25ec44fc3c4c",
   "metadata": {},
   "outputs": [
    {
     "name": "stdout",
     "output_type": "stream",
     "text": [
      "student1 : {'name': 'sushil', 'age': 19}\n",
      "name:sushil\n",
      "age:19\n",
      "student2 : {'name': 'krish', 'age': 32}\n",
      "name:krish\n",
      "age:32\n"
     ]
    }
   ],
   "source": [
    "## Iterating over nested dictionary\n",
    "\n",
    "for student_id, student_info in students.items():\n",
    "    print(f\"{student_id} : {student_info}\")\n",
    "    for key,value in student_info.items():\n",
    "        print(f\"{key}:{value}\")"
   ]
  },
  {
   "cell_type": "code",
   "execution_count": 54,
   "id": "69059385-ffbc-4777-ad25-d6ba39ce26bb",
   "metadata": {},
   "outputs": [
    {
     "name": "stdout",
     "output_type": "stream",
     "text": [
      "{0: 0, 1: 1, 2: 4, 3: 9, 4: 16}\n",
      "<class 'dict'>\n"
     ]
    }
   ],
   "source": [
    "## Dictionry Comphrehension\n",
    "squares = {x:x**2 for x in range(5)}\n",
    "print(squares)\n",
    "print(type(squares))"
   ]
  },
  {
   "cell_type": "code",
   "execution_count": 55,
   "id": "917e127e-8c97-483a-906e-44321eb596ed",
   "metadata": {},
   "outputs": [
    {
     "name": "stdout",
     "output_type": "stream",
     "text": [
      "{0: 0, 2: 4, 4: 16, 6: 36, 8: 64}\n",
      "<class 'dict'>\n"
     ]
    }
   ],
   "source": [
    "## Conditional dictionary comphrension\n",
    "evens = {x:x**2 for x in range(10) if x%2 == 0}\n",
    "print(evens)\n",
    "print(type(evens))"
   ]
  },
  {
   "cell_type": "code",
   "execution_count": 69,
   "id": "eb1ad143-097d-4796-ae51-eb830c7386c0",
   "metadata": {},
   "outputs": [
    {
     "name": "stdout",
     "output_type": "stream",
     "text": [
      "{1: 1, 2: 2, 3: 3, 4: 4}\n"
     ]
    }
   ],
   "source": [
    "## Practical Example\n",
    "\n",
    "# Use a dictionary to count frequency of elements in list\n",
    "\n",
    "numbers = [1,2,2,3,3,3,4,4,4,4]\n",
    "frequency ={}\n",
    "for i in numbers:\n",
    "    if i in frequency:\n",
    "        frequency[i] += 1\n",
    "    else:\n",
    "        frequency[i] = 1\n",
    "\n",
    "print(frequency)"
   ]
  },
  {
   "cell_type": "code",
   "execution_count": 74,
   "id": "69f5aa5d-9759-4c67-b873-f4d409ab5a80",
   "metadata": {},
   "outputs": [
    {
     "name": "stdout",
     "output_type": "stream",
     "text": [
      "{'a': 1, 'b': 3, 'c': 4}\n"
     ]
    }
   ],
   "source": [
    "## Merge 2 dictionaries into one\n",
    "d1 = {\"a\": 1, \"b\": 2}\n",
    "d2 = {\"b\": 3, \"c\": 4}\n",
    "merged_dict = {**d1,**d2}\n",
    "print(merged_dict)"
   ]
  },
  {
   "cell_type": "code",
   "execution_count": null,
   "id": "287cbca4-106e-4ea3-9073-a77e14ba4a4e",
   "metadata": {},
   "outputs": [],
   "source": []
  }
 ],
 "metadata": {
  "kernelspec": {
   "display_name": "Python 3 (ipykernel)",
   "language": "python",
   "name": "python3"
  },
  "language_info": {
   "codemirror_mode": {
    "name": "ipython",
    "version": 3
   },
   "file_extension": ".py",
   "mimetype": "text/x-python",
   "name": "python",
   "nbconvert_exporter": "python",
   "pygments_lexer": "ipython3",
   "version": "3.10.11"
  }
 },
 "nbformat": 4,
 "nbformat_minor": 5
}
