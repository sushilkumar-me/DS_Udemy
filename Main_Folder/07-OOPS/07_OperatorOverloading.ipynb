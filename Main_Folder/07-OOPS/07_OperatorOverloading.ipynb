{
 "cells": [
  {
   "cell_type": "markdown",
   "id": "5d611b27-95d4-4599-84fe-f52d3824a274",
   "metadata": {},
   "source": [
    "# Operator Overloading"
   ]
  },
  {
   "cell_type": "markdown",
   "id": "458c7001-fbfc-4d1c-aaf0-53cb86212586",
   "metadata": {},
   "source": [
    "Operator overloading allows you to define the behavior of operators (+, -, *, etc.) for custom \n",
    "object. You achive this by overriding specific magic methods in your class"
   ]
  },
  {
   "cell_type": "code",
   "execution_count": 1,
   "id": "a99af79f-8642-4cb6-8057-ed7a1a863b25",
   "metadata": {},
   "outputs": [
    {
     "data": {
      "text/plain": [
       "'\\n__add__(self, other): Adds two objects using the + operator.\\n__sub__(self, other): Subtracts two objects using the - operators.\\n__mul__(self, other): Multiplies two objects using the * operators.\\n__truediv__(self, other): Divides two objects are equal using the / operators.\\n__eq__(self, other): Checks if two objects are equal using the == operators.\\n__it__(self, other): Checks if one object is less than another using the < operator.\\n__get__(self, other): greater than\\n'"
      ]
     },
     "execution_count": 1,
     "metadata": {},
     "output_type": "execute_result"
    }
   ],
   "source": [
    "#### Common Operator Overloading Magic Methods\n",
    "'''\n",
    "__add__(self, other): Adds two objects using the + operator.\n",
    "__sub__(self, other): Subtracts two objects using the - operators.\n",
    "__mul__(self, other): Multiplies two objects using the * operators.\n",
    "__truediv__(self, other): Divides two objects are equal using the / operators.\n",
    "__eq__(self, other): Checks if two objects are equal using the == operators.\n",
    "__it__(self, other): Checks if one object is less than another using the < operator.\n",
    "__get__(self, other): greater than\n",
    "'''"
   ]
  },
  {
   "cell_type": "code",
   "execution_count": 5,
   "id": "945cd069-a089-4d05-9f28-e21c9c842f5e",
   "metadata": {},
   "outputs": [
    {
     "name": "stdout",
     "output_type": "stream",
     "text": [
      "Vector(6, 8)\n",
      "Vector(-2, -2)\n",
      "Vector(8, 15)\n",
      "False\n"
     ]
    }
   ],
   "source": [
    "class Vector: \n",
    "    def __init__(self, x, y): \n",
    "        self.x = x\n",
    "        self.y =y \n",
    "\n",
    "    def __add__(self, other): \n",
    "        return Vector(self.x + other.x, self.y + other.y)\n",
    "\n",
    "    def __sub__(self, other): \n",
    "        return Vector(self.x - other.x, self.y - other.y)\n",
    "\n",
    "    def __mul__(self, other): \n",
    "        return Vector(self.x * other.x, self.y * other.y)\n",
    "\n",
    "    def __eq__(self, other): \n",
    "        return self.x == other.x and self.y == other.y\n",
    "\n",
    "    def __repr__(self): \n",
    "        return f\"Vector({self.x}, {self.y})\"\n",
    "\n",
    "## Create the objects of the Vector class\n",
    "v1 = Vector(2,3)\n",
    "v2 = Vector(4,5)\n",
    "\n",
    "print(v1+v2)\n",
    "print(v1-v2)\n",
    "print(v1*v2)\n",
    "print(v1 == v2)\n",
    "print()"
   ]
  },
  {
   "cell_type": "code",
   "execution_count": null,
   "id": "8a7f5771-595b-414a-8a98-e557a90b9715",
   "metadata": {},
   "outputs": [],
   "source": [
    "### Overloading operators for Complex numbers"
   ]
  }
 ],
 "metadata": {
  "kernelspec": {
   "display_name": "Python 3 (ipykernel)",
   "language": "python",
   "name": "python3"
  },
  "language_info": {
   "codemirror_mode": {
    "name": "ipython",
    "version": 3
   },
   "file_extension": ".py",
   "mimetype": "text/x-python",
   "name": "python",
   "nbconvert_exporter": "python",
   "pygments_lexer": "ipython3",
   "version": "3.10.11"
  }
 },
 "nbformat": 4,
 "nbformat_minor": 5
}
