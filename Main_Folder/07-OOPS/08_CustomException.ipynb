{
 "cells": [
  {
   "cell_type": "markdown",
   "id": "d92c4c1f-9bd4-48ca-94f6-1b26f7638096",
   "metadata": {},
   "source": [
    "# Custom Exception (Raise and Throw an exception)"
   ]
  },
  {
   "cell_type": "code",
   "execution_count": 1,
   "id": "c816ffe8-a0c9-4b22-b6ab-ae3fef1e71ae",
   "metadata": {},
   "outputs": [],
   "source": [
    "class Error(Exception): \n",
    "    pass \n",
    "\n",
    "class dobException(Error): \n",
    "    pass \n",
    "\n",
    "    "
   ]
  },
  {
   "cell_type": "code",
   "execution_count": 7,
   "id": "d41eea68-ef32-4894-8989-b68cb9454171",
   "metadata": {},
   "outputs": [
    {
     "name": "stdin",
     "output_type": "stream",
     "text": [
      "Enter the dob 2000\n"
     ]
    },
    {
     "name": "stdout",
     "output_type": "stream",
     "text": [
      "The age is valid so you can apply for exam\n"
     ]
    }
   ],
   "source": [
    "year = int(input(\"Enter the dob\"))\n",
    "age = 2024- year \n",
    "\n",
    "try:\n",
    "    if age <= 30 and age >= 20: \n",
    "        print(\"The age is valid so you can apply for exam\")\n",
    "    else: \n",
    "        raise dobException\n",
    "\n",
    "except dobException: \n",
    "    print(\"Sorry, your age should be gretaer than 20 and less than 30\")"
   ]
  },
  {
   "cell_type": "code",
   "execution_count": null,
   "id": "ecf5d3f6-c1a9-496f-bdc8-2717f025dca4",
   "metadata": {},
   "outputs": [],
   "source": []
  }
 ],
 "metadata": {
  "kernelspec": {
   "display_name": "Python 3 (ipykernel)",
   "language": "python",
   "name": "python3"
  },
  "language_info": {
   "codemirror_mode": {
    "name": "ipython",
    "version": 3
   },
   "file_extension": ".py",
   "mimetype": "text/x-python",
   "name": "python",
   "nbconvert_exporter": "python",
   "pygments_lexer": "ipython3",
   "version": "3.10.11"
  }
 },
 "nbformat": 4,
 "nbformat_minor": 5
}
