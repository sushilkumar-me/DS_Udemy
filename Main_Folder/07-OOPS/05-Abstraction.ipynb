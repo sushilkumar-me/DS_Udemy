{
 "cells": [
  {
   "cell_type": "markdown",
   "id": "383cd12c-3691-49e8-bd77-254071d615ef",
   "metadata": {},
   "source": [
    "# Abstraction"
   ]
  },
  {
   "cell_type": "markdown",
   "id": "551a838a-a71a-40d8-a4ca-926008d6312e",
   "metadata": {},
   "source": [
    "Abstraction is the concept of hiding the complex implementation details and showing only necessary features of an object. This help in reducing programming complexity and effort."
   ]
  },
  {
   "cell_type": "code",
   "execution_count": 2,
   "id": "74e43e33-e4f2-4ddd-883e-5328168d6c38",
   "metadata": {},
   "outputs": [
    {
     "name": "stdout",
     "output_type": "stream",
     "text": [
      "Car engine started\n",
      "The vichicle is used for driving\n"
     ]
    }
   ],
   "source": [
    "from abc import ABC, abstractmethod \n",
    "\n",
    "## abstract base class \n",
    "class Vehicle(ABC):\n",
    "    def drive(self): \n",
    "        print(\"The vichicle is used for driving\")\n",
    "\n",
    "    @abstractmethod \n",
    "    def start_engine(self): \n",
    "        pass \n",
    "\n",
    "class Car(Vehicle):\n",
    "    def start_engine(self):\n",
    "        print(\"Car engine started\")\n",
    "\n",
    "def operate_vechile(vehicle):\n",
    "    vehicle.start_engine()\n",
    "    vehicle.drive()\n",
    "\n",
    "car = Car()\n",
    "operate_vechile(car)"
   ]
  },
  {
   "cell_type": "code",
   "execution_count": null,
   "id": "920230b1-f93f-404f-9f75-340dc07c95a1",
   "metadata": {},
   "outputs": [],
   "source": []
  }
 ],
 "metadata": {
  "kernelspec": {
   "display_name": "Python 3 (ipykernel)",
   "language": "python",
   "name": "python3"
  },
  "language_info": {
   "codemirror_mode": {
    "name": "ipython",
    "version": 3
   },
   "file_extension": ".py",
   "mimetype": "text/x-python",
   "name": "python",
   "nbconvert_exporter": "python",
   "pygments_lexer": "ipython3",
   "version": "3.10.11"
  }
 },
 "nbformat": 4,
 "nbformat_minor": 5
}
