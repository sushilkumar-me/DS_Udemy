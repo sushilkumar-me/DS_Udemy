{
 "cells": [
  {
   "cell_type": "code",
   "execution_count": 1,
   "id": "0936826b-ae26-4775-9ce7-de6701757433",
   "metadata": {},
   "outputs": [
    {
     "name": "stdout",
     "output_type": "stream",
     "text": [
      "<class '__main__.Car'>\n",
      "<class 'type'>\n"
     ]
    }
   ],
   "source": [
    "class Car:\n",
    "    pass\n",
    "\n",
    "audi = Car()\n",
    "bmw = Car()\n",
    "print(type(audi))\n",
    "print(type(Car))"
   ]
  },
  {
   "cell_type": "code",
   "execution_count": 2,
   "id": "86cbaf52-9767-4c5c-9b7d-5a275db76e08",
   "metadata": {},
   "outputs": [
    {
     "name": "stdout",
     "output_type": "stream",
     "text": [
      "<__main__.Car object at 0x0000029B3A883EE0>\n",
      "<__main__.Car object at 0x0000029B3A881210>\n",
      "<class '__main__.Car'>\n"
     ]
    }
   ],
   "source": [
    "print(audi)\n",
    "print(bmw)\n",
    "print(Car)"
   ]
  },
  {
   "cell_type": "code",
   "execution_count": 3,
   "id": "924108fd-e0a7-434b-88ea-d8f92b6ea77c",
   "metadata": {},
   "outputs": [
    {
     "name": "stdout",
     "output_type": "stream",
     "text": [
      "4\n"
     ]
    }
   ],
   "source": [
    "audi.windows = 4\n",
    "print(audi.windows)"
   ]
  },
  {
   "cell_type": "code",
   "execution_count": 7,
   "id": "7c48bc8a-4999-4dae-b03c-b92712860c6b",
   "metadata": {},
   "outputs": [
    {
     "name": "stdout",
     "output_type": "stream",
     "text": [
      "<__main__.Dog object at 0x0000029B3B63BF70>\n",
      "sushil\n",
      "19\n"
     ]
    }
   ],
   "source": [
    "## Instanve Varibale and Methods\n",
    "\n",
    "class Dog:\n",
    "    # Constructor\n",
    "    def __init__(self, name, age):\n",
    "        self.name = name\n",
    "        self.age = age\n",
    "\n",
    "\n",
    "# Create the object\n",
    "\n",
    "dog1 = Dog('sushil', 19)\n",
    "\n",
    "print(dog1)\n",
    "print(dog1.name)\n",
    "print(dog1.age)"
   ]
  },
  {
   "cell_type": "code",
   "execution_count": 13,
   "id": "869bc108-2e3e-401d-86e8-5b9f6d521bd6",
   "metadata": {},
   "outputs": [
    {
     "name": "stdout",
     "output_type": "stream",
     "text": [
      "Buddy says woof\n",
      "Luccy says woof\n"
     ]
    }
   ],
   "source": [
    "## Define a class with instance methods\n",
    "\n",
    "class Dog:\n",
    "    def __init__(self, name, age):\n",
    "        self.name = name\n",
    "        self.age = age\n",
    "\n",
    "    def bark(self):\n",
    "        print(f\"{self.name} says woof\")\n",
    "\n",
    "\n",
    "dog1 = Dog(\"Buddy\", 3)\n",
    "dog1.bark()\n",
    "dog2 = Dog(\"Luccy\", 4)\n",
    "dog2.bark()"
   ]
  },
  {
   "cell_type": "code",
   "execution_count": 18,
   "id": "b6eb4d94-b5d3-47bc-b1cf-2f997978bd65",
   "metadata": {},
   "outputs": [
    {
     "name": "stdout",
     "output_type": "stream",
     "text": [
      "Amount is Deposited new balance is: 3000\n",
      "200 is withdrawn. New Balance is: 2800\n",
      "Your currnet balance is: 2800\n"
     ]
    }
   ],
   "source": [
    "## Modling a Bank Account \n",
    "\n",
    "## Define a class for bank account \n",
    "class BankAccount:\n",
    "    def __init__(self, owner, balance=0):\n",
    "        self.owner = owner \n",
    "        self.balance = balance\n",
    "\n",
    "    def deposit(self, amount):\n",
    "        self.balance += amount \n",
    "        print(f\"Amount is Deposited new balance is: {self.balance}\")\n",
    "\n",
    "    def withdraw(self, amount):\n",
    "        if amount > self.balance:\n",
    "            print(\"Insufficient funds!\")\n",
    "        else:\n",
    "            self.balance -= amount\n",
    "            print(f\"{amount} is withdrawn. New Balance is: {self.balance}\")\n",
    "\n",
    "    def get_balance(self):\n",
    "        print(f\"Your currnet balance is: {self.balance}\")\n",
    "\n",
    "# Create an object\n",
    "\n",
    "obj = BankAccount(\"Sushil\", 1000)\n",
    "obj.deposit(2000)\n",
    "obj.withdraw(200)\n",
    "obj.get_balance()"
   ]
  },
  {
   "cell_type": "code",
   "execution_count": 20,
   "id": "3f150ad5-4897-42bd-90a6-aeae7cfd9cab",
   "metadata": {},
   "outputs": [
    {
     "name": "stdout",
     "output_type": "stream",
     "text": [
      "Your currnet balance is: 1\n"
     ]
    }
   ],
   "source": [
    "account = BankAccount(\"Sushil\", 1)\n",
    "account.get_balance()"
   ]
  },
  {
   "cell_type": "code",
   "execution_count": null,
   "id": "ca65fc7b-4512-4c91-8ad9-a28b145f4855",
   "metadata": {},
   "outputs": [],
   "source": []
  }
 ],
 "metadata": {
  "kernelspec": {
   "display_name": "Python 3 (ipykernel)",
   "language": "python",
   "name": "python3"
  },
  "language_info": {
   "codemirror_mode": {
    "name": "ipython",
    "version": 3
   },
   "file_extension": ".py",
   "mimetype": "text/x-python",
   "name": "python",
   "nbconvert_exporter": "python",
   "pygments_lexer": "ipython3",
   "version": "3.10.11"
  }
 },
 "nbformat": 4,
 "nbformat_minor": 5
}
