{
 "cells": [
  {
   "cell_type": "markdown",
   "id": "2c8c4b32-e720-406d-97a8-c108d81852ee",
   "metadata": {},
   "source": [
    "# Polymorphism"
   ]
  },
  {
   "cell_type": "markdown",
   "id": "8268bc6c-6917-48f1-ad77-bc37afaef396",
   "metadata": {},
   "source": [
    "## Methhos overriding\n",
    "Method overriding allows a child class to provide a specific implementation of a method that is already defined in its parent class"
   ]
  },
  {
   "cell_type": "code",
   "execution_count": 4,
   "id": "f4308072-3ff2-4f7d-8fab-b62c9679ed67",
   "metadata": {},
   "outputs": [
    {
     "name": "stdout",
     "output_type": "stream",
     "text": [
      "Woof!\n",
      "Meow!\n",
      "Woof!\n"
     ]
    }
   ],
   "source": [
    "### Method Overriding\n",
    "\n",
    "## Base class\n",
    "class Animal:\n",
    "    def speak(self):\n",
    "        return \"Sound of the animal\"\n",
    "\n",
    "## Derived class 1\n",
    "class Dog(Animal):\n",
    "    def speak(self):\n",
    "        return \"Woof!\"\n",
    "\n",
    "## Derived class 2\n",
    "class Cat(Animal):\n",
    "    def speak(self):\n",
    "        return \"Meow!\"\n",
    "\n",
    "## Function that demonstrates polymorphsim\n",
    "def animal_speak(animal):\n",
    "    print(animal.speak())\n",
    "\n",
    "dog = Dog()\n",
    "cat = Cat()\n",
    "print(dog.speak())\n",
    "print(cat.speak())\n",
    "animal_speak(dog)"
   ]
  },
  {
   "cell_type": "code",
   "execution_count": 6,
   "id": "0cb6068d-2f71-448c-8cf1-25686fb4a752",
   "metadata": {},
   "outputs": [
    {
     "name": "stdout",
     "output_type": "stream",
     "text": [
      "The area is: 20\n",
      "The area is: 28.26\n"
     ]
    }
   ],
   "source": [
    "### Polymorphism with functions and methods \n",
    "## Base class\n",
    "class Shape:\n",
    "    def area(self):\n",
    "        return \"The area of the figure\"\n",
    "\n",
    "## Deriveed class 1\n",
    "class Rectangle(Shape):\n",
    "    def __init__(self, width, height):\n",
    "        self.width = width\n",
    "        self.height = height \n",
    "\n",
    "    def area(self):\n",
    "        return self.width * self.height\n",
    "\n",
    "## Derived class 2\n",
    "class Circle(Shape):\n",
    "    def __init__(self, radius):\n",
    "        self.radius = radius\n",
    "\n",
    "    def area(self):\n",
    "        return 3.14 * self.radius **2\n",
    "\n",
    "## Function that demostrate polymorphism \n",
    "def print_area(shape):\n",
    "    print(f\"The area is: {shape.area()}\")\n",
    "\n",
    "rectangle = Rectangle(4,5)\n",
    "circle = Circle(3)\n",
    "print_area(rectangle)\n",
    "print_area(circle)"
   ]
  },
  {
   "cell_type": "markdown",
   "id": "82054bdd-f494-4b21-9780-b5c80bbc77b2",
   "metadata": {},
   "source": [
    "# Polymorphism with Abstract Base Classes\n",
    "\n",
    "#### Abstract Base Class (ABCs) are used yo define common methods for a group of related objects. They can enforce that derived classes implement particular methods, promoting consisency across different implementations. "
   ]
  },
  {
   "cell_type": "code",
   "execution_count": 9,
   "id": "ab973412-813f-469a-b6d7-83073f6c2d6e",
   "metadata": {},
   "outputs": [
    {
     "name": "stdout",
     "output_type": "stream",
     "text": [
      "Car Engine start\n",
      "Motorcycle engine start\n"
     ]
    }
   ],
   "source": [
    "from abc import ABC, abstractmethod\n",
    "\n",
    "\n",
    "class Vehicle:\n",
    "    @abstractmethod\n",
    "    def start_engine(self):\n",
    "        pass\n",
    "\n",
    "class Car(Vehicle):\n",
    "    def start_engine(self):\n",
    "        return \"Car Engine start\"\n",
    "\n",
    "class Motorcycle(Vehicle):\n",
    "    def start_engine(self):\n",
    "        return \"Motorcycle engine start\"\n",
    "\n",
    "## Function that demonstrate polymorphism \n",
    "def start_vehicle(vechile): \n",
    "    print(vechile.start_engine())\n",
    "\n",
    "## Create object of Car and Motorcycle \n",
    "\n",
    "car = Car()\n",
    "motorcycle = Motorcycle()\n",
    "\n",
    "start_vehicle(car) \n",
    "start_vehicle(motorcycle)"
   ]
  },
  {
   "cell_type": "code",
   "execution_count": null,
   "id": "3fe3b0b0-fe7c-499a-8762-03cbfacc8568",
   "metadata": {},
   "outputs": [],
   "source": []
  }
 ],
 "metadata": {
  "kernelspec": {
   "display_name": "Python 3 (ipykernel)",
   "language": "python",
   "name": "python3"
  },
  "language_info": {
   "codemirror_mode": {
    "name": "ipython",
    "version": 3
   },
   "file_extension": ".py",
   "mimetype": "text/x-python",
   "name": "python",
   "nbconvert_exporter": "python",
   "pygments_lexer": "ipython3",
   "version": "3.10.11"
  }
 },
 "nbformat": 4,
 "nbformat_minor": 5
}
