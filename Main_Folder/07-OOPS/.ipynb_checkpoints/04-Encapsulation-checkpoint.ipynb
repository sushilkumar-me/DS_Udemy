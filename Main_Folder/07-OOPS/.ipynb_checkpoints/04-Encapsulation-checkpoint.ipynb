{
 "cells": [
  {
   "cell_type": "markdown",
   "id": "e1ada3b9-8185-4b21-b2dc-760683ac462c",
   "metadata": {},
   "source": [
    "# Encapsulation"
   ]
  },
  {
   "cell_type": "code",
   "execution_count": 11,
   "id": "f1575f6d-c39c-4dfe-b8a1-3b33559abc49",
   "metadata": {},
   "outputs": [
    {
     "name": "stdout",
     "output_type": "stream",
     "text": [
      "Sushil\n",
      "19\n",
      "Male\n"
     ]
    }
   ],
   "source": [
    "## Encapsulation with Getter and setter method \n",
    "## public, protected, private variables or access modifiers\n",
    "\n",
    "class Person:\n",
    "    def __init__(self, name, age, gender): \n",
    "        self.name = name # public variable\n",
    "        self._age = age # protected variable \n",
    "        self.__gender = gender # private variable\n",
    "\n",
    "# public variable calling\n",
    "def get_name(person): \n",
    "    return person.name\n",
    "\n",
    "# protected variable calling\n",
    "def get_age(person): \n",
    "    return person._age\n",
    "\n",
    "# private variable calling\n",
    "def get_gender(person):\n",
    "    return person._Person__gender\n",
    "\n",
    "\n",
    "\n",
    "\n",
    "    \n",
    "person = Person(\"Sushil\", 19, \"Male\")\n",
    "print(get_name(person))\n",
    "print(get_age(person))\n",
    "print(get_gender(person))\n"
   ]
  },
  {
   "cell_type": "code",
   "execution_count": 21,
   "id": "48689fec-067d-425a-b660-187c9cc05eb9",
   "metadata": {},
   "outputs": [
    {
     "name": "stdout",
     "output_type": "stream",
     "text": [
      "sushil\n",
      "19\n",
      "Age cannot be negative.\n",
      "19\n"
     ]
    }
   ],
   "source": [
    "## Encapulation with Getter and Setter method \n",
    "\n",
    "class Person: \n",
    "    def __init__(self, name, age):\n",
    "        self.__name = name # Private access modifier or variable\n",
    "        self.__age = age # Private Variable\n",
    "\n",
    "    ## getter method for name\n",
    "    def get_name(self): \n",
    "        return self.__name \n",
    "\n",
    "    ## setter method for name \n",
    "    def set_name(self, name): \n",
    "        self.__name = name \n",
    "\n",
    "    ## getter method for age\n",
    "    def get_age(self):\n",
    "        return self.__age \n",
    "\n",
    "    ## setter method for age\n",
    "    def set_age(self, age):\n",
    "        if age < 0:\n",
    "            self.__age = age\n",
    "        else: \n",
    "            print(\"Age cannot be negative.\")\n",
    "\n",
    "person = Person(\"sushil\", 19)\n",
    "print(person.get_name())\n",
    "print(person.get_age()) \n",
    "\n",
    "# person.set_name(\"Akash\")\n",
    "# print(person.get_age())\n",
    "\n",
    "person.set_age(20)\n",
    "print(person.get_age())\n",
    "\n",
    "# person.set_age(-1)"
   ]
  },
  {
   "cell_type": "code",
   "execution_count": null,
   "id": "09698dbf-ebc6-4510-879a-a4864c509b34",
   "metadata": {},
   "outputs": [],
   "source": []
  }
 ],
 "metadata": {
  "kernelspec": {
   "display_name": "Python 3 (ipykernel)",
   "language": "python",
   "name": "python3"
  },
  "language_info": {
   "codemirror_mode": {
    "name": "ipython",
    "version": 3
   },
   "file_extension": ".py",
   "mimetype": "text/x-python",
   "name": "python",
   "nbconvert_exporter": "python",
   "pygments_lexer": "ipython3",
   "version": "3.10.11"
  }
 },
 "nbformat": 4,
 "nbformat_minor": 5
}
