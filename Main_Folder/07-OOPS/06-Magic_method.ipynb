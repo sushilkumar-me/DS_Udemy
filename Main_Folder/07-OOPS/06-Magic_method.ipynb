{
 "cells": [
  {
   "cell_type": "markdown",
   "id": "0773e710-229d-4565-a23c-3b3c5de0e662",
   "metadata": {},
   "source": [
    "# Magic Methods"
   ]
  },
  {
   "cell_type": "markdown",
   "id": "6acb7401-e8b7-450e-802d-b7da2d21625c",
   "metadata": {},
   "source": [
    "Magic methods in Python, also known as dunder methods(double underscore methods), are special methods that start and end with double underscores. These methods enable you to define the behavior of objects for built-in operations, such as arithmetic operations, comparisions, and more.\n"
   ]
  },
  {
   "cell_type": "code",
   "execution_count": 1,
   "id": "e0cabb25-d56f-454f-aebf-56332d432c82",
   "metadata": {},
   "outputs": [
    {
     "data": {
      "text/plain": [
       "'\\n__init__: Initialize a new instance of a class\\n__str__: Returns a string representation of an object\\n__repr__: Returns an official string representaion of an object\\n__len__: Returns the length of an object\\n__getitem__: Gets an item from a container\\n__setitem__: Sets an item ina container\\n'"
      ]
     },
     "execution_count": 1,
     "metadata": {},
     "output_type": "execute_result"
    }
   ],
   "source": [
    "'''\n",
    "__init__: Initialize a new instance of a class\n",
    "__str__: Returns a string representation of an object\n",
    "__repr__: Returns an official string representaion of an object\n",
    "__len__: Returns the length of an object\n",
    "__getitem__: Gets an item from a container\n",
    "__setitem__: Sets an item ina container\n",
    "'''"
   ]
  },
  {
   "cell_type": "code",
   "execution_count": 2,
   "id": "173edade-0ad0-4a98-8ac7-95d0119ff4de",
   "metadata": {},
   "outputs": [
    {
     "data": {
      "text/plain": [
       "['__class__',\n",
       " '__delattr__',\n",
       " '__dict__',\n",
       " '__dir__',\n",
       " '__doc__',\n",
       " '__eq__',\n",
       " '__format__',\n",
       " '__ge__',\n",
       " '__getattribute__',\n",
       " '__gt__',\n",
       " '__hash__',\n",
       " '__init__',\n",
       " '__init_subclass__',\n",
       " '__le__',\n",
       " '__lt__',\n",
       " '__module__',\n",
       " '__ne__',\n",
       " '__new__',\n",
       " '__reduce__',\n",
       " '__reduce_ex__',\n",
       " '__repr__',\n",
       " '__setattr__',\n",
       " '__sizeof__',\n",
       " '__str__',\n",
       " '__subclasshook__',\n",
       " '__weakref__']"
      ]
     },
     "execution_count": 2,
     "metadata": {},
     "output_type": "execute_result"
    }
   ],
   "source": [
    "class Person: \n",
    "    pass \n",
    "\n",
    "person = Person()\n",
    "dir(person)"
   ]
  },
  {
   "cell_type": "code",
   "execution_count": 3,
   "id": "23dc36c4-d5ae-4024-ba31-885f1220b684",
   "metadata": {},
   "outputs": [
    {
     "name": "stdout",
     "output_type": "stream",
     "text": [
      "<__main__.Person object at 0x00000249066A2350>\n"
     ]
    }
   ],
   "source": [
    "print(person)"
   ]
  },
  {
   "cell_type": "code",
   "execution_count": 7,
   "id": "7250d79e-1de9-40da-b9b4-c5a85617e743",
   "metadata": {},
   "outputs": [
    {
     "name": "stdout",
     "output_type": "stream",
     "text": [
      "<__main__.Person object at 0x0000024907B610F0>\n"
     ]
    }
   ],
   "source": [
    "## Basic magic methods\n",
    "class Person: \n",
    "    def __init__(self, name, age): \n",
    "        self.name = name\n",
    "        self.age = age\n",
    "\n",
    "person = Person(\"Sushil\", 19)\n",
    "print(person)"
   ]
  },
  {
   "cell_type": "code",
   "execution_count": 10,
   "id": "79a9c660-f0db-43f8-876d-7a1d29de4295",
   "metadata": {},
   "outputs": [
    {
     "name": "stdout",
     "output_type": "stream",
     "text": [
      "Sushil, 19 years old\n",
      "Person(name=Sushil, age= 19)\n"
     ]
    }
   ],
   "source": [
    "## Basic magic methods\n",
    "class Person: \n",
    "    def __init__(self, name, age): \n",
    "        self.name = name\n",
    "        self.age = age\n",
    "\n",
    "    def __str__(self): \n",
    "        return f\"{self.name}, {self.age} years old\"\n",
    "\n",
    "    def __repr__(self): \n",
    "        return f\"Person(name={self.name}, age= {self.age})\"\n",
    "person = Person(\"Sushil\", 19)\n",
    "print(person)\n",
    "print(repr(person))"
   ]
  },
  {
   "cell_type": "code",
   "execution_count": null,
   "id": "dbc5256c-20c4-4430-b26c-e66e2685a92f",
   "metadata": {},
   "outputs": [],
   "source": []
  }
 ],
 "metadata": {
  "kernelspec": {
   "display_name": "Python 3 (ipykernel)",
   "language": "python",
   "name": "python3"
  },
  "language_info": {
   "codemirror_mode": {
    "name": "ipython",
    "version": 3
   },
   "file_extension": ".py",
   "mimetype": "text/x-python",
   "name": "python",
   "nbconvert_exporter": "python",
   "pygments_lexer": "ipython3",
   "version": "3.10.11"
  }
 },
 "nbformat": 4,
 "nbformat_minor": 5
}
