{
 "cells": [
  {
   "cell_type": "markdown",
   "id": "9a9bc76b",
   "metadata": {},
   "source": [
    "## Standard Library Overview"
   ]
  },
  {
   "cell_type": "code",
   "execution_count": 1,
   "id": "c068ed29",
   "metadata": {},
   "outputs": [
    {
     "name": "stdout",
     "output_type": "stream",
     "text": [
      "array('i', [1, 2, 3, 4])\n"
     ]
    }
   ],
   "source": [
    "import array\n",
    "arr = array.array('i',[1,2,3,4])\n",
    "print(arr)"
   ]
  },
  {
   "cell_type": "code",
   "execution_count": 3,
   "id": "f8f792ca",
   "metadata": {},
   "outputs": [
    {
     "name": "stdout",
     "output_type": "stream",
     "text": [
      "4.0\n",
      "3.141592653589793\n"
     ]
    }
   ],
   "source": [
    "import math\n",
    "print(math.sqrt(16))\n",
    "print(math.pi)"
   ]
  },
  {
   "cell_type": "code",
   "execution_count": null,
   "id": "c9ff86c4",
   "metadata": {},
   "outputs": [
    {
     "name": "stdout",
     "output_type": "stream",
     "text": [
      "4\n",
      "banana\n"
     ]
    }
   ],
   "source": [
    "## Random \n",
    "\n",
    "import random\n",
    "print(random.randint(1,4))\n",
    "print(random.choice(['apple', 'banana', 'mango']))"
   ]
  },
  {
   "cell_type": "code",
   "execution_count": null,
   "id": "77f8f5fd",
   "metadata": {},
   "outputs": [
    {
     "name": "stdout",
     "output_type": "stream",
     "text": [
      "c:\\Users\\admin\\OneDrive\\Desktop\\DS_Udemy\\Main Folder\\04-StandardLibrary\n"
     ]
    }
   ],
   "source": [
    "## File and Directory Access\n",
    "\n",
    "import os \n",
    "print(os.getcwd()) # get current working directory\n"
   ]
  },
  {
   "cell_type": "code",
   "execution_count": null,
   "id": "3a817550",
   "metadata": {},
   "outputs": [],
   "source": [
    "os.mkdir('test_dir') # make directory"
   ]
  },
  {
   "cell_type": "code",
   "execution_count": null,
   "id": "aea324f0",
   "metadata": {},
   "outputs": [],
   "source": [
    "import os\n",
    "## To craete a file\n",
    "\n",
    "file_name = \"hello.txt\"\n",
    "\n",
    "file = open(file_name, \"w\")\n",
    "file.write(\"Hello, this is new file\")\n",
    "file.close()"
   ]
  },
  {
   "cell_type": "code",
   "execution_count": 21,
   "id": "ae024be1",
   "metadata": {},
   "outputs": [
    {
     "data": {
      "text/plain": [
       "'destination.txt'"
      ]
     },
     "execution_count": 21,
     "metadata": {},
     "output_type": "execute_result"
    }
   ],
   "source": [
    "## High level operations on file and collection of file\n",
    "\n",
    "import shutil\n",
    "shutil.copyfile('hello.txt', 'destination.txt')"
   ]
  },
  {
   "cell_type": "code",
   "execution_count": 25,
   "id": "5c1dd5af",
   "metadata": {},
   "outputs": [
    {
     "name": "stdout",
     "output_type": "stream",
     "text": [
      "{\"name\": \"sushil\", \"age\": 19}\n",
      "<class 'str'>\n",
      "{'name': 'sushil', 'age': 19}\n",
      "<class 'dict'>\n"
     ]
    }
   ],
   "source": [
    "## Data Serialization\n",
    "\n",
    "import json\n",
    "\n",
    "data = {'name': 'sushil', 'age': 19}\n",
    "json_str = json.dumps(data) # Dictionary to json string\n",
    "print(json_str)\n",
    "print(type(json_str))\n",
    "parsed_data = json.loads(json_str) # Json string to dictionary\n",
    "\n",
    "print(parsed_data)\n",
    "print(type(parsed_data))"
   ]
  },
  {
   "cell_type": "code",
   "execution_count": 30,
   "id": "4270e410",
   "metadata": {},
   "outputs": [
    {
     "name": "stdout",
     "output_type": "stream",
     "text": [
      "['name', 'age']\n",
      "['sushil', '19']\n"
     ]
    }
   ],
   "source": [
    "## CSV\n",
    "\n",
    "import csv\n",
    "\n",
    "with open('example.csv', mode='w',newline='') as file:\n",
    "    writer =csv.writer(file)\n",
    "    writer.writerow(['name','age'])\n",
    "    writer.writerow(['sushil',19])\n",
    "\n",
    "with open('example.csv',mode='r') as file:\n",
    "    reader = csv.reader(file)\n",
    "    for row in reader:\n",
    "        print(row)"
   ]
  },
  {
   "cell_type": "code",
   "execution_count": 33,
   "id": "a9e36d69",
   "metadata": {},
   "outputs": [
    {
     "name": "stdout",
     "output_type": "stream",
     "text": [
      "2025-05-22 10:49:08.272433\n",
      "2025-05-21 10:49:08.272433\n"
     ]
    }
   ],
   "source": [
    "## datetime\n",
    "\n",
    "from datetime import datetime,timedelta\n",
    "\n",
    "now= datetime.now()\n",
    "print(now)\n",
    "\n",
    "yesterday = now-timedelta(days=1)\n",
    "print(yesterday)"
   ]
  },
  {
   "cell_type": "code",
   "execution_count": null,
   "id": "32e1f9e4",
   "metadata": {},
   "outputs": [
    {
     "name": "stdout",
     "output_type": "stream",
     "text": [
      "1747891325.0125842\n",
      "1747891335.0214999\n"
     ]
    }
   ],
   "source": [
    "## time\n",
    "import time\n",
    "\n",
    "print(time.time())\n",
    "time.sleep(10)\n",
    "print(time.time())"
   ]
  },
  {
   "cell_type": "code",
   "execution_count": 40,
   "id": "bd032990",
   "metadata": {},
   "outputs": [
    {
     "name": "stdout",
     "output_type": "stream",
     "text": [
      "123\n"
     ]
    }
   ],
   "source": [
    "## Regular Expresion\n",
    "import re\n",
    "\n",
    "pattern = r'\\d+' # d means digits\n",
    "text = \"There are 123 apples 432\"\n",
    "match = re.search(pattern,text)\n",
    "print(match.group())"
   ]
  },
  {
   "cell_type": "code",
   "execution_count": null,
   "id": "bb01dff2",
   "metadata": {},
   "outputs": [],
   "source": []
  }
 ],
 "metadata": {
  "kernelspec": {
   "display_name": "Python 3",
   "language": "python",
   "name": "python3"
  },
  "language_info": {
   "codemirror_mode": {
    "name": "ipython",
    "version": 3
   },
   "file_extension": ".py",
   "mimetype": "text/x-python",
   "name": "python",
   "nbconvert_exporter": "python",
   "pygments_lexer": "ipython3",
   "version": "3.10.11"
  }
 },
 "nbformat": 4,
 "nbformat_minor": 5
}
