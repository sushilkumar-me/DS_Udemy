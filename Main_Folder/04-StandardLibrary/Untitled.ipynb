{
 "cells": [
  {
   "cell_type": "markdown",
   "id": "e00e6326-92f6-47b7-926c-147f87ad6b80",
   "metadata": {},
   "source": [
    "# Standard Library"
   ]
  },
  {
   "cell_type": "markdown",
   "id": "0b4ddbd6-72a5-4384-972d-79d72f307885",
   "metadata": {},
   "source": [
    "## math"
   ]
  },
  {
   "cell_type": "code",
   "execution_count": 10,
   "id": "ee2f379a-9349-4ec4-a6c9-45ca4efb39c3",
   "metadata": {},
   "outputs": [
    {
     "name": "stdout",
     "output_type": "stream",
     "text": [
      "4.0\n",
      "8.0\n",
      "0.6931471805599453\n",
      "7.38905609893065\n",
      "120\n",
      "6\n",
      "5\n",
      "3.141592653589793\n"
     ]
    }
   ],
   "source": [
    "import math\n",
    "print(math.sqrt(16))\n",
    "print(math.pow(2,3))\n",
    "print(math.log(2))\n",
    "print(math.exp(2))\n",
    "print(math.factorial(5))\n",
    "print(math.ceil(5.4))\n",
    "print(math.floor(5.4))\n",
    "print(math.pi)\n"
   ]
  },
  {
   "cell_type": "markdown",
   "id": "313265dc-1841-4f31-8530-a8a4441568b0",
   "metadata": {},
   "source": [
    "## statistics"
   ]
  },
  {
   "cell_type": "code",
   "execution_count": 17,
   "id": "6e6906d3-9dfe-4bd4-b612-92c78102a15b",
   "metadata": {},
   "outputs": [
    {
     "name": "stdout",
     "output_type": "stream",
     "text": [
      "2.4\n",
      "2\n",
      "2\n",
      "<function stdev at 0x00000239330C3D90>\n"
     ]
    }
   ],
   "source": [
    "import statistics\n",
    "data = [1,2,2,3,4]\n",
    "print(statistics.mean(data))\n",
    "print(statistics.median(data))\n",
    "print(statistics.mode(data))\n",
    "print(statistics.stdev)"
   ]
  },
  {
   "cell_type": "code",
   "execution_count": null,
   "id": "21af5fc3-413a-4a9c-a9bb-1aaa94761d96",
   "metadata": {},
   "outputs": [],
   "source": []
  }
 ],
 "metadata": {
  "kernelspec": {
   "display_name": "Python 3 (ipykernel)",
   "language": "python",
   "name": "python3"
  },
  "language_info": {
   "codemirror_mode": {
    "name": "ipython",
    "version": 3
   },
   "file_extension": ".py",
   "mimetype": "text/x-python",
   "name": "python",
   "nbconvert_exporter": "python",
   "pygments_lexer": "ipython3",
   "version": "3.10.11"
  }
 },
 "nbformat": 4,
 "nbformat_minor": 5
}
