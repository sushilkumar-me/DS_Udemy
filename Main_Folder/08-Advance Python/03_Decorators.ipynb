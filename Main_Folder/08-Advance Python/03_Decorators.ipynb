{
 "cells": [
  {
   "cell_type": "markdown",
   "id": "52ab80f6-de5e-46f2-aeef-222dac1be35b",
   "metadata": {},
   "source": [
    "# Decorators"
   ]
  },
  {
   "cell_type": "markdown",
   "id": "34003a9a-73b7-4f7c-a30e-56362551c8f6",
   "metadata": {},
   "source": [
    "* Decorators are a powerful and flexible features in python that allows  you to modify the behavior of a function or class methods. Ther are commonly used to add functionality to functions or methods without modifying their actual code. This lesson covers the basics of decorators, including how to create and use them"
   ]
  },
  {
   "cell_type": "code",
   "execution_count": 21,
   "id": "1397cb55-9bdb-426a-a043-a16ac7e0347f",
   "metadata": {},
   "outputs": [],
   "source": [
    "def welcome(): \n",
    "    return \"Welcome to the world\"\n"
   ]
  },
  {
   "cell_type": "code",
   "execution_count": 22,
   "id": "f48ec809-f784-4f6d-9421-73adf026d3f2",
   "metadata": {},
   "outputs": [
    {
     "name": "stdout",
     "output_type": "stream",
     "text": [
      "Welcome to the world\n",
      "Welcome to the world\n"
     ]
    }
   ],
   "source": [
    "## function copy \n",
    "\n",
    "wel = welcome\n",
    "print(wel())\n",
    "del welcome \n",
    "print(wel())\n",
    "# print(welcome()) * Its give the error\n"
   ]
  },
  {
   "cell_type": "code",
   "execution_count": 24,
   "id": "b63abb9b-eea6-4bef-af5b-573a25a79608",
   "metadata": {},
   "outputs": [],
   "source": [
    "## Closures \"'Closures' means function inside function\""
   ]
  },
  {
   "cell_type": "code",
   "execution_count": 29,
   "id": "23c2de10-2e01-44df-9dff-482351670f23",
   "metadata": {},
   "outputs": [],
   "source": [
    "# Closures function \n",
    "\n",
    "def main_welcome(w): \n",
    "    msg = \"Welcome\" \n",
    "    def sub_welcome(): \n",
    "        print(\"Welcome to the advance python course\")\n",
    "        print(msg)\n",
    "        print(w)\n",
    "        print(\"please learn these concept properly\")\n",
    "    return sub_welcome()"
   ]
  },
  {
   "cell_type": "code",
   "execution_count": 30,
   "id": "ac7fcb8d-f446-4547-bf17-0d2209000ef1",
   "metadata": {},
   "outputs": [
    {
     "name": "stdout",
     "output_type": "stream",
     "text": [
      "Welcome to the advance python course\n",
      "Welcome\n",
      "Hello\n",
      "please learn these concept properly\n"
     ]
    }
   ],
   "source": [
    "main_welcome(\"Hello\")\n"
   ]
  },
  {
   "cell_type": "code",
   "execution_count": 31,
   "id": "eaaba7e8-94b8-4e76-9cc5-67118069828b",
   "metadata": {},
   "outputs": [],
   "source": [
    "def main_welcome(func): \n",
    "    msg = \"Welcome\" \n",
    "    def sub_welcome(): \n",
    "        print(\"Welcome to the advance python course\")\n",
    "        func(\"Hello Every one\")\n",
    "        print(\"please learn these concept properly\")\n",
    "    return sub_welcome()"
   ]
  },
  {
   "cell_type": "code",
   "execution_count": 36,
   "id": "a7dfaffc-5b80-4136-a00a-8f14a44f6c1d",
   "metadata": {},
   "outputs": [
    {
     "name": "stdout",
     "output_type": "stream",
     "text": [
      "Welcome to the advance python course\n",
      "Hello Every one\n",
      "please learn these concept properly\n"
     ]
    }
   ],
   "source": [
    "main_welcome(print)"
   ]
  },
  {
   "cell_type": "code",
   "execution_count": 40,
   "id": "0f251ea7-b2ff-4695-a0af-4ba640a5e7a9",
   "metadata": {},
   "outputs": [],
   "source": [
    "def main_welcome(func, lst): \n",
    "    msg = \"Welcome\" \n",
    "    def sub_welcome(): \n",
    "        print(\"Welcome to the advance python course\")\n",
    "        print(func(lst))\n",
    "        print(\"please learn these concept properly\")\n",
    "    return sub_welcome()"
   ]
  },
  {
   "cell_type": "code",
   "execution_count": 41,
   "id": "7deb8b4f-47a7-49c9-a0a4-13fd7e44727e",
   "metadata": {},
   "outputs": [
    {
     "name": "stdout",
     "output_type": "stream",
     "text": [
      "Welcome to the advance python course\n",
      "6\n",
      "please learn these concept properly\n"
     ]
    }
   ],
   "source": [
    "main_welcome(len, [1,2,3,4,5,6])"
   ]
  },
  {
   "cell_type": "code",
   "execution_count": 42,
   "id": "40e4abb2-33fa-47ab-852c-336a9271a472",
   "metadata": {},
   "outputs": [],
   "source": [
    "# Decorator"
   ]
  },
  {
   "cell_type": "code",
   "execution_count": 43,
   "id": "b672cf6b-6626-400d-8f13-4d926c54a907",
   "metadata": {},
   "outputs": [],
   "source": [
    "def main_welcome(func): \n",
    "    msg = \"Welcome\" \n",
    "    def sub_welcome(): \n",
    "        print(\"Welcome to the advance python course\")\n",
    "        func()\n",
    "        print(\"please learn these concept properly\")\n",
    "    return sub_welcome()"
   ]
  },
  {
   "cell_type": "code",
   "execution_count": 44,
   "id": "9cf0ae25-b271-456f-9bce-0829a68d5034",
   "metadata": {},
   "outputs": [],
   "source": [
    "def course_introduction(): \n",
    "    print(\"This is an advanced python course.\")"
   ]
  },
  {
   "cell_type": "code",
   "execution_count": 45,
   "id": "5f56df34-83b4-4059-91cb-571d2a268d0f",
   "metadata": {},
   "outputs": [
    {
     "name": "stdout",
     "output_type": "stream",
     "text": [
      "This is an advanced python course.\n"
     ]
    }
   ],
   "source": [
    "course_introduction()"
   ]
  },
  {
   "cell_type": "code",
   "execution_count": 46,
   "id": "92392250-68d4-4103-a1cc-bbbbbc70ce70",
   "metadata": {},
   "outputs": [
    {
     "name": "stdout",
     "output_type": "stream",
     "text": [
      "Welcome to the advance python course\n",
      "This is an advanced python course.\n",
      "please learn these concept properly\n"
     ]
    }
   ],
   "source": [
    "main_welcome(course_introduction)"
   ]
  },
  {
   "cell_type": "code",
   "execution_count": 47,
   "id": "fbf44ddb-53bc-49ca-be5a-be97521b92a3",
   "metadata": {},
   "outputs": [
    {
     "name": "stdout",
     "output_type": "stream",
     "text": [
      "Welcome to the advance python course\n",
      "This is an advanced python course.\n",
      "please learn these concept properly\n"
     ]
    }
   ],
   "source": [
    "@main_welcome\n",
    "def course_introduction(): \n",
    "    print(\"This is an advanced python course.\")"
   ]
  },
  {
   "cell_type": "code",
   "execution_count": 1,
   "id": "17c45f92-8e79-4fc0-a628-706245546a91",
   "metadata": {},
   "outputs": [],
   "source": [
    "## Decorator"
   ]
  },
  {
   "cell_type": "code",
   "execution_count": 5,
   "id": "c3d96e38-b5c0-4f1e-add2-816c7e52ae2f",
   "metadata": {},
   "outputs": [],
   "source": [
    "def my_decorator(func): \n",
    "    def wrapper(): \n",
    "        print(\"Something is happening before the function is called.\")\n",
    "        func() \n",
    "        print(\"Something is happening after the function is called.\")\n",
    "    return wrapper\n",
    "    "
   ]
  },
  {
   "cell_type": "code",
   "execution_count": 6,
   "id": "2cf975b1-cff5-4b7b-ab0f-b8f43219c9b4",
   "metadata": {},
   "outputs": [],
   "source": [
    "@my_decorator\n",
    "def say_hello(): \n",
    "    print(\"Hello\")"
   ]
  },
  {
   "cell_type": "code",
   "execution_count": 8,
   "id": "b307bda1-4532-42b5-bd3a-c336a6e143b6",
   "metadata": {},
   "outputs": [
    {
     "name": "stdout",
     "output_type": "stream",
     "text": [
      "Something is happening before the function is called.\n",
      "Hello\n",
      "Something is happening after the function is called.\n"
     ]
    }
   ],
   "source": [
    "say_hello()"
   ]
  },
  {
   "cell_type": "code",
   "execution_count": 9,
   "id": "9304d31d-c257-4127-befe-d7c6450df1f3",
   "metadata": {},
   "outputs": [],
   "source": [
    "## Decorator with argument"
   ]
  },
  {
   "cell_type": "code",
   "execution_count": 14,
   "id": "b34161bf-3cca-41ff-8756-a086b845870c",
   "metadata": {},
   "outputs": [],
   "source": [
    "def repeat(n): \n",
    "    def decorator(func): \n",
    "        def wrapper(*args, **kwargs): \n",
    "            for _ in range(n): \n",
    "                func(*args, **kwargs)\n",
    "        return wrapper \n",
    "    return decorator"
   ]
  },
  {
   "cell_type": "code",
   "execution_count": 15,
   "id": "566c6348-4028-4c23-9e65-8cade51c0c79",
   "metadata": {},
   "outputs": [],
   "source": [
    "@repeat(3)\n",
    "def say_hello(): \n",
    "    print(\"Hello\")"
   ]
  },
  {
   "cell_type": "code",
   "execution_count": 16,
   "id": "cfd57338-b121-43a1-9d8e-ae19a90e9003",
   "metadata": {},
   "outputs": [
    {
     "name": "stdout",
     "output_type": "stream",
     "text": [
      "Hello\n",
      "Hello\n",
      "Hello\n"
     ]
    }
   ],
   "source": [
    "say_hello()"
   ]
  },
  {
   "cell_type": "code",
   "execution_count": null,
   "id": "de369763-bbef-4b8d-8938-8bc2c497b224",
   "metadata": {},
   "outputs": [],
   "source": []
  }
 ],
 "metadata": {
  "kernelspec": {
   "display_name": "Python 3 (ipykernel)",
   "language": "python",
   "name": "python3"
  },
  "language_info": {
   "codemirror_mode": {
    "name": "ipython",
    "version": 3
   },
   "file_extension": ".py",
   "mimetype": "text/x-python",
   "name": "python",
   "nbconvert_exporter": "python",
   "pygments_lexer": "ipython3",
   "version": "3.10.11"
  }
 },
 "nbformat": 4,
 "nbformat_minor": 5
}
