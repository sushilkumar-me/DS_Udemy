{
 "cells": [
  {
   "cell_type": "markdown",
   "id": "23666f71-d8b5-46c6-a590-492471696677",
   "metadata": {},
   "source": [
    "# Generators"
   ]
  },
  {
   "cell_type": "markdown",
   "id": "12db293f-e534-4277-80dd-71d2597a5526",
   "metadata": {},
   "source": [
    "Generators are a simpler way to create iterators. They use the yield keyboard to produce a series of values lazy.\n",
    "which means they generate on the fly and do not store them in memory"
   ]
  },
  {
   "cell_type": "code",
   "execution_count": 35,
   "id": "2de30b21-1235-4c9d-aa00-f11f6c738372",
   "metadata": {},
   "outputs": [
    {
     "data": {
      "text/plain": [
       "<generator object square at 0x000001599146A810>"
      ]
     },
     "execution_count": 35,
     "metadata": {},
     "output_type": "execute_result"
    }
   ],
   "source": [
    "def square(n):\n",
    "    for i in range(3):\n",
    "        yield i**2\n",
    "\n",
    "square(3)"
   ]
  },
  {
   "cell_type": "code",
   "execution_count": 36,
   "id": "b88ed539-230e-4fa1-aa31-acd98fe976da",
   "metadata": {},
   "outputs": [
    {
     "name": "stdout",
     "output_type": "stream",
     "text": [
      "0\n",
      "1\n",
      "4\n"
     ]
    }
   ],
   "source": [
    "for i in square(3):\n",
    "    print(i)"
   ]
  },
  {
   "cell_type": "code",
   "execution_count": 37,
   "id": "73c6f965-ba26-4776-8e5d-59001b7ab578",
   "metadata": {},
   "outputs": [
    {
     "data": {
      "text/plain": [
       "<generator object square at 0x000001599146B760>"
      ]
     },
     "execution_count": 37,
     "metadata": {},
     "output_type": "execute_result"
    }
   ],
   "source": [
    "def square(n):\n",
    "    for i in range(n): \n",
    "        yield i**2\n",
    "\n",
    "square(3)"
   ]
  },
  {
   "cell_type": "code",
   "execution_count": 38,
   "id": "a4879f86-7bee-4447-8825-52785df86171",
   "metadata": {},
   "outputs": [
    {
     "name": "stdout",
     "output_type": "stream",
     "text": [
      "0\n",
      "1\n",
      "4\n",
      "9\n"
     ]
    }
   ],
   "source": [
    "for i in square(4): \n",
    "    print(i)"
   ]
  },
  {
   "cell_type": "code",
   "execution_count": 39,
   "id": "effe56e4-ee55-4743-89d5-12f5dcb3adbf",
   "metadata": {},
   "outputs": [],
   "source": [
    "## Second way \n",
    "\n",
    "a = square(3)\n"
   ]
  },
  {
   "cell_type": "code",
   "execution_count": 40,
   "id": "ca0d60aa-f6f3-42d3-831e-da2815d5e08d",
   "metadata": {},
   "outputs": [
    {
     "data": {
      "text/plain": [
       "0"
      ]
     },
     "execution_count": 40,
     "metadata": {},
     "output_type": "execute_result"
    }
   ],
   "source": [
    "next(a)"
   ]
  },
  {
   "cell_type": "code",
   "execution_count": 51,
   "id": "de55f0cb-9fed-477d-972c-61ffce956244",
   "metadata": {},
   "outputs": [],
   "source": [
    "def my_generator(): \n",
    "    yield 1\n",
    "    yield 2\n",
    "    yield 3\n",
    "    "
   ]
  },
  {
   "cell_type": "code",
   "execution_count": 52,
   "id": "b9f09e00-b5df-4004-bcad-58decf500c16",
   "metadata": {},
   "outputs": [
    {
     "data": {
      "text/plain": [
       "<generator object my_generator at 0x00000159910B47B0>"
      ]
     },
     "execution_count": 52,
     "metadata": {},
     "output_type": "execute_result"
    }
   ],
   "source": [
    "gen = my_generator()\n",
    "gen"
   ]
  },
  {
   "cell_type": "code",
   "execution_count": 53,
   "id": "7187109e-bae2-4abe-bede-44be22505aab",
   "metadata": {},
   "outputs": [
    {
     "data": {
      "text/plain": [
       "1"
      ]
     },
     "execution_count": 53,
     "metadata": {},
     "output_type": "execute_result"
    }
   ],
   "source": [
    "next(gen)"
   ]
  },
  {
   "cell_type": "code",
   "execution_count": 54,
   "id": "39907c41-9eea-4b7c-b291-0ce1887042a7",
   "metadata": {},
   "outputs": [
    {
     "name": "stdout",
     "output_type": "stream",
     "text": [
      "2\n",
      "3\n"
     ]
    }
   ],
   "source": [
    "for val in gen: \n",
    "    print(val)"
   ]
  },
  {
   "cell_type": "markdown",
   "id": "c437a8f2-69b3-42f4-9510-39d1d5178ee1",
   "metadata": {},
   "source": [
    "# Practical Example: Reading Large Files "
   ]
  },
  {
   "cell_type": "markdown",
   "id": "1a652acf-134c-47ab-8e1e-d6fbcc80f53e",
   "metadata": {},
   "source": [
    "* Generators are particularly useful for reading large files because they allow you to process one line at a time without loading the entire file into memory.\n"
   ]
  },
  {
   "cell_type": "code",
   "execution_count": 63,
   "id": "6c8ce4c6-ab68-47ba-82bb-b5a64b3beb66",
   "metadata": {},
   "outputs": [],
   "source": [
    "def read_large_file(file_path): \n",
    "    with open(file_path, 'r') as file: \n",
    "        for line in file: \n",
    "            yield line \n",
    "            "
   ]
  },
  {
   "cell_type": "code",
   "execution_count": 69,
   "id": "745f7494-623f-4c92-ac0d-bef91667262d",
   "metadata": {},
   "outputs": [
    {
     "name": "stdout",
     "output_type": "stream",
     "text": [
      "The president of India is the head of state of the Republic of India. The president is the nominal head of the executive,[a] the first citizen of the country, and the supreme commander of the Indian Armed Forces. Droupadi Murmu is the 15th and current president, having taken office on 25 July 2022.\n",
      "\n",
      "The office of president was created when India's constitution came into force and it became a republic on 26 January 1950. The president is indirectly elected by an electoral college comprising both houses of the Parliament of India and the legislative assemblies of each of India's states and territories, who themselves are all directly elected by the citizens.\n",
      "\n",
      "Article 53 of the Constitution of India states that the president can exercise their powers directly or by subordinate authority, though all of the executive powers vested in the president are, in practice, exercised by the prime minister heading the Council of Ministers.[3] The president is bound by the constitution to act on the advice of the council and to enforce the decrees passed by the Supreme Court under article 142.\n",
      "\n",
      "Origin\n",
      "India achieved independence from the British on 15 August 1947, initially as a dominion within the Commonwealth of Nations with George VI as king, represented in the country by a governor-general.[4] Following independence, the Constituent Assembly of India, under the leadership of B. R. Ambedkar, undertook the process of drafting a completely new constitution for the country. The Constitution of India was eventually enacted on 26 November 1949 and came into force on 26 January 1950,[5]:â€Š26â€Š making India a republic.[6]:â€Š9â€Š The offices of monarch and governor-general were replaced by the new office of President of India, with Rajendra Prasad as its first incumbent.[6]:â€Š1â€Š India retained its Commonwealth membership per the London Declaration, recognising The King as \"the symbol of the free association of its independent member nations and as such the Head of the Commonwealth.\"[7]\n",
      "\n",
      "The Indian constitution accords to the president the responsibility and authority to defend and protect the Constitution of India and its rule of law.[8] Invariably, any action taken by the executive or legislature entities of the constitution shall become law only after the president's assent. The president shall not accept any actions of the executive or legislature which are unconstitutional. The president is the foremost, most empowered and prompt defender of the constitution (Article 60), who has pre-emptive power for ensuring constitutionality in the actions of the executive or legislature. The role of the judiciary in upholding the Constitution of India is the second line of defence in nullifying any unconstitutional actions of the executive and legislative entities of the Indian Union.\n"
     ]
    }
   ],
   "source": [
    "file_path ='large_file.txt'\n",
    "\n",
    "for line in read_large_file(file_path):\n",
    "    print(line.strip())"
   ]
  },
  {
   "cell_type": "code",
   "execution_count": null,
   "id": "7febc17e-9155-493c-bac2-8399cb95af8c",
   "metadata": {},
   "outputs": [],
   "source": []
  },
  {
   "cell_type": "code",
   "execution_count": null,
   "id": "a910d32a-e91c-4cae-b01d-09afe76adca6",
   "metadata": {},
   "outputs": [],
   "source": []
  },
  {
   "cell_type": "code",
   "execution_count": null,
   "id": "e76e4de0-2827-4c40-b0ba-d0d69d8e480f",
   "metadata": {},
   "outputs": [],
   "source": []
  },
  {
   "cell_type": "code",
   "execution_count": null,
   "id": "fd49e4eb-16a1-481f-80b4-aee335cee643",
   "metadata": {},
   "outputs": [],
   "source": []
  },
  {
   "cell_type": "code",
   "execution_count": null,
   "id": "61eda23f-dd8b-4fe2-aeeb-9f58d15dfa17",
   "metadata": {},
   "outputs": [],
   "source": []
  },
  {
   "cell_type": "code",
   "execution_count": null,
   "id": "1a642e2d-faf0-444d-a4d9-57e2055105db",
   "metadata": {},
   "outputs": [],
   "source": []
  },
  {
   "cell_type": "code",
   "execution_count": null,
   "id": "5e13c9f5-278c-4b37-b624-afb49c688227",
   "metadata": {},
   "outputs": [],
   "source": []
  },
  {
   "cell_type": "code",
   "execution_count": null,
   "id": "91470718-f138-46e2-98c0-e349fd0c972d",
   "metadata": {},
   "outputs": [],
   "source": []
  },
  {
   "cell_type": "code",
   "execution_count": null,
   "id": "39555b02-3440-4a83-a22e-8ac89a7e282e",
   "metadata": {},
   "outputs": [],
   "source": []
  },
  {
   "cell_type": "code",
   "execution_count": null,
   "id": "d0451fb7-e7f1-4ae7-b94f-e2761ea34e6d",
   "metadata": {},
   "outputs": [],
   "source": []
  },
  {
   "cell_type": "code",
   "execution_count": null,
   "id": "232cc813-5c39-4701-b444-03e80d7a71cf",
   "metadata": {},
   "outputs": [],
   "source": []
  }
 ],
 "metadata": {
  "kernelspec": {
   "display_name": "Python 3 (ipykernel)",
   "language": "python",
   "name": "python3"
  },
  "language_info": {
   "codemirror_mode": {
    "name": "ipython",
    "version": 3
   },
   "file_extension": ".py",
   "mimetype": "text/x-python",
   "name": "python",
   "nbconvert_exporter": "python",
   "pygments_lexer": "ipython3",
   "version": "3.10.11"
  }
 },
 "nbformat": 4,
 "nbformat_minor": 5
}
