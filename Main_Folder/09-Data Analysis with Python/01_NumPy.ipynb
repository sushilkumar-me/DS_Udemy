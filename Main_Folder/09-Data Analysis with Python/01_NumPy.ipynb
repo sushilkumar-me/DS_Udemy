{
 "cells": [
  {
   "cell_type": "code",
   "execution_count": 1,
   "id": "618c67c8-07e7-4e45-9f46-724f1ce1dbc7",
   "metadata": {},
   "outputs": [],
   "source": [
    "import numpy as np"
   ]
  },
  {
   "cell_type": "code",
   "execution_count": 8,
   "id": "aadfdff3-e0cc-43cd-a251-e2d65ce80ac7",
   "metadata": {},
   "outputs": [
    {
     "name": "stdout",
     "output_type": "stream",
     "text": [
      "[ 1  2 34]\n",
      "<class 'numpy.ndarray'>\n",
      "(3,)\n"
     ]
    }
   ],
   "source": [
    "# Create an arrasy using numpy\n",
    "arr = np.array([1,2,34])\n",
    "print(arr)\n",
    "print(type(arr))\n",
    "print(arr.shape)"
   ]
  },
  {
   "cell_type": "code",
   "execution_count": 31,
   "id": "56429ba2-022b-46e3-8fab-a4b512edec58",
   "metadata": {},
   "outputs": [
    {
     "name": "stdout",
     "output_type": "stream",
     "text": [
      "[[1 2]\n",
      " [3 4]]\n",
      "[1 2 3 4]\n",
      "(4,)\n"
     ]
    }
   ],
   "source": [
    "arr2 = np.array([1,2,3,4])\n",
    "print(arr2.reshape(2,2))\n",
    "print(arr2)\n",
    "print(arr2.shape)"
   ]
  },
  {
   "cell_type": "code",
   "execution_count": 39,
   "id": "67e3f4d0-5e3f-4257-b26b-24b6e7e386e5",
   "metadata": {},
   "outputs": [
    {
     "name": "stdout",
     "output_type": "stream",
     "text": [
      "[[1 2]\n",
      " [3 4]]\n",
      "(2, 2)\n"
     ]
    }
   ],
   "source": [
    "# 2D Array\n",
    "arr2 = np.array([[1,2], [3,4]])\n",
    "print(arr2)\n",
    "print(arr2.shape)"
   ]
  },
  {
   "cell_type": "code",
   "execution_count": 41,
   "id": "de8db52c-40d5-4258-819f-1f91d1ed3bda",
   "metadata": {},
   "outputs": [
    {
     "data": {
      "text/plain": [
       "array([[0],\n",
       "       [2],\n",
       "       [4],\n",
       "       [6],\n",
       "       [8]])"
      ]
     },
     "execution_count": 41,
     "metadata": {},
     "output_type": "execute_result"
    }
   ],
   "source": [
    "np.arange(0, 10, 2).reshape(5,1)"
   ]
  },
  {
   "cell_type": "code",
   "execution_count": 42,
   "id": "e2347560-62ed-4103-88aa-defe2e76ec9e",
   "metadata": {},
   "outputs": [
    {
     "data": {
      "text/plain": [
       "array([[1., 1., 1., 1.],\n",
       "       [1., 1., 1., 1.],\n",
       "       [1., 1., 1., 1.]])"
      ]
     },
     "execution_count": 42,
     "metadata": {},
     "output_type": "execute_result"
    }
   ],
   "source": [
    "np.ones((3,4))"
   ]
  },
  {
   "cell_type": "code",
   "execution_count": 43,
   "id": "fa0cb55e-161e-406e-b066-057bc50ad103",
   "metadata": {},
   "outputs": [
    {
     "data": {
      "text/plain": [
       "array([[0., 0.],\n",
       "       [0., 0.]])"
      ]
     },
     "execution_count": 43,
     "metadata": {},
     "output_type": "execute_result"
    }
   ],
   "source": [
    "np.zeros((2,2))"
   ]
  },
  {
   "cell_type": "code",
   "execution_count": 45,
   "id": "3992b9f4-222c-4b4d-bd79-2b50867c09f4",
   "metadata": {},
   "outputs": [
    {
     "data": {
      "text/plain": [
       "array([[1., 0., 0.],\n",
       "       [0., 1., 0.],\n",
       "       [0., 0., 1.]])"
      ]
     },
     "execution_count": 45,
     "metadata": {},
     "output_type": "execute_result"
    }
   ],
   "source": [
    "## Identity Array \n",
    "np.eye(3)"
   ]
  },
  {
   "cell_type": "code",
   "execution_count": 49,
   "id": "27200352-f900-4d23-ae63-c7d017d0b9b5",
   "metadata": {},
   "outputs": [
    {
     "name": "stdout",
     "output_type": "stream",
     "text": [
      "Array:\n",
      " [[1 2 3]\n",
      " [4 5 6]]\n",
      "Shape:  (2, 3)\n",
      "Number of dimensions:  2\n",
      "Size (Number of elements):  6\n",
      "Datatype:  int32\n",
      "Item size (in bytes):  4\n"
     ]
    }
   ],
   "source": [
    "# Attribute of numpy\n",
    "\n",
    "arr = np.array([[1,2,3], [4,5,6]])\n",
    "\n",
    "print(\"Array:\\n\", arr) \n",
    "print(\"Shape: \", arr.shape)\n",
    "print(\"Number of dimensions: \", arr.ndim)\n",
    "print(\"Size (Number of elements): \", arr.size)\n",
    "print(\"Datatype: \", arr.dtype)\n",
    "print(\"Item size (in bytes): \", arr.itemsize)"
   ]
  },
  {
   "cell_type": "code",
   "execution_count": 54,
   "id": "4df3ead0-7f2c-4adc-aefb-42ea8afd194d",
   "metadata": {},
   "outputs": [
    {
     "name": "stdout",
     "output_type": "stream",
     "text": [
      "Addition:  [11 22 33 44 55]\n",
      "Subtraction [ -9 -18 -27 -36 -45]\n",
      "Multiplication:  [ 10  40  90 160 250]\n",
      "Division:  [0.1 0.1 0.1 0.1 0.1]\n"
     ]
    }
   ],
   "source": [
    "# NumPy Vectorize Operation \n",
    "\n",
    "arr1 = np.array([1,2,3,4,5])\n",
    "arr2 = np.array([10, 20, 30, 40, 50])\n",
    "\n",
    "### Element wise addition \n",
    "print(\"Addition: \", arr1 + arr2)\n",
    "\n",
    "### element wise subtracion\n",
    "print(\"Subtraction\", arr1 - arr2)\n",
    "\n",
    "## Element wise multiplication\n",
    "print(\"Multiplication: \", arr1 * arr2)\n",
    "\n",
    "### Element wise Division\n",
    "print(\"Division: \", arr1 / arr2)"
   ]
  },
  {
   "cell_type": "code",
   "execution_count": 57,
   "id": "c38a28fd-a10a-44a3-944d-6c96a6a8b778",
   "metadata": {},
   "outputs": [
    {
     "name": "stdout",
     "output_type": "stream",
     "text": [
      "[1.41421356 1.73205081 2.         2.23606798 2.44948974]\n",
      "[  7.3890561   20.08553692  54.59815003 148.4131591  403.42879349]\n",
      "[ 0.90929743  0.14112001 -0.7568025  -0.95892427 -0.2794155 ]\n",
      "[0.69314718 1.09861229 1.38629436 1.60943791 1.79175947]\n"
     ]
    }
   ],
   "source": [
    "## Universal Function\n",
    "arr = np.array([2,3,4,5,6])\n",
    "\n",
    "## Square root \n",
    "print(np.sqrt(arr))\n",
    "\n",
    "## Exponential \n",
    "print(np.exp(arr))\n",
    "\n",
    "## Sine \n",
    "print(np.sin(arr))\n",
    "\n",
    "## natural log \n",
    "print(np.log(arr))"
   ]
  },
  {
   "cell_type": "code",
   "execution_count": 61,
   "id": "2a98b096-4147-487a-89c3-1845d94b3b31",
   "metadata": {},
   "outputs": [
    {
     "name": "stdout",
     "output_type": "stream",
     "text": [
      "Array:\n",
      " [[ 1  2  3  4]\n",
      " [ 5  6  7  8]\n",
      " [ 9 10 11 12]]\n"
     ]
    }
   ],
   "source": [
    "# Array Slicing and Indexing\n",
    "\n",
    "arr = np.array([[1,2,3,4], [5,6,7,8], [9, 10, 11, 12]])\n",
    "print(\"Array:\\n\", arr)"
   ]
  },
  {
   "cell_type": "code",
   "execution_count": 70,
   "id": "7e15b0e9-10ad-49ec-89b9-ab9924bbd049",
   "metadata": {},
   "outputs": [
    {
     "name": "stdout",
     "output_type": "stream",
     "text": [
      "1\n",
      "[[3 4]\n",
      " [7 8]]\n"
     ]
    }
   ],
   "source": [
    "print(arr[0][0])\n",
    "print(arr[0:2, 2:])"
   ]
  },
  {
   "cell_type": "code",
   "execution_count": 68,
   "id": "724486a4-71e1-4d7a-9b94-200b48eb6c85",
   "metadata": {},
   "outputs": [
    {
     "data": {
      "text/plain": [
       "array([[ 7,  8],\n",
       "       [11, 12]])"
      ]
     },
     "execution_count": 68,
     "metadata": {},
     "output_type": "execute_result"
    }
   ],
   "source": [
    "arr[1:, 2:]"
   ]
  },
  {
   "cell_type": "code",
   "execution_count": 71,
   "id": "2401c113-fd8b-4e8c-8255-d56b4837428d",
   "metadata": {},
   "outputs": [
    {
     "data": {
      "text/plain": [
       "array([[ 6,  7],\n",
       "       [10, 11]])"
      ]
     },
     "execution_count": 71,
     "metadata": {},
     "output_type": "execute_result"
    }
   ],
   "source": [
    "arr[1:, 1:3]"
   ]
  },
  {
   "cell_type": "code",
   "execution_count": 73,
   "id": "629d75f5-e35e-4003-a42c-d292a60b3359",
   "metadata": {},
   "outputs": [
    {
     "name": "stdout",
     "output_type": "stream",
     "text": [
      "[[100   2   3   4]\n",
      " [  5   6   7   8]\n",
      " [  9  10  11  12]]\n"
     ]
    }
   ],
   "source": [
    "## Modify array elements\n",
    "\n",
    "arr[0,0] = 100\n",
    "print(arr)"
   ]
  },
  {
   "cell_type": "code",
   "execution_count": 74,
   "id": "32372216-1aef-4003-803d-6aed861e9085",
   "metadata": {},
   "outputs": [
    {
     "name": "stdout",
     "output_type": "stream",
     "text": [
      "[[100   2   3   4]\n",
      " [100 100 100 100]\n",
      " [100 100 100 100]]\n"
     ]
    }
   ],
   "source": [
    "arr[1:] = 100\n",
    "print(arr)"
   ]
  },
  {
   "cell_type": "code",
   "execution_count": 78,
   "id": "39a9e294-422c-48ad-949b-8e48eb69c596",
   "metadata": {},
   "outputs": [
    {
     "name": "stdout",
     "output_type": "stream",
     "text": [
      "Mean:  3.0\n",
      "Standard deviation:  1.4142135623730951\n",
      "Normalized data:  [-1.41421356 -0.70710678  0.          0.70710678  1.41421356]\n"
     ]
    }
   ],
   "source": [
    "## Statistical concept-- Normalization\n",
    "## to have a mean of 0 and standard deviation\n",
    "data = np.array([1,2,3,4,5])\n",
    "\n",
    "# Clculate the mean and standard deviation\n",
    "mean = np.mean(data)\n",
    "std_dev = np.std(data)\n",
    "print(\"Mean: \", mean)\n",
    "print(\"Standard deviation: \", std_dev)\n",
    "\n",
    "# Normilization the data \n",
    "normalized_data = (data - mean) / std_dev\n",
    "print(\"Normalized data: \", normalized_data)\n",
    "\n"
   ]
  },
  {
   "cell_type": "code",
   "execution_count": 86,
   "id": "90a9429a-0de1-46b1-b0fa-ae98ba92b26a",
   "metadata": {},
   "outputs": [
    {
     "name": "stdout",
     "output_type": "stream",
     "text": [
      "Mean:  5.5\n",
      "Median:  5.5\n",
      "Standard devision:  2.8722813232690143\n",
      "Variance:  8.25\n"
     ]
    }
   ],
   "source": [
    "data = np.array([1,2,3,4,5,6,7,8,9,10])\n",
    "\n",
    "# Variance\n",
    "mean = np.mean(data)\n",
    "print(\"Mean: \", mean)\n",
    "\n",
    "# Median\n",
    "median = np.median(data)\n",
    "print(\"Median: \", median)\n",
    "\n",
    "# Standard deviation\n",
    "std_dev = np.std(data) \n",
    "print(\"Standard devision: \", std_dev)\n",
    "\n",
    "# Variance\n",
    "variance = np.var(data)\n",
    "print(\"Variance: \", variance)"
   ]
  },
  {
   "cell_type": "code",
   "execution_count": 98,
   "id": "626e328b-54fc-4e2d-bbb5-2fb9f500ff21",
   "metadata": {},
   "outputs": [
    {
     "name": "stdout",
     "output_type": "stream",
     "text": [
      "[ 6  7  8  9 10]\n",
      "[5 6 7 8]\n"
     ]
    }
   ],
   "source": [
    "# Logical Operation\n",
    "\n",
    "data = np.array([1,2,3,4,5,6,7,8,9,10])\n",
    "\n",
    "print(data[data > 5])\n",
    "print(data[(data>=5) & (data<=8)])"
   ]
  },
  {
   "cell_type": "code",
   "execution_count": null,
   "id": "65eabeeb-016d-4b0c-806f-7731c447b3b6",
   "metadata": {},
   "outputs": [],
   "source": []
  }
 ],
 "metadata": {
  "kernelspec": {
   "display_name": "Python 3 (ipykernel)",
   "language": "python",
   "name": "python3"
  },
  "language_info": {
   "codemirror_mode": {
    "name": "ipython",
    "version": 3
   },
   "file_extension": ".py",
   "mimetype": "text/x-python",
   "name": "python",
   "nbconvert_exporter": "python",
   "pygments_lexer": "ipython3",
   "version": "3.10.11"
  }
 },
 "nbformat": 4,
 "nbformat_minor": 5
}
