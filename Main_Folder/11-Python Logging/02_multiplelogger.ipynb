{
 "cells": [
  {
   "cell_type": "markdown",
   "id": "28da5798",
   "metadata": {},
   "source": [
    "# Logging with Multiple Loggers\n",
    "\n",
    "You can create multiple loggers for different parts of your application"
   ]
  },
  {
   "cell_type": "markdown",
   "id": "58271a1b",
   "metadata": {},
   "source": []
  },
  {
   "cell_type": "code",
   "execution_count": 1,
   "id": "2e133c46",
   "metadata": {},
   "outputs": [],
   "source": [
    "import logging \n",
    "## create a logger for module1 \n",
    "logger1 = logging.getLogger(\"module1\")\n",
    "logger1.setLevel(logging.DEBUG)\n",
    "\n",
    "## create a logger for module2 \n",
    "logger2 = logging.getLogger(\"module2\")\n",
    "logger2.setLevel(logging.WARNING)\n",
    "\n",
    "# Configure logging setting \n",
    "logging.basicConfig(\n",
    "    level = logging.DEBUG, \n",
    "    format = \"%(asctime)s - %(name)s - %(levelname)s - %(message)s\", \n",
    "    datefmt = \"%Y-%m-%d %H%M%S\"\n",
    ")"
   ]
  },
  {
   "cell_type": "code",
   "execution_count": 2,
   "id": "aa18cc1d",
   "metadata": {},
   "outputs": [
    {
     "name": "stderr",
     "output_type": "stream",
     "text": [
      "2025-07-07 233407 - module1 - DEBUG - This is a debug message from module1\n",
      "2025-07-07 233407 - module2 - WARNING - This is a warning message from module2\n",
      "2025-07-07 233407 - module2 - ERROR - This is an error message from module2\n"
     ]
    }
   ],
   "source": [
    "## log message with different loggers \n",
    "logger1.debug(\"This is a debug message from module1\")\n",
    "logger2.warning(\"This is a warning message from module2\")\n",
    "logger2.error(\"This is an error message from module2\")\n"
   ]
  },
  {
   "cell_type": "code",
   "execution_count": null,
   "id": "fec02bd3",
   "metadata": {},
   "outputs": [],
   "source": []
  }
 ],
 "metadata": {
  "kernelspec": {
   "display_name": "Python 3 (ipykernel)",
   "language": "python",
   "name": "python3"
  },
  "language_info": {
   "codemirror_mode": {
    "name": "ipython",
    "version": 3
   },
   "file_extension": ".py",
   "mimetype": "text/x-python",
   "name": "python",
   "nbconvert_exporter": "python",
   "pygments_lexer": "ipython3",
   "version": "3.10.11"
  }
 },
 "nbformat": 4,
 "nbformat_minor": 5
}
