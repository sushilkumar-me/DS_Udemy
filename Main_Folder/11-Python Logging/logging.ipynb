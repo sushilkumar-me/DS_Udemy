{
 "cells": [
  {
   "cell_type": "markdown",
   "id": "957a5e47-7502-48cb-8544-93fe59291890",
   "metadata": {},
   "source": [
    "# Python Logging \n",
    "\n",
    "Logging is a crucial aspect of any application, providing a way to track events, errors, and operational information. Python's built-in logging module offers a flexible framework for emitting log messages from Python programs. In this lesson, we will cover the basic of logging, log levels, and best practices for using logging in Python application. \n"
   ]
  },
  {
   "cell_type": "code",
   "execution_count": 2,
   "id": "a303a786-7ee2-4595-8f13-7b40f93b43e5",
   "metadata": {},
   "outputs": [
    {
     "name": "stderr",
     "output_type": "stream",
     "text": [
      "DEBUG:root:This is an degug message\n",
      "INFO:root:This is an info message\n",
      "WARNING:root:This is a warning message\n",
      "ERROR:root:This is an error message\n",
      "CRITICAL:root:This is a critical message\n"
     ]
    }
   ],
   "source": [
    "import logging \n",
    "\n",
    "## Configure the basic logging settings \n",
    "logging.basicConfig(level=logging.DEBUG)\n",
    "\n",
    "## log messages with different severity levels \n",
    "logging.debug(\"This is an degug message\")\n",
    "logging.info(\"This is an info message\")\n",
    "logging.warning(\"This is a warning message\")\n",
    "logging.error(\"This is an error message\")\n",
    "logging.critical(\"This is a critical message\")\n"
   ]
  },
  {
   "cell_type": "markdown",
   "id": "d31b9e03-c5ec-4d38-a158-5d91b0e77e0e",
   "metadata": {},
   "source": [
    "## Log levels\n",
    "Python logging module has several log levels indicating the severity of events. The default levels are: \n",
    "*  Debug: Detailed informatio, typically of interest only when diagnosing problems.\n",
    "*  INFO: COnfirmation that things are working as excepted.\n",
    "*  WARNING: An indication that something unexcepted happened or indicative of some problem in the near future (e.g., 'disk space low').     The software is still working aas excepted\n",
    "*  ERROR: Due to more serious problems, The software has not be able to perform some functions.\n",
    "*  CRITICAL: A very serious error, indicating that the program itself may be unable to continue running. "
   ]
  },
  {
   "cell_type": "code",
   "execution_count": 1,
   "id": "1ddfb8c5-e93b-4743-8e5e-ff0ad06cfec9",
   "metadata": {},
   "outputs": [],
   "source": [
    "import logging\n",
    "## configuring logging\n",
    "\n",
    "logging.basicConfig(\n",
    "    filename = 'app.log', \n",
    "    filemode = 'w',\n",
    "    level= logging.DEBUG, \n",
    "    format = '%(asctime)s-%(name)s=%(levelname)s-%(message)s', \n",
    "    datefmt= '%Y-%m-%d %H:%M:%S'\n",
    ")\n",
    "\n",
    "## log messages with different severity levels \n",
    "logging.debug(\"This is an degug message\")\n",
    "logging.info(\"This is an info message\")\n",
    "logging.warning(\"This is a warning message\")\n",
    "logging.error(\"This is an error message\")\n",
    "logging.critical(\"This is a critical message\")"
   ]
  },
  {
   "cell_type": "code",
   "execution_count": null,
   "id": "84699ece-9a66-47a2-b4fb-1fefa80e22de",
   "metadata": {},
   "outputs": [],
   "source": []
  }
 ],
 "metadata": {
  "kernelspec": {
   "display_name": "Python 3 (ipykernel)",
   "language": "python",
   "name": "python3"
  },
  "language_info": {
   "codemirror_mode": {
    "name": "ipython",
    "version": 3
   },
   "file_extension": ".py",
   "mimetype": "text/x-python",
   "name": "python",
   "nbconvert_exporter": "python",
   "pygments_lexer": "ipython3",
   "version": "3.10.11"
  }
 },
 "nbformat": 4,
 "nbformat_minor": 5
}
