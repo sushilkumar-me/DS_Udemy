{
 "cells": [
  {
   "cell_type": "code",
   "execution_count": 1,
   "id": "1746b260-e014-4cc8-afa8-0c8baab01eaf",
   "metadata": {},
   "outputs": [
    {
     "name": "stdout",
     "output_type": "stream",
     "text": [
      "Dirctory package created\n"
     ]
    }
   ],
   "source": [
    "## Create a new directory\n",
    "import os\n",
    "new_directory = 'package'\n",
    "os.mkdir(new_directory)\n",
    "print(f\"Dirctory {new_directory} created\")"
   ]
  },
  {
   "cell_type": "code",
   "execution_count": 3,
   "id": "77f340ec-56bc-4c02-b000-16c0b77c9721",
   "metadata": {},
   "outputs": [
    {
     "name": "stdout",
     "output_type": "stream",
     "text": [
      "-.ipynb_checkpoints\n",
      "-01-FileOperation.ipynb\n",
      "-02-FilePath.ipynb\n",
      "-destination.txt\n",
      "-example.bin\n",
      "-example.txt\n",
      "-package\n"
     ]
    }
   ],
   "source": [
    "## Listing files and directory\n",
    "items = os.listdir(\".\")\n",
    "for item in items:\n",
    "    print(f\"-{item}\")"
   ]
  },
  {
   "cell_type": "code",
   "execution_count": 4,
   "id": "a744cdaf-6146-4410-9034-2133deb335a3",
   "metadata": {},
   "outputs": [
    {
     "name": "stdout",
     "output_type": "stream",
     "text": [
      "folder\\file.txt\n"
     ]
    }
   ],
   "source": [
    "## Joining Paths \n",
    "\n",
    "dir_name = \"folder\"\n",
    "file_name = \"file.txt\"\n",
    "full_path = os.path.join(dir_name, file_name) # Relative Path \n",
    "print(full_path)"
   ]
  },
  {
   "cell_type": "code",
   "execution_count": 5,
   "id": "eba3b18b-8a80-45b3-8f79-255d03d51831",
   "metadata": {},
   "outputs": [
    {
     "name": "stdout",
     "output_type": "stream",
     "text": [
      "C:\\Users\\admin\\OneDrive\\Desktop\\DS_Udemy\\Main Folder\\05-File Handling\\folder\\file.txt\n"
     ]
    }
   ],
   "source": [
    "dir_name = \"folder\"\n",
    "file_name = \"file.txt\"\n",
    "full_path = os.path.join(os.getcwd(), dir_name, file_name) # Full Path (Absolute Path)\n",
    "print(full_path)"
   ]
  },
  {
   "cell_type": "code",
   "execution_count": 10,
   "id": "e7fbe7a3-b32f-4bfb-bdd4-06f15312ef7a",
   "metadata": {},
   "outputs": [
    {
     "name": "stdout",
     "output_type": "stream",
     "text": [
      "The path example1.txt doesn't exist\n"
     ]
    }
   ],
   "source": [
    "import os\n",
    "path = 'example1.txt'\n",
    "if os.path.exists(path):\n",
    "    print(f\"The path {path} exist\")\n",
    "else: \n",
    "    print(f\"The path {path} doesn't exist\")"
   ]
  },
  {
   "cell_type": "code",
   "execution_count": 11,
   "id": "b7bbd8d9-dc12-4c53-a848-784a380d44a8",
   "metadata": {},
   "outputs": [
    {
     "name": "stdout",
     "output_type": "stream",
     "text": [
      "The Path example.txt is a file\n"
     ]
    }
   ],
   "source": [
    "# Checking if a path is a File or Directory\n",
    "import os\n",
    "\n",
    "path = 'example.txt'\n",
    "if os.path.isfile(path):\n",
    "    print(f\"The Path {path} is a file\")\n",
    "elif os.path.isdir(path):\n",
    "    print(f\"The path {path} is a folder\")\n",
    "else:\n",
    "    print(f\"The path {path} is neither  a file or  a directory\")"
   ]
  },
  {
   "cell_type": "code",
   "execution_count": 12,
   "id": "9624e359-b57a-4aac-b80e-34d74133ce68",
   "metadata": {},
   "outputs": [
    {
     "name": "stdout",
     "output_type": "stream",
     "text": [
      "C:\\Users\\admin\\OneDrive\\Desktop\\DS_Udemy\\Main Folder\\05-File Handling\\example.txt\n"
     ]
    }
   ],
   "source": [
    "## Getting the absolute path\n",
    "\n",
    "relative_path = 'example.txt'\n",
    "absolute_path = os.path.abspath(relative_path)\n",
    "print(absolute_path)\n"
   ]
  },
  {
   "cell_type": "code",
   "execution_count": null,
   "id": "6d9c62e8-cde1-442c-bddc-6a148952e275",
   "metadata": {},
   "outputs": [],
   "source": []
  },
  {
   "cell_type": "code",
   "execution_count": null,
   "id": "6fe11b32-d8f5-4042-967a-33c6a099b019",
   "metadata": {},
   "outputs": [],
   "source": []
  }
 ],
 "metadata": {
  "kernelspec": {
   "display_name": "Python 3 (ipykernel)",
   "language": "python",
   "name": "python3"
  },
  "language_info": {
   "codemirror_mode": {
    "name": "ipython",
    "version": 3
   },
   "file_extension": ".py",
   "mimetype": "text/x-python",
   "name": "python",
   "nbconvert_exporter": "python",
   "pygments_lexer": "ipython3",
   "version": "3.10.11"
  }
 },
 "nbformat": 4,
 "nbformat_minor": 5
}
