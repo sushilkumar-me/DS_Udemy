{
 "cells": [
  {
   "cell_type": "markdown",
   "id": "1ff74581-67f9-4469-b2e5-fc56c76b79e0",
   "metadata": {},
   "source": [
    "# File Operation"
   ]
  },
  {
   "cell_type": "code",
   "execution_count": 6,
   "id": "86fc48db-978a-4dc6-b82e-faafe3fc4919",
   "metadata": {},
   "outputs": [
    {
     "name": "stdout",
     "output_type": "stream",
     "text": [
      "hello, this is file\n",
      "I am sushil kumar\n"
     ]
    }
   ],
   "source": [
    "# Read a whole file\n",
    "\n",
    "with open('example.txt', 'r') as file:\n",
    "    content = file.read()\n",
    "    print(content)\n",
    "        "
   ]
  },
  {
   "cell_type": "code",
   "execution_count": 12,
   "id": "b46986cc-eea8-414e-b88f-0a882586b087",
   "metadata": {},
   "outputs": [
    {
     "name": "stdout",
     "output_type": "stream",
     "text": [
      "hello, this is file\n",
      "I am sushil kumar\n"
     ]
    }
   ],
   "source": [
    "# Read a file line-by-line\n",
    "\n",
    "with open('example.txt', 'r') as file:\n",
    "    for line in file:\n",
    "        print(line.strip()) # strip() removes the newline character  "
   ]
  },
  {
   "cell_type": "code",
   "execution_count": 17,
   "id": "3c31cb52-5ab5-4e0a-a542-eebe7fd8dd36",
   "metadata": {},
   "outputs": [],
   "source": [
    "# writing a file(overwriting)\n",
    "\n",
    "with open('example.txt', 'w') as file:\n",
    "    file.write('sushil kumar')\n",
    "\n",
    "file.close()"
   ]
  },
  {
   "cell_type": "code",
   "execution_count": 20,
   "id": "69eaae08-ed0f-468f-bc7b-6df9bb4b1fbc",
   "metadata": {},
   "outputs": [],
   "source": [
    "# write a file (without overwriting)\n",
    "\n",
    "with open('example.txt', 'a') as file:\n",
    "    file.write(\"Append Operation\")\n",
    "\n",
    "file.close()"
   ]
  },
  {
   "cell_type": "code",
   "execution_count": 21,
   "id": "ab1ef9aa-9854-430b-b83e-f22b73e3b9d7",
   "metadata": {},
   "outputs": [],
   "source": [
    "# writing a list of lines to a file\n",
    "\n",
    "lines =['First line\\n', 'Second line\\n', 'Third line\\n']\n",
    "\n",
    "with open('example.txt', 'a') as file:\n",
    "    file.writelines(lines)"
   ]
  },
  {
   "cell_type": "code",
   "execution_count": 22,
   "id": "e1b24daf-1c74-47e9-afcb-884a34a22ed7",
   "metadata": {},
   "outputs": [],
   "source": [
    "# Binary Files\n",
    "\n",
    "## Writing to a binary file\n",
    "data = b'\\x00\\x01\\x02\\x03\\x04'\n",
    "with open('example.bin', 'wb') as file: # wb means write byte\n",
    "    file.write(data)\n"
   ]
  },
  {
   "cell_type": "code",
   "execution_count": 25,
   "id": "693f8c61-0dc5-4104-99d6-0eb0dd7d226c",
   "metadata": {},
   "outputs": [
    {
     "name": "stdout",
     "output_type": "stream",
     "text": [
      "b'\\x00\\x01\\x02\\x03\\x04'\n"
     ]
    }
   ],
   "source": [
    "## Reading to a binary file\n",
    "\n",
    "with open('example.bin', 'rb') as file: # rb means read byte\n",
    "    content = file.read()\n",
    "    print(content)"
   ]
  },
  {
   "cell_type": "code",
   "execution_count": 26,
   "id": "8d84c89a-cb41-4124-9a87-de8c41e31fcb",
   "metadata": {},
   "outputs": [],
   "source": [
    "## Read the content from a source text file and write to a destination text file \n",
    "# Copying a text file\n",
    "\n",
    "with open('example.txt', 'r') as source_file:\n",
    "    content = source_file.read()\n",
    "\n",
    "with open('destination.txt', 'w') as destination_file:\n",
    "    destination_file.write(content)\n",
    "\n"
   ]
  },
  {
   "cell_type": "code",
   "execution_count": 46,
   "id": "c2fcb673-92b3-432c-95b0-0c2ba5143bfc",
   "metadata": {},
   "outputs": [
    {
     "name": "stdout",
     "output_type": "stream",
     "text": [
      "Lines: 3\n",
      "Words: 8\n",
      "Characters: 62\n"
     ]
    }
   ],
   "source": [
    "# Read a text file and count the number of lines, words, and characters.\n",
    "\n",
    "with open('example.txt', 'r') as file:\n",
    "    content = file.read()\n",
    "    \n",
    "line = content.splitlines()\n",
    "line_count = 0\n",
    "for i in line:\n",
    "    line_count += 1\n",
    "print(f\"Lines: {line_count}\")\n",
    "\n",
    "\n",
    "word = content.split()\n",
    "word_count = 0\n",
    "for i in word:\n",
    "    word_count += 1\n",
    "print(f\"Words: {word_count}\")\n",
    "\n",
    "print(f\"Characters: {len(content)}\")\n",
    "\n",
    "\n",
    "\n"
   ]
  },
  {
   "cell_type": "code",
   "execution_count": 52,
   "id": "17e91287-d95b-40dd-9011-e9ba5dac7047",
   "metadata": {},
   "outputs": [
    {
     "name": "stdout",
     "output_type": "stream",
     "text": [
      "hello World\n",
      "This is a new line\n",
      "\n"
     ]
    }
   ],
   "source": [
    "## Writing and then Reading a file\n",
    "\n",
    "# w+ is used to open  a file for both reading and writing. If the file does not exist, It will be \n",
    "#  created. If the file exist, its content is truncate(i.e., the file is overwriting)\n",
    "\n",
    "\n",
    "with open('example.txt', 'w+') as file: \n",
    "    file.write(\"hello World\\n\")\n",
    "    file.write(\"This is a new line\\n\")\n",
    "\n",
    "    ## Move the file cursor to the beginning\n",
    "    file.seek(0)\n",
    "\n",
    "    ## Read the content of the file \n",
    "    content = file.read()\n",
    "    print(content)\n",
    "    "
   ]
  },
  {
   "cell_type": "code",
   "execution_count": 53,
   "id": "e8f79fb8-1018-4688-8535-3982f6581adc",
   "metadata": {},
   "outputs": [
    {
     "name": "stdin",
     "output_type": "stream",
     "text": [
      "Enter the number:  5\n"
     ]
    },
    {
     "name": "stdout",
     "output_type": "stream",
     "text": [
      "0\n",
      "1\n",
      "1\n",
      "2\n",
      "3\n"
     ]
    }
   ],
   "source": [
    "a = 0\n",
    "b = 1\n",
    "n = int(input(\"Enter the number: \"))\n",
    "for i in range(n):\n",
    "    print(a)\n",
    "    a, b = b, a+b"
   ]
  },
  {
   "cell_type": "code",
   "execution_count": null,
   "id": "c1c28699-7656-46be-9bf8-23afc3a28aa0",
   "metadata": {},
   "outputs": [],
   "source": []
  }
 ],
 "metadata": {
  "kernelspec": {
   "display_name": "Python 3 (ipykernel)",
   "language": "python",
   "name": "python3"
  },
  "language_info": {
   "codemirror_mode": {
    "name": "ipython",
    "version": 3
   },
   "file_extension": ".py",
   "mimetype": "text/x-python",
   "name": "python",
   "nbconvert_exporter": "python",
   "pygments_lexer": "ipython3",
   "version": "3.10.11"
  }
 },
 "nbformat": 4,
 "nbformat_minor": 5
}
