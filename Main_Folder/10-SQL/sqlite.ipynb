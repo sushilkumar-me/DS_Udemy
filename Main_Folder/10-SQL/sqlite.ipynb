{
 "cells": [
  {
   "cell_type": "markdown",
   "id": "ac41445a-beb0-4645-a992-c9839714b3fa",
   "metadata": {},
   "source": [
    "# SQL And SQLite "
   ]
  },
  {
   "cell_type": "markdown",
   "id": "8404fd6e-729a-415d-b19f-fc83c06b5bc1",
   "metadata": {},
   "source": [
    "SQL(Structured Query Language) is as standard language for managing and manipulation relational databases. SQLite is a self-contained . serverless, and zero-configuration database engine that is widely used for embedded database system systems. In this lesson, we will cover the basic of SQL and SQLite, including creating databases, tables, and performing variuos SQL operations."
   ]
  },
  {
   "cell_type": "code",
   "execution_count": 1,
   "id": "fe67c662-4191-433f-ac14-63466d33c4cb",
   "metadata": {},
   "outputs": [],
   "source": [
    "import sqlite3"
   ]
  },
  {
   "cell_type": "code",
   "execution_count": 2,
   "id": "ec346ced-5586-42d2-b8fd-aa86c9572a9a",
   "metadata": {},
   "outputs": [
    {
     "data": {
      "text/plain": [
       "<sqlite3.Connection at 0x261b7855b40>"
      ]
     },
     "execution_count": 2,
     "metadata": {},
     "output_type": "execute_result"
    }
   ],
   "source": [
    "# Connect to an SQLite database \n",
    "connection = sqlite3.connect('example.db')\n",
    "connection"
   ]
  },
  {
   "cell_type": "code",
   "execution_count": 3,
   "id": "ca06de8d-0498-47ae-ad95-4902d62314a0",
   "metadata": {},
   "outputs": [],
   "source": [
    "cursor = connection.cursor()"
   ]
  },
  {
   "cell_type": "code",
   "execution_count": 4,
   "id": "727878e8-a251-45c3-aa81-361c0308f0e6",
   "metadata": {},
   "outputs": [],
   "source": [
    "# Create a table \n",
    "cursor.execute('''\n",
    "create Table If Not Exists employees(\n",
    "    id Integer Primary Key, \n",
    "    Name Text Not Null, \n",
    "    Age Integer, \n",
    "    department Text             \n",
    "    ) \n",
    "''')\n",
    "\n",
    "## Commit the changes \n",
    "connection.commit()"
   ]
  },
  {
   "cell_type": "code",
   "execution_count": 5,
   "id": "b8853ff2-8f6c-43d8-9c4a-21ef5c158f14",
   "metadata": {},
   "outputs": [
    {
     "data": {
      "text/plain": [
       "<sqlite3.Cursor at 0x261b747fbc0>"
      ]
     },
     "execution_count": 5,
     "metadata": {},
     "output_type": "execute_result"
    }
   ],
   "source": [
    "cursor.execute('''\n",
    "Select * from employees\n",
    "''')"
   ]
  },
  {
   "cell_type": "code",
   "execution_count": 6,
   "id": "084aedf9-1f55-4ed6-8ad4-b0e543f6da87",
   "metadata": {},
   "outputs": [],
   "source": [
    "# Insert the data in sqlite table \n",
    "cursor.execute('''\n",
    "Insert Into employees(name, age, department)\n",
    "    values('Sushil', '21', 'Data Scientist')\n",
    "''')\n",
    "\n",
    "cursor.execute('''\n",
    "Insert Into employees(name, age, department)\n",
    "    values('Akash', '28', 'Finance')\n",
    "''')\n",
    "\n",
    "cursor.execute('''\n",
    "Insert Into employees(name, age, department)\n",
    "    values('Srinivas', '25', 'Data Scientist')\n",
    "''')\n",
    "\n",
    "connection.commit()"
   ]
  },
  {
   "cell_type": "code",
   "execution_count": 7,
   "id": "fed7d664-7a9a-4f7d-8876-adff01017fb4",
   "metadata": {},
   "outputs": [
    {
     "name": "stdout",
     "output_type": "stream",
     "text": [
      "(1, 'Sushil', 21, 'Data Scientist')\n",
      "(3, 'Srinivas', 34, 'Data Scientist')\n",
      "(4, 'Sushil', 21, 'Data Scientist')\n",
      "(5, 'Akash', 28, 'Finance')\n",
      "(6, 'Srinivas', 25, 'Data Scientist')\n"
     ]
    }
   ],
   "source": [
    "# Query the data from the table  \n",
    "cursor.execute('Select * from employees')\n",
    "rows = cursor.fetchall() \n",
    "\n",
    "# Print the quired data \n",
    "for row in rows: \n",
    "    print(row)\n",
    "\n"
   ]
  },
  {
   "cell_type": "code",
   "execution_count": 8,
   "id": "836cdb22-91d4-46dc-9c84-6bbea1cd500f",
   "metadata": {},
   "outputs": [],
   "source": [
    "# Update the data in the table \n",
    "cursor.execute('''\n",
    "Update employees \n",
    "Set age=34\n",
    "Where name= \"Srinivas\"\n",
    "''')\n",
    "\n",
    "connection.commit()"
   ]
  },
  {
   "cell_type": "code",
   "execution_count": 9,
   "id": "d781bbca-9ad0-4773-935e-f8825ea6c582",
   "metadata": {},
   "outputs": [
    {
     "name": "stdout",
     "output_type": "stream",
     "text": [
      "(1, 'Sushil', 21, 'Data Scientist')\n",
      "(3, 'Srinivas', 34, 'Data Scientist')\n",
      "(4, 'Sushil', 21, 'Data Scientist')\n",
      "(5, 'Akash', 28, 'Finance')\n",
      "(6, 'Srinivas', 34, 'Data Scientist')\n"
     ]
    }
   ],
   "source": [
    "cursor.execute('Select * from employees')\n",
    "rows = cursor.fetchall()\n",
    "for row in rows: \n",
    "    print(row)"
   ]
  },
  {
   "cell_type": "code",
   "execution_count": 10,
   "id": "f16703ac-3a1c-4881-8e83-db96ced54d1d",
   "metadata": {},
   "outputs": [],
   "source": [
    "# Delete teh data from table \n",
    "\n",
    "cursor.execute('''\n",
    "Delete from employees \n",
    "where name = \"Akash\"\n",
    "''')\n",
    "\n",
    "connection.commit() "
   ]
  },
  {
   "cell_type": "code",
   "execution_count": 11,
   "id": "faa27ae5-8eac-4ce9-8c81-1b1e9660a9b2",
   "metadata": {},
   "outputs": [
    {
     "name": "stdout",
     "output_type": "stream",
     "text": [
      "(1, 'Sushil', 21, 'Data Scientist')\n",
      "(3, 'Srinivas', 34, 'Data Scientist')\n",
      "(4, 'Sushil', 21, 'Data Scientist')\n",
      "(6, 'Srinivas', 34, 'Data Scientist')\n"
     ]
    }
   ],
   "source": [
    "cursor.execute('Select * from employees')\n",
    "rows = cursor.fetchall() \n",
    "for row in rows: \n",
    "    print(row)"
   ]
  },
  {
   "cell_type": "code",
   "execution_count": 15,
   "id": "4bc86545-9099-4cbe-a45a-82d7c28a3713",
   "metadata": {},
   "outputs": [],
   "source": [
    "## Working with slaes data \n",
    "# Connect to an SQLite database \n",
    "connection = sqlite3.connect('sales_data.db')\n",
    "cursor = connection.cursor() \n",
    "\n",
    "# Create a table for sales data\n",
    "cursor.execute('''\n",
    "    Create Table IF NOT EXISTS sales (\n",
    "        id INTEGER PRIMARY KEY, \n",
    "        date TEXT NOT NULL, \n",
    "        product TEXT NOT NULL, \n",
    "        sales INTEGER, \n",
    "        region TEXT\n",
    "    )\n",
    "''')\n",
    "\n",
    "\n",
    "# Insert data into the sales table \n",
    "sales_data = [\n",
    "    ('2023-01-01', 'Product1', 100, 'North'), \n",
    "    ('2023-01-02', 'Product2', 200, 'South'), \n",
    "    ('2023-01-03', 'Product3', 150, 'East'), \n",
    "    ('2023-01-04', 'Product4', 250, 'West'), \n",
    "    ('2023-01-05', 'Product5', 300, 'North')\n",
    "]\n",
    "\n",
    "cursor.executemany('''\n",
    "    Insert into sales(date, product, sales, region)\n",
    "            values(?, ?, ?, ?)\n",
    "''', sales_data)\n",
    "\n",
    "connection.commit()"
   ]
  },
  {
   "cell_type": "code",
   "execution_count": 16,
   "id": "ec66ded9-6387-457c-890e-e789e8249423",
   "metadata": {},
   "outputs": [
    {
     "name": "stdout",
     "output_type": "stream",
     "text": [
      "(1, '2023-01-01', 'Product1', 100, 'North')\n",
      "(2, '2023-01-02', 'Product2', 200, 'South')\n",
      "(3, '2023-01-03', 'Product3', 150, 'East')\n",
      "(4, '2023-01-04', 'Product4', 250, 'West')\n",
      "(5, '2023-01-05', 'Product5', 300, 'North')\n"
     ]
    }
   ],
   "source": [
    "cursor.execute('SELECT * FROM sales')\n",
    "rows = cursor.fetchall()\n",
    "\n",
    "# Print the queried data \n",
    "for row in rows: \n",
    "    print(row)"
   ]
  },
  {
   "cell_type": "code",
   "execution_count": 17,
   "id": "a0a3bdff-08fd-489e-8063-dd5a9878543c",
   "metadata": {},
   "outputs": [],
   "source": [
    "## Close the conneection\n",
    "connection.close()"
   ]
  },
  {
   "cell_type": "code",
   "execution_count": null,
   "id": "e1e2e068-2065-4a30-8633-3900b4748cae",
   "metadata": {},
   "outputs": [],
   "source": []
  }
 ],
 "metadata": {
  "kernelspec": {
   "display_name": "Python 3 (ipykernel)",
   "language": "python",
   "name": "python3"
  },
  "language_info": {
   "codemirror_mode": {
    "name": "ipython",
    "version": 3
   },
   "file_extension": ".py",
   "mimetype": "text/x-python",
   "name": "python",
   "nbconvert_exporter": "python",
   "pygments_lexer": "ipython3",
   "version": "3.10.11"
  }
 },
 "nbformat": 4,
 "nbformat_minor": 5
}
