{
 "cells": [
  {
   "cell_type": "markdown",
   "id": "6cade624",
   "metadata": {},
   "source": [
    "# Module 3: Data Structures Assignments\n",
    "## Lesson 3.2: Tuples\n",
    "### Assignment 1: Creating and Accessing Tuples\n",
    "\n",
    "Create a tuple with the first 10 positive integers. Print the tuple.\n",
    "\n",
    "### Assignment 2: Accessing Tuple Elements\n",
    "\n",
    "Print the first, middle, and last elements of the tuple created in Assignment 1.\n",
    "\n",
    "### Assignment 3: Tuple Slicing\n",
    "\n",
    "Print the first three elements, the last three elements, and the elements from index 2 to 5 of the tuple created in Assignment 1.\n",
    "\n",
    "### Assignment 4: Nested Tuples\n",
    "\n",
    "Create a nested tuple representing a 3x3 matrix and print the matrix. Access and print the element at the second row and third column.\n",
    "\n",
    "### Assignment 5: Tuple Concatenation\n",
    "\n",
    "Concatenate two tuples: (1, 2, 3) and (4, 5, 6). Print the resulting tuple.\n",
    "\n",
    "### Assignment 6: Tuple Methods\n",
    "\n",
    "Create a tuple with duplicate elements and count the occurrences of an element. Find the index of the first occurrence of an element in the tuple.\n",
    "\n",
    "### Assignment 7: Unpacking Tuples\n",
    "\n",
    "Create a tuple with 5 elements and unpack it into 5 variables. Print the variables.\n",
    "\n",
    "### Assignment 8: Tuple Conversion\n",
    "\n",
    "Convert a list of the first 5 positive integers to a tuple. Print the tuple.\n",
    "\n",
    "### Assignment 9: Tuple of Tuples\n",
    "\n",
    "Create a tuple containing 3 tuples, each with 3 elements. Print the tuple of tuples.\n",
    "\n",
    "### Assignment 10: Tuple and List\n",
    "\n",
    "Create a tuple with the first 5 positive integers. Convert it to a list, append the number 6, and convert it back to a tuple. Print the resulting tuple.\n",
    "\n",
    "### Assignment 11: Tuple and String\n",
    "\n",
    "Create a tuple with the characters of a string. Join the tuple elements into a single string. Print the string.\n",
    "\n",
    "### Assignment 12: Tuple and Dictionary\n",
    "\n",
    "Create a dictionary with tuple keys and integer values. Print the dictionary.\n",
    "\n",
    "### Assignment 13: Nested Tuple Iteration\n",
    "\n",
    "Create a nested tuple and iterate over the elements, printing each element.\n",
    "\n",
    "### Assignment 14: Tuple and Set\n",
    "\n",
    "Create a tuple with duplicate elements. Convert it to a set to remove duplicates and print the resulting set.\n",
    "\n",
    "### Assignment 15: Tuple Functions\n",
    "\n",
    "Write functions that take a tuple and return the minimum, maximum, and sum of the elements. Print the results for a sample tuple."
   ]
  },
  {
   "cell_type": "code",
   "execution_count": 1,
   "id": "49dcfb5a",
   "metadata": {},
   "outputs": [
    {
     "name": "stdout",
     "output_type": "stream",
     "text": [
      "(1, 2, 3, 4, 5, 6, 7, 8, 9, 10)\n"
     ]
    }
   ],
   "source": [
    "# Assignment 1: Creating and Accessing Tuples¶\n",
    "# Create a tuple with the first 10 positive integers. Print the tuple.\n",
    "\n",
    "t = (1,2,3,4,5,6,7,8,9,10)\n",
    "print(t)"
   ]
  },
  {
   "cell_type": "code",
   "execution_count": 3,
   "id": "8b72f9a1-b9b8-4386-8c26-0a6f4332134f",
   "metadata": {},
   "outputs": [
    {
     "name": "stdout",
     "output_type": "stream",
     "text": [
      "First element is: 1\n",
      "middle element is: 6\n",
      "Last element is: 10\n"
     ]
    }
   ],
   "source": [
    "# Assignment 2: Accessing Tuple Elements\n",
    "# Print the first, middle, and last elements of the tuple created in Assignment 1.\n",
    "\n",
    "print(f\"First element is: {t[0]}\")\n",
    "print(f\"middle element is: {t[len(t) // 2]}\")\n",
    "print(f\"Last element is: {t[-1]}\")"
   ]
  },
  {
   "cell_type": "code",
   "execution_count": 5,
   "id": "c80ceb6f-9f7f-4422-a57f-81ff6201e69c",
   "metadata": {},
   "outputs": [
    {
     "name": "stdout",
     "output_type": "stream",
     "text": [
      "First three elements: (1, 2, 3)\n",
      "last three elements: (10, 9, 8)\n",
      "Elements from index 2 to 5: (3, 4, 5, 6)\n"
     ]
    }
   ],
   "source": [
    "# Assignment 3: Tuple Slicing\n",
    "# Print the first three elements, the last three elements, and the elements from index 2 to 5 of the tuple created in Assignment 1.\n",
    "\n",
    "print(f\"First three elements: {t[0:3]}\")\n",
    "print(f\"last three elements: {t[-1:-4:-1]}\")\n",
    "print(f\"Elements from index 2 to 5: {t[2:6]}\")"
   ]
  },
  {
   "cell_type": "code",
   "execution_count": 13,
   "id": "24618992-d989-4eee-b315-be7e60728ba8",
   "metadata": {},
   "outputs": [
    {
     "name": "stdout",
     "output_type": "stream",
     "text": [
      "1 2 3 \n",
      "4 5 6 \n",
      "7 8 9 \n",
      "At second row and third column element: 6\n"
     ]
    }
   ],
   "source": [
    "# Assignment 4: Nested Tuples¶\n",
    "# Create a nested tuple representing a 3x3 matrix and print the matrix. Access and print the element at the second row and third column.\n",
    "\n",
    "t_matrix = ((1,2,3), (4,5,6), (7,8,9))\n",
    "for i in t_matrix:\n",
    "    for j in i:\n",
    "        print(j, end= \" \")\n",
    "    print()\n",
    "\n",
    "print(f\"At second row and third column element: {t_matrix[1][2]}\")\n",
    "    "
   ]
  },
  {
   "cell_type": "code",
   "execution_count": 14,
   "id": "61e52014-b4f3-4736-8ede-982f27a78b39",
   "metadata": {},
   "outputs": [
    {
     "name": "stdout",
     "output_type": "stream",
     "text": [
      "(1, 2, 3, 4, 5, 6)\n"
     ]
    }
   ],
   "source": [
    "# Assignment 5: Tuple Concatenation\n",
    "# Concatenate two tuples: (1, 2, 3) and (4, 5, 6). Print the resulting tuple.\n",
    "\n",
    "t1 = (1,2,3)\n",
    "t2 = (4,5,6)\n",
    "print(t1 +t2)"
   ]
  },
  {
   "cell_type": "code",
   "execution_count": 16,
   "id": "d58d7a93-21dd-4f3f-9f5e-166deec7ae87",
   "metadata": {},
   "outputs": [
    {
     "name": "stdout",
     "output_type": "stream",
     "text": [
      "5\n",
      "2\n"
     ]
    }
   ],
   "source": [
    "# Assignment 6: Tuple Methods\n",
    "# Create a tuple with duplicate elements and count the occurrences of an element. Find the index of the first occurrence of an element in the tuple.\n",
    "\n",
    "t_d = (1,2,3,3,3,3,4,5,3,2)\n",
    "\n",
    "print(t_d.count(3))\n",
    "print(t_d.index(3))"
   ]
  },
  {
   "cell_type": "code",
   "execution_count": 17,
   "id": "2c9b7278-c703-4797-8c89-53bb08cf43d3",
   "metadata": {},
   "outputs": [
    {
     "name": "stdout",
     "output_type": "stream",
     "text": [
      "1\n",
      "2\n",
      "3\n",
      "4\n",
      "5\n"
     ]
    }
   ],
   "source": [
    "# Assignment 7: Unpacking Tuples\n",
    "\n",
    "# Create a tuple with 5 elements and unpack it into 5 variables. Print the variables.\n",
    "\n",
    "\n",
    "t_p = (1,2,3,4,5)\n",
    "a, b, c, d, e = t_p\n",
    "print(a)\n",
    "print(b)\n",
    "print(c)\n",
    "print(d)\n",
    "print(e)"
   ]
  },
  {
   "cell_type": "code",
   "execution_count": 18,
   "id": "061e5431-e1cc-4f65-8baf-b8ca87d11ac9",
   "metadata": {},
   "outputs": [
    {
     "name": "stdout",
     "output_type": "stream",
     "text": [
      "(1, 2, 3, 4, 5)\n"
     ]
    }
   ],
   "source": [
    "# Assignment 8: Tuple Conversion\n",
    "\n",
    "# Convert a list of the first 5 positive integers to a tuple. Print the tuple.\n",
    "\n",
    "\n",
    "q = 1\n",
    "w = 2\n",
    "e = 3\n",
    "r = 4\n",
    "y = 5\n",
    "tup = q,w,e,r,y\n",
    "print(tup)"
   ]
  },
  {
   "cell_type": "code",
   "execution_count": 20,
   "id": "070c1516-0483-4252-9dff-aa3a0afb6457",
   "metadata": {},
   "outputs": [
    {
     "name": "stdout",
     "output_type": "stream",
     "text": [
      "((1, 2, 3), (4, 5, 6), (7, 8, 9))\n"
     ]
    }
   ],
   "source": [
    "# Assignment 9: Tuple of Tuples\n",
    "\n",
    "# Create a tuple containing 3 tuples, each with 3 elements. Print the tuple of tuples.\n",
    "\n",
    "\n",
    "t = ((1,2,3), (4,5,6), (7,8,9))\n",
    "print(t)"
   ]
  },
  {
   "cell_type": "code",
   "execution_count": 22,
   "id": "592884f3-e2b7-4e8c-ac88-02b8968da355",
   "metadata": {},
   "outputs": [
    {
     "name": "stdout",
     "output_type": "stream",
     "text": [
      "(1, 2, 3, 4, 5, 6)\n"
     ]
    }
   ],
   "source": [
    "# ### Assignment 10: Tuple and List\n",
    "\n",
    "# Create a tuple with the first 5 positive integers. Convert it to a list, append the number 6, and convert it back to a tuple. Print the resulting tuple.\n",
    "\n",
    "\n",
    "t = (1,2,3,4,5)\n",
    "l = list(t)\n",
    "l.append(6)\n",
    "t = tuple(l)\n",
    "print(t)"
   ]
  },
  {
   "cell_type": "code",
   "execution_count": 24,
   "id": "3fc6afc4-803b-4d5e-acd7-3571d9d6fe2d",
   "metadata": {},
   "outputs": [
    {
     "name": "stdout",
     "output_type": "stream",
     "text": [
      "abc\n"
     ]
    }
   ],
   "source": [
    "# Assignment 11: Tuple and String\n",
    "\n",
    "# Create a tuple with the characters of a string. Join the tuple elements into a single string. Print the string.\n",
    "\n",
    "\n",
    "t = ('a', 'b', 'c')\n",
    "d = \"\"\n",
    "for i in t:\n",
    "    d += i\n",
    "\n",
    "print(d)"
   ]
  },
  {
   "cell_type": "code",
   "execution_count": 27,
   "id": "afda7030-f396-4af1-92df-62f43abf3c7d",
   "metadata": {},
   "outputs": [
    {
     "name": "stdout",
     "output_type": "stream",
     "text": [
      "{'maths': 39, 'Science': 32, 'English': 23}\n"
     ]
    }
   ],
   "source": [
    "# Assignment 12: Tuple and Dictionary\n",
    "\n",
    "# Create a dictionary with tuple keys and integer values. Print the dictionary.\n",
    "\n",
    "\n",
    "d = {(\"maths\"): 39,\n",
    "     (\"Science\"): 32,\n",
    "     (\"English\"): 23\n",
    "    \n",
    "    }\n",
    "print(d)\n"
   ]
  },
  {
   "cell_type": "code",
   "execution_count": 30,
   "id": "16f93e9a-c4c2-4d71-aab7-a116585b7d6c",
   "metadata": {},
   "outputs": [
    {
     "name": "stdout",
     "output_type": "stream",
     "text": [
      "1 2 \n",
      "3 4 \n"
     ]
    }
   ],
   "source": [
    "#  Nested Tuple Iteration\n",
    "\n",
    "# Create a nested tuple and iterate over the elements, printing each element.\n",
    "\n",
    "nested_t = ((1,2), (3,4))\n",
    "for i in nested_t:\n",
    "    for j in i:\n",
    "        print(j, end=\" \")\n",
    "    print()"
   ]
  },
  {
   "cell_type": "code",
   "execution_count": 38,
   "id": "5b384f6c-c791-4ea3-91c4-6580087fcbde",
   "metadata": {},
   "outputs": [
    {
     "name": "stdout",
     "output_type": "stream",
     "text": [
      "{1, 2, 3, 4, 5}\n"
     ]
    }
   ],
   "source": [
    "# Assignment 14: Tuple and Set\n",
    "\n",
    "# Create a tuple with duplicate elements. Convert it to a set to remove duplicates and print the resulting set.\n",
    "\n",
    "\n",
    "t = (1,2,2,2,2,3,3,4,5,3,1)\n",
    "s = set(t)\n",
    "print(s)\n"
   ]
  },
  {
   "cell_type": "code",
   "execution_count": 39,
   "id": "896b1cb3-c4ff-434b-a913-ac52e9c86ede",
   "metadata": {},
   "outputs": [
    {
     "name": "stdout",
     "output_type": "stream",
     "text": [
      "Minimum Value in tuple: 1\n",
      "Maximum value in tuple: 5\n",
      "Sum of all value in tuple: 15\n"
     ]
    }
   ],
   "source": [
    "# Assignment 15: Tuple Functions\n",
    "\n",
    "# Write functions that take a tuple and return the minimum, maximum, and sum of the elements. Print the results for a sample tuple.\n",
    "\n",
    "def func(t):\n",
    "    print(f\"Minimum Value in tuple: {min(t)}\")\n",
    "    print(f\"Maximum value in tuple: {max(t)}\")\n",
    "    print(f\"Sum of all value in tuple: {sum(t)}\")\n",
    "\n",
    "t = (1,2,3,4,5)\n",
    "func(t)"
   ]
  },
  {
   "cell_type": "code",
   "execution_count": null,
   "id": "0e33a9f0-4070-471e-b62a-ebb11a4393c7",
   "metadata": {},
   "outputs": [],
   "source": []
  }
 ],
 "metadata": {
  "kernelspec": {
   "display_name": "Python 3 (ipykernel)",
   "language": "python",
   "name": "python3"
  },
  "language_info": {
   "codemirror_mode": {
    "name": "ipython",
    "version": 3
   },
   "file_extension": ".py",
   "mimetype": "text/x-python",
   "name": "python",
   "nbconvert_exporter": "python",
   "pygments_lexer": "ipython3",
   "version": "3.10.11"
  }
 },
 "nbformat": 4,
 "nbformat_minor": 5
}
