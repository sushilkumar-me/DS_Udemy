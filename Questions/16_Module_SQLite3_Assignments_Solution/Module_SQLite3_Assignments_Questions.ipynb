{
 "cells": [
  {
   "cell_type": "markdown",
   "id": "964cf61d",
   "metadata": {},
   "source": [
    "# Module: SQLite3 Assignments\n",
    "## Lesson: SQLite3\n",
    "### Assignment 1: Creating and Connecting to a Database\n",
    "\n",
    "1. Write a Python function to create a new SQLite3 database named `test.db`.\n",
    "2. Write a Python function to create a table named `employees` with columns `id` (integer), `name` (text), `age` (integer), and `department` (text) in the `test.db` database.\n",
    "\n",
    "### Assignment 2: Inserting Data\n",
    "\n",
    "1. Write a Python function to insert a new employee into the `employees` table.\n",
    "2. Insert at least 5 different employees into the `employees` table.\n",
    "\n",
    "### Assignment 3: Querying Data\n",
    "\n",
    "1. Write a Python function to fetch and display all records from the `employees` table.\n",
    "2. Write a Python function to fetch and display all employees from a specific department.\n",
    "\n",
    "### Assignment 4: Updating Data\n",
    "\n",
    "1. Write a Python function to update the department of an employee based on their `id`.\n",
    "2. Update the department of at least 2 employees and display the updated records.\n",
    "\n",
    "### Assignment 5: Deleting Data\n",
    "\n",
    "1. Write a Python function to delete an employee from the `employees` table based on their `id`.\n",
    "2. Delete at least 1 employee and display the remaining records.\n",
    "\n",
    "### Assignment 6: Advanced Queries\n",
    "\n",
    "1. Write a Python function to fetch and display employees older than a certain age.\n",
    "2. Write a Python function to fetch and display employees whose names start with a specific letter.\n",
    "\n",
    "### Assignment 7: Handling Transactions\n",
    "\n",
    "1. Write a Python function to insert multiple employees into the `employees` table in a single transaction. Ensure that if any insertion fails, none of the insertions are committed.\n",
    "2. Write a Python function to update the age of multiple employees in a single transaction. Ensure that if any update fails, none of the updates are committed.\n",
    "\n",
    "### Assignment 8: Creating Relationships\n",
    "\n",
    "1. Create a new table named `departments` with columns `id` (integer) and `name` (text).\n",
    "2. Modify the `employees` table to include a foreign key referencing the `id` column in the `departments` table.\n",
    "3. Write a Python function to insert data into both the `departments` and `employees` tables, ensuring referential integrity.\n",
    "\n",
    "### Assignment 9: Indexing and Optimization\n",
    "\n",
    "1. Create an index on the `name` column of the `employees` table.\n",
    "2. Write a Python function to fetch and display all employees whose names start with a specific letter. Compare the performance with and without the index.\n",
    "\n",
    "### Assignment 10: Backing Up and Restoring Data\n",
    "\n",
    "1. Write a Python function to back up the `test.db` database to a file named `backup.db`.\n",
    "2. Write a Python function to restore the `test.db` database from the `backup.db` file."
   ]
  },
  {
   "cell_type": "code",
   "execution_count": null,
   "id": "4ebd47b4",
   "metadata": {},
   "outputs": [],
   "source": [
    "# Assignment 1: Creating and Connecting to a Database"
   ]
  },
  {
   "cell_type": "code",
   "execution_count": 1,
   "id": "283761ff-a887-4495-99a6-3860170e2605",
   "metadata": {},
   "outputs": [
    {
     "data": {
      "text/plain": [
       "<sqlite3.Connection at 0x1bbeca6e840>"
      ]
     },
     "execution_count": 1,
     "metadata": {},
     "output_type": "execute_result"
    }
   ],
   "source": [
    "# Write a Python function to create a new SQLite3 database named test.db.\n",
    "\n",
    "import sqlite3 \n",
    "connection = sqlite3.connect('test.db')\n",
    "connection"
   ]
  },
  {
   "cell_type": "code",
   "execution_count": 2,
   "id": "6021519c-77b6-4497-89b6-2f730b571531",
   "metadata": {},
   "outputs": [],
   "source": [
    "# Write a Python function to create a table named employees with columns id (integer), name (text), age (integer), and department (text) in the test.db database.\n",
    "cursor = connection.cursor()\n",
    "\n",
    "# create a table \n",
    "cursor.execute('''\n",
    "    CREATE TABLE IF NOT EXISTS employees(\n",
    "    id INTEGER PRIMARY KEY, \n",
    "    name TEXT, \n",
    "    age INTEGER, \n",
    "    department TEXT\n",
    "    )\n",
    "''')\n",
    "\n",
    "connection.commit()"
   ]
  },
  {
   "cell_type": "code",
   "execution_count": null,
   "id": "a1cbee4f-2654-4898-8144-b57ea8d60683",
   "metadata": {},
   "outputs": [],
   "source": [
    "# Assignment 2: Inserting Data"
   ]
  },
  {
   "cell_type": "code",
   "execution_count": 3,
   "id": "0f79960c-790b-4be3-b8d3-3315aef861cc",
   "metadata": {},
   "outputs": [],
   "source": [
    "# Write a Python function to insert a new employee into the employees table.\n",
    "\n",
    "cursor.execute('''\n",
    "    Insert INTO employees(id, name, age, department)\n",
    "    VALUES(1, \"sushil\", 20, \"ML\")\n",
    "''')\n",
    "connection.commit()"
   ]
  },
  {
   "cell_type": "code",
   "execution_count": 4,
   "id": "54fa5bb8-d3e4-4b1d-b315-644a0247bf70",
   "metadata": {},
   "outputs": [],
   "source": [
    "# Insert at least 5 different employees into the employees table.\n",
    "\n",
    "cursor.execute('''\n",
    "    Insert INTO employees(id, name, age, department)\n",
    "    VALUES(2, \"Venky\", 23, \"Developer\")\n",
    "''')\n",
    "\n",
    "cursor.execute('''\n",
    "    Insert INTO employees(id, name, age, department)\n",
    "    VALUES(3, \"Akash\", 22, \"Developer\")\n",
    "''')\n",
    "\n",
    "cursor.execute('''\n",
    "    Insert INTO employees(id, name, age, department)\n",
    "    VALUES(4, \"Sai\", 25, \"Developer\")\n",
    "''')\n",
    "\n",
    "cursor.execute('''\n",
    "    Insert INTO employees(id, name, age, department)\n",
    "    VALUES(5, \"Akshita\", 26, \"Developer\")\n",
    "''')\n",
    "\n",
    "connection.commit()"
   ]
  },
  {
   "cell_type": "code",
   "execution_count": null,
   "id": "70d9831b-9136-48ee-a70c-e2cf1f4ca4f5",
   "metadata": {},
   "outputs": [],
   "source": [
    "### Assignment 3: Querying Data"
   ]
  },
  {
   "cell_type": "code",
   "execution_count": null,
   "id": "e97edae3-0e5f-42b1-b338-1bba06a24153",
   "metadata": {},
   "outputs": [],
   "source": [
    "# 1. Write a Python function to fetch and display all records from the `employees` table.\n",
    "\n",
    "cursor.execute('SELECT * FROM employees')\n",
    "\n"
   ]
  },
  {
   "cell_type": "code",
   "execution_count": null,
   "id": "025c5191-ed34-473b-8744-a92eb97d4248",
   "metadata": {},
   "outputs": [],
   "source": [
    "# 2. Write a Python function to fetch and display all employees from a specific department.\n",
    "\n"
   ]
  },
  {
   "cell_type": "code",
   "execution_count": null,
   "id": "bd7cdb91-dc5a-48d4-9b34-7c853af6475c",
   "metadata": {},
   "outputs": [],
   "source": []
  }
 ],
 "metadata": {
  "kernelspec": {
   "display_name": "Python 3 (ipykernel)",
   "language": "python",
   "name": "python3"
  },
  "language_info": {
   "codemirror_mode": {
    "name": "ipython",
    "version": 3
   },
   "file_extension": ".py",
   "mimetype": "text/x-python",
   "name": "python",
   "nbconvert_exporter": "python",
   "pygments_lexer": "ipython3",
   "version": "3.10.11"
  }
 },
 "nbformat": 4,
 "nbformat_minor": 5
}
