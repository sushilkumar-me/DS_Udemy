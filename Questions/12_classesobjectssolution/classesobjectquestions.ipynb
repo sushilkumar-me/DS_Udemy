{
 "cells": [
  {
   "cell_type": "markdown",
   "id": "ff2ba61a",
   "metadata": {},
   "source": [
    "# Module: Classes and Objects Assignments\n",
    "## Lesson: Creating and Working with Classes and Objects\n",
    "### Assignment 1: Basic Class and Object Creation\n",
    "\n",
    "Create a class named `Car` with attributes `make`, `model`, and `year`. Create an object of the class and print its attributes.\n",
    "\n",
    "### Assignment 2: Methods in Class\n",
    "\n",
    "Add a method named `start_engine` to the `Car` class that prints a message when the engine starts. Create an object of the class and call the method.\n",
    "\n",
    "### Assignment 3: Class with Constructor\n",
    "\n",
    "Create a class named `Student` with attributes `name` and `age`. Use a constructor to initialize these attributes. Create an object of the class and print its attributes.\n",
    "\n",
    "### Assignment 4: Class with Private Attributes\n",
    "\n",
    "Create a class named `BankAccount` with private attributes `account_number` and `balance`. Add methods to deposit and withdraw money, and to check the balance. Create an object of the class and perform some operations.\n",
    "\n",
    "### Assignment 5: Class Inheritance\n",
    "\n",
    "Create a base class named `Person` with attributes `name` and `age`. Create a derived class named `Employee` that inherits from `Person` and adds an attribute `employee_id`. Create an object of the derived class and print its attributes.\n",
    "\n",
    "### Assignment 6: Method Overriding\n",
    "\n",
    "In the `Employee` class, override the `__str__` method to return a string representation of the object. Create an object of the class and print it.\n",
    "\n",
    "### Assignment 7: Class Composition\n",
    "\n",
    "Create a class named `Address` with attributes `street`, `city`, and `zipcode`. Create a class named `Person` that has an `Address` object as an attribute. Create an object of the `Person` class and print its address.\n",
    "\n",
    "### Assignment 8: Class with Class Variables\n",
    "\n",
    "Create a class named `Counter` with a class variable `count`. Each time an object is created, increment the count. Add a method to get the current count. Create multiple objects and print the count.\n",
    "\n",
    "### Assignment 9: Static Methods\n",
    "\n",
    "Create a class named `MathOperations` with a static method to calculate the square root of a number. Call the static method without creating an object.\n",
    "\n",
    "### Assignment 10: Class with Properties\n",
    "\n",
    "Create a class named `Rectangle` with private attributes `length` and `width`. Use properties to get and set these attributes. Create an object of the class and test the properties.\n",
    "\n",
    "### Assignment 11: Abstract Base Class\n",
    "\n",
    "Create an abstract base class named `Shape` with an abstract method `area`. Create derived classes `Circle` and `Square` that implement the `area` method. Create objects of the derived classes and call the `area` method.\n",
    "\n",
    "### Assignment 12: Operator Overloading\n",
    "\n",
    "Create a class named `Vector` with attributes `x` and `y`. Overload the `+` operator to add two `Vector` objects. Create objects of the class and test the operator overloading.\n",
    "\n",
    "### Assignment 13: Class with Custom Exception\n",
    "\n",
    "Create a custom exception named `InsufficientBalanceError`. In the `BankAccount` class, raise this exception when a withdrawal amount is greater than the balance. Handle the exception and print an appropriate message.\n",
    "\n",
    "### Assignment 14: Class with Context Manager\n",
    "\n",
    "Create a class named `FileManager` that implements the context manager protocol to open and close a file. Use this class to read the contents of a file.\n",
    "\n",
    "### Assignment 15: Chaining Methods\n",
    "\n",
    "Create a class named `Calculator` with methods to add, subtract, multiply, and divide. Each method should return the object itself to allow method chaining. Create an object and chain multiple method calls."
   ]
  },
  {
   "cell_type": "code",
   "execution_count": 4,
   "id": "5cf3619e",
   "metadata": {},
   "outputs": [
    {
     "name": "stdout",
     "output_type": "stream",
     "text": [
      "Sushil\n",
      "SUV\n",
      "2000\n"
     ]
    }
   ],
   "source": [
    "# Assignment 1: Basic Class and Object Creation\n",
    "# Create a class named Car with attributes make, model, and year. Create an object of the class and print its attributes.\n",
    "\n",
    "class Car:\n",
    "    def __init__(self, make, model, year):\n",
    "        self.make = make\n",
    "        self.model = model \n",
    "        self.year = year\n",
    "\n",
    "\n",
    "obj = Car(\"Sushil\", \"SUV\", 2000)\n",
    "print(obj.make)\n",
    "print(obj.model)\n",
    "print(obj.year)\n",
    "\n"
   ]
  },
  {
   "cell_type": "code",
   "execution_count": 5,
   "id": "1ffd88d6-0396-41c4-823d-b2f9476e1fdf",
   "metadata": {},
   "outputs": [
    {
     "name": "stdout",
     "output_type": "stream",
     "text": [
      "Engine Started\n"
     ]
    }
   ],
   "source": [
    "# Assignment 2: Methods in Class\n",
    "# Add a method named start_engine to the Car class that prints a message when the engine starts. Create an object of the class and call the method.\n",
    "\n",
    "class Car:\n",
    "    def start_engine(self):\n",
    "        print(f\"Engine Started\")\n",
    "\n",
    "obj = Car()\n",
    "obj.start_engine()"
   ]
  },
  {
   "cell_type": "code",
   "execution_count": 6,
   "id": "0e3a668f-eb18-46cc-9641-58f1d03cfc7b",
   "metadata": {},
   "outputs": [
    {
     "name": "stdout",
     "output_type": "stream",
     "text": [
      "sushil\n",
      "19\n"
     ]
    }
   ],
   "source": [
    "# Assignment 3: Class with Constructor\n",
    "# Create a class named Student with attributes name and age. Use a constructor to initialize these attributes. Create an object of the class and print its attributes.\n",
    "\n",
    "class Student:\n",
    "    def __init__(self, name, age):\n",
    "        self.name = name\n",
    "        self.age = age\n",
    "\n",
    "obj = Student(\"sushil\", 19)\n",
    "print(obj.name)\n",
    "print(obj.age)"
   ]
  },
  {
   "cell_type": "code",
   "execution_count": 5,
   "id": "c54b1963-9dcf-481f-9f3e-ef73535ce195",
   "metadata": {},
   "outputs": [
    {
     "name": "stdout",
     "output_type": "stream",
     "text": [
      "Current balance is: 2200\n",
      "Current balance is: 1900\n"
     ]
    }
   ],
   "source": [
    "# Assignment 4: Class with Private Attributes\n",
    "# Create a class named BankAccount with private attributes account_number and balance. Add methods to deposit and withdraw money, and to check the balance. Create an object of the class and perform some operations.\n",
    "\n",
    "class BankAccount:\n",
    "    def __init__(self, account_number, balance): \n",
    "        self.account_number = account_number\n",
    "        self.balance = balance \n",
    "\n",
    "    def deposit(self, deposite): \n",
    "        self.deposite = deposite\n",
    "        self.balance +=self.deposite\n",
    "        print(f\"Current balance is: {self.balance}\")\n",
    "\n",
    "    def withdraw(self, withdraw): \n",
    "        self.withdraw = withdraw\n",
    "        self.balance -= self.withdraw \n",
    "        print(f\"Current balance is: {self.balance}\")\n",
    "\n",
    "ba = BankAccount(1, 2000)\n",
    "ba.deposit(200)\n",
    "ba.withdraw(300)\n",
    "\n"
   ]
  },
  {
   "cell_type": "code",
   "execution_count": 17,
   "id": "09fa4499-0f94-4050-8056-40cc6214585b",
   "metadata": {},
   "outputs": [],
   "source": [
    "# Assignment 5: Class Inheritance\n",
    "# Create a base class named Person with attributes name and age. Create a derived class named Employee that inherits from Person and adds an attribute employee_id. Create an object of the derived class and print its attributes.\n",
    "\n",
    "class Person: \n",
    "    def __init__(self, name, age): \n",
    "        self.name = name \n",
    "        self.age = age \n",
    "\n",
    "class Employee(Person): \n",
    "    def __init__(self,name, age, employee_id):\n",
    "        super().__init__(name, age)\n",
    "        self.employee_id = employee_id\n",
    "        \n",
    "\n",
    "\n",
    "\n",
    "obj = Employee(\"sushil\", 19, 123)\n"
   ]
  },
  {
   "cell_type": "code",
   "execution_count": 18,
   "id": "72fc3f70-39dd-4cee-b9ab-e75ea523751f",
   "metadata": {},
   "outputs": [
    {
     "name": "stdout",
     "output_type": "stream",
     "text": [
      "Name:sushil kumar\n",
      "Age: 19\n",
      "Employee_id: 123\n"
     ]
    }
   ],
   "source": [
    "# Assignment 6: Method Overriding\n",
    "# In the `Employee` class, override the `__str__` method to return a string representation of the object. Create an object of the class and print it.\n",
    "\n",
    "class Person: \n",
    "    def __init__(self, name, age): \n",
    "        self.name = name \n",
    "        self.age = age \n",
    "        \n",
    "class Employee(Person): \n",
    "    def __init__(self, name, age, employee_id):\n",
    "        super().__init__(name, age)\n",
    "        self.employee_id = employee_id\n",
    "        \n",
    "    def __str__(self):\n",
    "        return f\"Name:{self.name}\\nAge: {self.age}\\nEmployee_id: {self.employee_id}\"\n",
    "\n",
    "\n",
    "obj1 = Employee(\"sushil kumar\", 19, 123)\n",
    "print(obj1)"
   ]
  },
  {
   "cell_type": "code",
   "execution_count": 25,
   "id": "d868561d-03c4-47ae-b60c-e726f4939497",
   "metadata": {},
   "outputs": [
    {
     "name": "stdout",
     "output_type": "stream",
     "text": [
      "Address: Rushi nagar,Surat,305012\n"
     ]
    }
   ],
   "source": [
    "# Assignment 7: Class Composition\n",
    "# Create a class named `Address` with attributes `street`, `city`, and `zipcode`. Create a class named `Person` that has an `Address` object as an attribute. Create an oy\n",
    "\n",
    "class Address: \n",
    "    def __init__(self, street, city, zipcode):\n",
    "        self.street = street \n",
    "        self.city = city \n",
    "        self.zipcode = zipcode \n",
    "\n",
    "class Person(Address): \n",
    "    def __init__(self, street, city, zipcode): \n",
    "        super().__init__(street, city, zipcode) \n",
    "        \n",
    "        print(f\"Address: {self.street},{self.city},{self.zipcode}\")\n",
    "\n",
    "obj2 = Person(\"Rushi nagar\", \"Surat\", 305012)\n"
   ]
  },
  {
   "cell_type": "code",
   "execution_count": 56,
   "id": "b3c446a6-8263-402f-8a93-1701bc64adbe",
   "metadata": {},
   "outputs": [
    {
     "name": "stdout",
     "output_type": "stream",
     "text": [
      "Number of count is: 3\n"
     ]
    }
   ],
   "source": [
    "# Assignment 8: Class with Class Variables\n",
    "# Create a class named `Counter` with a class variable `count`. Each time an object is created, increment the count. Add a method to get the current count. Create multiple objects and print the count.\n",
    "\n",
    "class Counter: \n",
    "    count =0\n",
    "    def __init__(self):\n",
    "        Counter.count +=  1\n",
    "        \n",
    "    @classmethod\n",
    "    def get_count(cls): \n",
    "        print(f\"Number of count is: {cls.count}\")       \n",
    "\n",
    "obj = Counter()\n",
    "obj1 = Counter()\n",
    "obj2 = Counter()\n",
    "\n",
    "Counter.get_count()\n"
   ]
  },
  {
   "cell_type": "code",
   "execution_count": 6,
   "id": "d2346e4a-9846-4bc6-bf6f-e06d2411ca53",
   "metadata": {},
   "outputs": [
    {
     "name": "stdout",
     "output_type": "stream",
     "text": [
      "2.0\n"
     ]
    }
   ],
   "source": [
    "# Assignment 9: Static Methods\n",
    "# Create a class named MathOperations with a static method to calculate the square root of a number. Call the static method without creating an object.\n",
    "import math\n",
    "class MathOperation: \n",
    "    @staticmethod\n",
    "    def static(n): \n",
    "        return math.sqrt(n)\n",
    "\n",
    "print(MathOperation.static(4))\n"
   ]
  },
  {
   "cell_type": "code",
   "execution_count": 11,
   "id": "6a6a29d4-dcf1-4122-afa0-f3570a808946",
   "metadata": {},
   "outputs": [
    {
     "name": "stdout",
     "output_type": "stream",
     "text": [
      "10\n",
      "20\n",
      "30\n",
      "40\n"
     ]
    }
   ],
   "source": [
    "# Assignment 10: Class with Properties\n",
    "# Create a class named `Rectangle` with private attributes `length` and `width`. Use properties to get and set these attributes. Create an object of the class and test the properties.\n",
    "\n",
    "class Rectanle: \n",
    "    def __init__(self, length, width): \n",
    "        self.__length = length \n",
    "        self.__width = width \n",
    "\n",
    "    #getter method for length\n",
    "    def get_length(self):\n",
    "        return self.__length\n",
    "\n",
    "    #getter method for width\n",
    "    def get_width(self):\n",
    "        return self.__width \n",
    "\n",
    "    # setter method for length\n",
    "    def set_length(self, value): \n",
    "        self.__length = value \n",
    "\n",
    "    # setter method for width\n",
    "    def set_width(self, value):\n",
    "        self.__width = value\n",
    "\n",
    "\n",
    "ob = Rectanle(10, 20)\n",
    "print(ob.get_length()) \n",
    "print(ob.get_width())\n",
    "ob.set_length(30)\n",
    "print(ob.get_length())\n",
    "ob.set_width(40)\n",
    "print(ob.get_width())\n"
   ]
  },
  {
   "cell_type": "code",
   "execution_count": 15,
   "id": "98310b0f-0e95-4d9d-be44-c2e6f28f75e1",
   "metadata": {},
   "outputs": [
    {
     "name": "stdout",
     "output_type": "stream",
     "text": [
      "Area od circle: 12.56\n",
      "Area of square: 16\n"
     ]
    }
   ],
   "source": [
    "# Assignment 11: Abstract Base Class\n",
    "# Create an abstract base class named `Shape` with an abstract method `area`. Create derived classes `Circle` and `Square` that implement the `area` method. Create objects of the derived classes and call the `area` method.\n",
    "from abc import ABC, abstractmethod\n",
    "\n",
    "class Shape(ABC): \n",
    "    @abstractmethod\n",
    "    def area(self):\n",
    "        pass \n",
    "\n",
    "class Circle(Shape): \n",
    "    def area(self, r):\n",
    "        return 3.14*r**2\n",
    "\n",
    "class Square(Shape): \n",
    "    def area(self, a):\n",
    "        return a*a\n",
    "\n",
    "obj = Circle()\n",
    "obj1 = Square()\n",
    "print(f\"Area od circle: {obj.area(2)}\")\n",
    "print(f\"Area of square: {obj1.area(4)}\")"
   ]
  },
  {
   "cell_type": "code",
   "execution_count": null,
   "id": "e90ee0ab-9b10-4442-a781-5c848367eff0",
   "metadata": {},
   "outputs": [],
   "source": [
    "# Assignment 12: Operator Overloading\n",
    "# Create a class named Vector with attributes x and y. Overload the + operator to add two Vector objects. Create objects of the class and test the operator overloading.\n",
    "\n",
    "class Vector:\n",
    "    def __init__(self, x, y):\n",
    "        "
   ]
  }
 ],
 "metadata": {
  "kernelspec": {
   "display_name": "Python 3 (ipykernel)",
   "language": "python",
   "name": "python3"
  },
  "language_info": {
   "codemirror_mode": {
    "name": "ipython",
    "version": 3
   },
   "file_extension": ".py",
   "mimetype": "text/x-python",
   "name": "python",
   "nbconvert_exporter": "python",
   "pygments_lexer": "ipython3",
   "version": "3.10.11"
  }
 },
 "nbformat": 4,
 "nbformat_minor": 5
}
