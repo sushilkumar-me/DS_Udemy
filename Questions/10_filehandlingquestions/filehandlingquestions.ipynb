{
 "cells": [
  {
   "cell_type": "markdown",
   "id": "4871696c",
   "metadata": {},
   "source": [
    "# Module: File Handling Assignments\n",
    "## Lesson: File Handling and Operations\n",
    "### Assignment 1: Reading a File\n",
    "\n",
    "Write a function that reads the contents of a file named `sample.txt` and prints each line.\n",
    "\n",
    "### Assignment 2: Writing to a File\n",
    "\n",
    "Write a function that writes a list of strings to a file named `output.txt`, with each string on a new line.\n",
    "\n",
    "### Assignment 3: Copying a File\n",
    "\n",
    "Write a function that copies the contents of a file named `source.txt` to a new file named `destination.txt`.\n",
    "\n",
    "### Assignment 4: Appending to a File\n",
    "\n",
    "Write a function that appends a given string to the end of a file named `log.txt`.\n",
    "\n",
    "### Assignment 5: Counting Words in a File\n",
    "\n",
    "Write a function that reads the contents of a file named `document.txt` and returns the number of words in the file.\n",
    "\n",
    "### Assignment 6: Finding and Replacing Text\n",
    "\n",
    "Write a function that finds and replaces all occurrences of a given word in a file named `data.txt` with another word.\n",
    "\n",
    "### Assignment 7: Reading a File in Reverse\n",
    "\n",
    "Write a function that reads the contents of a file named `reverse.txt` and prints each line in reverse order.\n",
    "\n",
    "### Assignment 8: Counting Lines, Words, and Characters\n",
    "\n",
    "Write a function that reads the contents of a file named `stats.txt` and returns the number of lines, words, and characters in the file.\n",
    "\n",
    "### Assignment 9: Merging Multiple Files\n",
    "\n",
    "Write a function that merges the contents of multiple files into a single file named `merged.txt`.\n",
    "\n",
    "### Assignment 10: Splitting a Large File\n",
    "\n",
    "Write a function that splits a large file named `large.txt` into smaller files of 100 lines each.\n",
    "\n",
    "### Assignment 11: Creating a Log File\n",
    "\n",
    "Write a function that creates a log file named `activity.log` and writes log messages with timestamps.\n",
    "\n",
    "### Assignment 12: Binary File Operations\n",
    "\n",
    "Write a function that reads a binary file named `image.bin` and writes its contents to another binary file named `copy_image.bin`.\n",
    "\n",
    "### Assignment 13: CSV File Operations\n",
    "\n",
    "Write a function that reads a CSV file named `data.csv` and prints its contents as a list of dictionaries.\n",
    "\n",
    "### Assignment 14: JSON File Operations\n",
    "\n",
    "Write a function that reads a JSON file named `data.json` and prints its contents as a Python dictionary.\n",
    "\n",
    "### Assignment 15: File Permission Handling\n",
    "\n",
    "Write a function that attempts to read a file named `protected.txt` and handles any permission errors gracefully by printing an error message."
   ]
  },
  {
   "cell_type": "code",
   "execution_count": 1,
   "id": "7ce62199",
   "metadata": {},
   "outputs": [
    {
     "name": "stdout",
     "output_type": "stream",
     "text": [
      "Hello Everyone\n"
     ]
    }
   ],
   "source": [
    "# Assignment 1: Reading a File\n",
    "# Write a function that reads the contents of a file named sample.txt and prints each line.\n",
    "\n",
    "def reads_file(path):\n",
    "    with open(path) as file:\n",
    "        content = file.read()\n",
    "        print(content)\n",
    "\n",
    "reads_file('sample.txt')\n",
    "        "
   ]
  },
  {
   "cell_type": "code",
   "execution_count": 1,
   "id": "2e985e38-c944-4720-bf5d-78361c4e40fb",
   "metadata": {},
   "outputs": [],
   "source": [
    "# Assignment 2: Writing to a File\n",
    "# Write a function that writes a list of strings to a file named output.txt, with each string on a new line.\n",
    "\n",
    "with open('output.txt', 'w') as file:\n",
    "    file.write('Hello World \\n Sushil kamar')"
   ]
  },
  {
   "cell_type": "code",
   "execution_count": 3,
   "id": "3036ed79-63bf-4aa4-8e89-21cebb533a0c",
   "metadata": {},
   "outputs": [],
   "source": [
    "# Assignment 3: Copying a File\n",
    "# Write a function that copies the contents of a file named source.txt to a new file named destination.txt.\n",
    "\n",
    "def func(source_file):\n",
    "    with open(source_file, 'r') as file:\n",
    "        content = file.read()\n",
    "\n",
    "    with open('output.txt', 'w') as file:\n",
    "        file.write(content)\n",
    "\n",
    "source_file = 'sample.txt'\n",
    "func(source_file)"
   ]
  },
  {
   "cell_type": "code",
   "execution_count": 4,
   "id": "90666760-ed22-4f32-abe0-7a51487479e7",
   "metadata": {},
   "outputs": [],
   "source": [
    "# Assignment 4: Appending to a File\n",
    "# Write a function that appends a given string to the end of a file named log.txt.\n",
    "\n",
    "def func(string):\n",
    "    with open('log.txt', 'a') as file:\n",
    "        file.write(string)\n",
    "\n",
    "func(\"This is new file\")\n",
    "    "
   ]
  },
  {
   "cell_type": "code",
   "execution_count": 7,
   "id": "067f7609-9aa3-49de-b6fd-d605bfcdf069",
   "metadata": {},
   "outputs": [
    {
     "name": "stdout",
     "output_type": "stream",
     "text": [
      "Words: ['hello,', 'sushil', 'kumar']\n"
     ]
    }
   ],
   "source": [
    "# Assignment 5: Counting Words in a File\n",
    "# Write a function that reads the contents of a file named document.txt and returns the number of words in the file.\n",
    "\n",
    "def func(file_name):\n",
    "    with open(file_name, 'r') as file:\n",
    "        content = file.read()\n",
    "        words = content.split()\n",
    "        print(f\"Words: {words}\")\n",
    "\n",
    "func('document.txt')"
   ]
  },
  {
   "cell_type": "code",
   "execution_count": 8,
   "id": "5d7111bf-59e7-429d-b743-9852a53fb304",
   "metadata": {},
   "outputs": [],
   "source": [
    "# Assignment 6: Finding and Replacing Text\n",
    "# Write a function that finds and replaces all occurrences of a given word in a file named data.txt with another word.\n",
    "\n",
    "def func(new_words):\n",
    "    with open('data.txt', 'w') as file:\n",
    "        file.write(new_words)\n",
    "\n",
    "func('Hello This is new words')"
   ]
  },
  {
   "cell_type": "code",
   "execution_count": 31,
   "id": "92afecde-c1bb-441d-af8e-b4bb1fa303ee",
   "metadata": {},
   "outputs": [
    {
     "name": "stdout",
     "output_type": "stream",
     "text": [
      "kumar\n",
      "sushil\n",
      "hello,\n"
     ]
    }
   ],
   "source": [
    "# Assignment 7: Reading a File in Reverse\n",
    "# Write a function that reads the contents of a file named `reverse.txt` and prints each line in reverse order.\n",
    "\n",
    "def func(file_name):\n",
    "    with open(file_name, 'r') as file:\n",
    "        content = file.readlines()\n",
    "    \n",
    "    for i in reversed(content):\n",
    "        print(i.strip())\n",
    "\n",
    "func('document.txt')"
   ]
  },
  {
   "cell_type": "code",
   "execution_count": 53,
   "id": "932e4229-7a9c-4e1a-830c-ba49a736b3c6",
   "metadata": {},
   "outputs": [
    {
     "name": "stdout",
     "output_type": "stream",
     "text": [
      "Total Lines: 3\n",
      "Words: 4\n",
      "Characters: 24\n"
     ]
    }
   ],
   "source": [
    "# Assignment 8: Counting Lines, Words, and Characters\n",
    "# Write a function that reads the contents of a file named `stats.txt` and returns the number of lines, words, and characters in the file.\n",
    "\n",
    "def func(file_name):\n",
    "    with open(file_name, 'r') as file:\n",
    "        content = file.read()\n",
    "        \n",
    "    # Count Lines\n",
    "    lines = content.splitlines()\n",
    "    count_lines = 0\n",
    "    for i in lines:\n",
    "        count_lines += 1\n",
    "    print(f\"Total Lines: {count_lines}\")\n",
    "\n",
    "    # Count words\n",
    "    words = content.split()\n",
    "    word_count = 0\n",
    "    for i in words:\n",
    "        word_count += 1\n",
    "    print(f\"Words: {word_count}\")\n",
    "\n",
    "    print(f\"Characters: {len(content)}\")       \n",
    "\n",
    "func('document.txt')"
   ]
  },
  {
   "cell_type": "code",
   "execution_count": 55,
   "id": "6a8b62c6-47aa-4978-bd2c-0f27f7c923d0",
   "metadata": {},
   "outputs": [],
   "source": [
    "# Assignment 9: Merging Multiple Files\n",
    "# Write a function that merges the contents of multiple files into a single file named `merged.txt`.\n",
    "\n",
    "def func(first_file, second_file):\n",
    "    with open(first_file, 'r') as file:\n",
    "        content1 = file.read()\n",
    "    with open(second_file, 'r') as file:\n",
    "        content2 = file.read() \n",
    "\n",
    "    with open('merged.txt', 'w') as file:\n",
    "        file.write(content1 +content2)\n",
    "\n",
    "func('data.txt', 'document.txt')"
   ]
  },
  {
   "cell_type": "code",
   "execution_count": 56,
   "id": "121fff9e-22eb-4ca9-8480-16cba48a50c1",
   "metadata": {},
   "outputs": [
    {
     "ename": "SyntaxError",
     "evalue": "expected ':' (3944697523.py, line 4)",
     "output_type": "error",
     "traceback": [
      "\u001b[1;36m  Cell \u001b[1;32mIn[56], line 4\u001b[1;36m\u001b[0m\n\u001b[1;33m    def func()\u001b[0m\n\u001b[1;37m              ^\u001b[0m\n\u001b[1;31mSyntaxError\u001b[0m\u001b[1;31m:\u001b[0m expected ':'\n"
     ]
    }
   ],
   "source": [
    "# Assignment 10: Splitting a Large File\n",
    "# Write a function that splits a large file named `large.txt` into smaller files of 100 lines each.\n",
    "\n",
    "def func()"
   ]
  },
  {
   "cell_type": "code",
   "execution_count": null,
   "id": "2499cf84-ec9b-4dcd-b23f-65a0dcbc4327",
   "metadata": {},
   "outputs": [],
   "source": [
    "# Assignment 11: Creating a Log File\n",
    "# Write a function that creates a log file named `activity.log` and writes log messages with timestamps.\n",
    "\n"
   ]
  },
  {
   "cell_type": "code",
   "execution_count": 60,
   "id": "a3947a79-0fc6-4048-82fc-14935326eacc",
   "metadata": {},
   "outputs": [],
   "source": [
    "# Assignment 12: Binary File Operations\n",
    "# Write a function that reads a binary file named `image.bin` and writes its contents to another binary file named `copy_image.bin`.\n",
    "\n",
    "def func(file_name):\n",
    "    with open(file_name, 'rb') as file:\n",
    "        content = file.read()\n",
    "\n",
    "    with open('copy_image.bin', 'wb') as file:\n",
    "        file.write(content)\n",
    "\n",
    "func('image.bin')"
   ]
  },
  {
   "cell_type": "code",
   "execution_count": 69,
   "id": "614706b3-da27-486f-b3fe-8143a2dc7a0c",
   "metadata": {},
   "outputs": [
    {
     "name": "stdout",
     "output_type": "stream",
     "text": [
      "['name', 'sushil']\n",
      "[]\n",
      "['age', '19']\n",
      "[]\n"
     ]
    }
   ],
   "source": [
    "# Assignment 13: CSV File Operations\n",
    "# Write a function that reads a CSV file named `data.csv` and prints its contents as a list of dictionaries.\n",
    "import csv\n",
    "\n",
    "with open('data.csv', 'r') as file:\n",
    "    writer = csv.reader(file)\n",
    "    for row in writer:\n",
    "        print(row)\n"
   ]
  },
  {
   "cell_type": "code",
   "execution_count": 79,
   "id": "c0ccc773-84f6-439d-8bd7-c01abf3ef7be",
   "metadata": {},
   "outputs": [
    {
     "name": "stdout",
     "output_type": "stream",
     "text": [
      "{\"name\": \"sushil\", \"age\": 19}\n"
     ]
    }
   ],
   "source": [
    "# Assignment 14: JSON File Operations\n",
    "# Write a function that reads a JSON file named `data.json` and prints its contents as a Python dictionary.\n",
    "\n",
    "import json\n",
    "\n",
    "def func(file_name):\n",
    "    with open('data.json', 'r') as file:\n",
    "        content = file.read()\n",
    "        print(content)\n",
    "\n",
    "func('data.json')"
   ]
  },
  {
   "cell_type": "code",
   "execution_count": null,
   "id": "3ef2d41b-d524-4d35-9aa5-1f92bcee82a5",
   "metadata": {},
   "outputs": [],
   "source": [
    "# Assignment 15: File Permission Handling\n",
    "# Write a function that attempts to read a file named `protected.txt` and handles any permission errors gracefully by printing an error message.\n",
    "\n"
   ]
  },
  {
   "cell_type": "code",
   "execution_count": 83,
   "id": "6111f6de-fa78-45d9-8540-6ed35a26cd00",
   "metadata": {},
   "outputs": [
    {
     "name": "stdout",
     "output_type": "stream",
     "text": [
      "An Error Occured: [Errno 2] No such file or directory: 'protected.txt'\n"
     ]
    }
   ],
   "source": [
    "def read_protected_file():\n",
    "    try:\n",
    "        with open('protected.txt', 'r') as file:\n",
    "            content = file.read()\n",
    "            print(content)\n",
    "    except Exception as e:\n",
    "        print(f\"An Error Occured: {e}\")\n",
    "\n",
    "read_protected_file()"
   ]
  },
  {
   "cell_type": "code",
   "execution_count": null,
   "id": "b05c4c10-949b-4dcb-b94c-0d14fa452f6b",
   "metadata": {},
   "outputs": [],
   "source": []
  }
 ],
 "metadata": {
  "kernelspec": {
   "display_name": "Python 3 (ipykernel)",
   "language": "python",
   "name": "python3"
  },
  "language_info": {
   "codemirror_mode": {
    "name": "ipython",
    "version": 3
   },
   "file_extension": ".py",
   "mimetype": "text/x-python",
   "name": "python",
   "nbconvert_exporter": "python",
   "pygments_lexer": "ipython3",
   "version": "3.10.11"
  }
 },
 "nbformat": 4,
 "nbformat_minor": 5
}
