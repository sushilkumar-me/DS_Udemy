{
 "cells": [
  {
   "cell_type": "markdown",
   "id": "3dfdb565",
   "metadata": {},
   "source": [
    "# Module 5: Modules and Packages Assignments\n",
    "## Lesson 5.1: Importing Modules\n",
    "### Assignment 1: Importing and Using Modules\n",
    "\n",
    "Import the `math` module and use it to calculate the square root of 25 and the sine of 90 degrees.\n",
    "\n",
    "### Assignment 2: Aliasing Modules\n",
    "\n",
    "Import the `datetime` module with an alias and use it to print the current date and time.\n",
    "\n",
    "### Assignment 3: Importing Specific Functions\n",
    "\n",
    "Import the `randint` function from the `random` module and use it to generate a random integer between 1 and 100.\n",
    "\n",
    "### Assignment 4: Importing Multiple Functions\n",
    "\n",
    "Import the `sqrt` and `pow` functions from the `math` module and use them to calculate the square root of 16 and 2 raised to the power of 3.\n",
    "\n",
    "### Assignment 5: Handling Import Errors\n",
    "\n",
    "Write code that attempts to import a non-existent module and gracefully handles the import error by printing an error message.\n",
    "\n",
    "## Lesson 5.2: Standard Library Overview\n",
    "### Assignment 6: Working with the `os` Module\n",
    "\n",
    "Use the `os` module to create a new directory, list the contents of the current directory, and remove the newly created directory.\n",
    "\n",
    "### Assignment 7: Working with the `sys` Module\n",
    "\n",
    "Use the `sys` module to print the Python version currently in use and the command-line arguments passed to the script.\n",
    "\n",
    "### Assignment 8: Working with the `math` Module\n",
    "\n",
    "Use the `math` module to calculate the greatest common divisor (GCD) of two numbers and the factorial of a number.\n",
    "\n",
    "### Assignment 9: Working with the `datetime` Module\n",
    "\n",
    "Use the `datetime` module to print the current date, calculate the date 100 days from today, and determine the day of the week for a given date.\n",
    "\n",
    "### Assignment 10: Working with the `random` Module\n",
    "\n",
    "Use the `random` module to generate a list of 5 random numbers between 1 and 50 and shuffle the elements of a list.\n",
    "\n",
    "## Lesson 5.3: Creating and Using Packages\n",
    "### Assignment 11: Creating a Simple Package\n",
    "\n",
    "Create a package named `mypackage` with two modules: `module1` and `module2`. `module1` should contain a function that adds two numbers, and `module2` should contain a function that multiplies two numbers. Write code to use these functions.\n",
    "\n",
    "### Assignment 12: Using `__init__.py`\n",
    "\n",
    "Modify the `mypackage` package to include an `__init__.py` file that imports the functions from `module1` and `module2`. Write code to use these functions.\n",
    "\n",
    "### Assignment 13: Importing from a Package\n",
    "\n",
    "Write code to import and use the functions from `mypackage` without explicitly importing `module1` and `module2`.\n",
    "\n",
    "### Assignment 14: Relative Imports\n",
    "\n",
    "Create a subpackage named `subpackage` within `mypackage` and move `module2` into `subpackage`. Modify the import statements in `__init__.py` to use relative imports. Write code to use the functions from both modules.\n",
    "\n",
    "### Assignment 15: Handling Package Import Errors\n",
    "\n",
    "Write code that attempts to import a non-existent function from `mypackage` and gracefully handles the import error by printing an error message."
   ]
  },
  {
   "cell_type": "code",
   "execution_count": 1,
   "id": "b81f90a9",
   "metadata": {},
   "outputs": [],
   "source": [
    "import math"
   ]
  },
  {
   "cell_type": "code",
   "execution_count": 3,
   "id": "bd06b67b-760b-4726-854a-81ee743a288f",
   "metadata": {},
   "outputs": [
    {
     "name": "stdout",
     "output_type": "stream",
     "text": [
      "5.0\n",
      "0.8939966636005579\n"
     ]
    }
   ],
   "source": [
    "# Assignment 1: Importing and Using Modules\n",
    "# Import the math module and use it to calculate the square root of 25 and the sine of 90 degrees.\n",
    "\n",
    "print(math.sqrt(25))\n",
    "print(math.sin(90))"
   ]
  },
  {
   "cell_type": "code",
   "execution_count": 4,
   "id": "fe32dd0f-4e72-4699-97b2-f46b0be1b931",
   "metadata": {},
   "outputs": [
    {
     "name": "stdout",
     "output_type": "stream",
     "text": [
      "2025-05-22 11:01:56.887338\n"
     ]
    }
   ],
   "source": [
    "# Assignment 2: Aliasing Modules\n",
    "# Import the datetime module with an alias and use it to print the current date and time.\n",
    "\n",
    "from datetime import datetime\n",
    "print(datetime.now())"
   ]
  },
  {
   "cell_type": "code",
   "execution_count": 6,
   "id": "e8c43c12-9999-436d-a4da-0f2b9ba6f98c",
   "metadata": {},
   "outputs": [
    {
     "name": "stdout",
     "output_type": "stream",
     "text": [
      "96\n"
     ]
    }
   ],
   "source": [
    "# Assignment 3: Importing Specific Functions\n",
    "# Import the randint function from the random module and use it to generate a random integer between 1 and 100.\n",
    "\n",
    "import random\n",
    "print(random.randint(1,100))"
   ]
  },
  {
   "cell_type": "code",
   "execution_count": 7,
   "id": "e2526478-6642-4c9c-a835-53ec88776ce2",
   "metadata": {},
   "outputs": [
    {
     "name": "stdout",
     "output_type": "stream",
     "text": [
      "4.0\n",
      "8.0\n"
     ]
    }
   ],
   "source": [
    "# Assignment 4: Importing Multiple Functions\n",
    "# Import the sqrt and pow functions from the math module and use them to calculate the square root of 16 and 2 raised to the power of 3.\n",
    "\n",
    "from math import sqrt,pow\n",
    "print(sqrt(16))\n",
    "print(pow(2,3))"
   ]
  },
  {
   "cell_type": "code",
   "execution_count": 8,
   "id": "104908ea-1446-408a-99a1-8da0ae2269df",
   "metadata": {},
   "outputs": [
    {
     "name": "stdout",
     "output_type": "stream",
     "text": [
      "An Error Occrued: No module named 'sushil'\n"
     ]
    }
   ],
   "source": [
    "# Assignment 5: Handling Import Errors\n",
    "# Write code that attempts to import a non-existent module and gracefully handles the import error by printing an error message.\n",
    "\n",
    "try:\n",
    "    import sushil\n",
    "except Exception as e:\n",
    "    print(f\"An Error Occrued: {e}\")"
   ]
  },
  {
   "cell_type": "code",
   "execution_count": 7,
   "id": "e96c75c4-cefd-43f7-b58f-6489f788982a",
   "metadata": {},
   "outputs": [],
   "source": [
    "# Assignment 6: Working with the os Module\n",
    "# Use the os module to create a new directory, list the contents of the current directory, and remove the newly created directory.\n",
    "\n",
    "\n",
    "# create a new directory\n",
    "import os \n",
    "os.mkdir(\"new_dir\")\n"
   ]
  },
  {
   "cell_type": "code",
   "execution_count": 10,
   "id": "b325e506-cb5d-462b-88ab-e8077edcb207",
   "metadata": {},
   "outputs": [
    {
     "name": "stdout",
     "output_type": "stream",
     "text": [
      "-.ipynb_checkpoints\n",
      "-new_dir\n",
      "-packagesquestion.ipynb\n",
      "-packagessolution.ipynb\n"
     ]
    }
   ],
   "source": [
    "\n",
    "# List the content of the current directory\n",
    "content = os.listdir(\".\")\n",
    "for item in content:\n",
    "    print(f\"-{item}\")\n",
    "    "
   ]
  },
  {
   "cell_type": "code",
   "execution_count": 11,
   "id": "570a9c69-7c8c-4d86-8082-6eecbd88b185",
   "metadata": {},
   "outputs": [],
   "source": [
    "# remoe the newlt=y created directory\n",
    "os.rmdir('new_dir')"
   ]
  },
  {
   "cell_type": "code",
   "execution_count": 16,
   "id": "961bbeac-3e85-4c1d-b8c1-ad262f279d3f",
   "metadata": {},
   "outputs": [
    {
     "name": "stdout",
     "output_type": "stream",
     "text": [
      "3.10.11 (tags/v3.10.11:7d4cc5a, Apr  5 2023, 00:38:17) [MSC v.1929 64 bit (AMD64)]\n",
      "Argument 0: C:\\Users\\admin\\AppData\\Local\\Programs\\Python\\Python310\\lib\\site-packages\\ipykernel_launcher.py\n",
      "Argument 1: -f\n",
      "Argument 2: C:\\Users\\admin\\AppData\\Roaming\\jupyter\\runtime\\kernel-ad4b7558-bdec-4911-bec3-7eef904958b9.json\n"
     ]
    }
   ],
   "source": [
    "# Assignment 7: Working with the sys Module\n",
    "# Use the sys module to print the Python version currently in use and the command-line arguments passed to the script.\n",
    "\n",
    "import sys\n",
    "print(sys.version)\n",
    "\n",
    "for i, arg in enumerate(sys.argv):\n",
    "    print(f\"Argument {i}: {arg}\")"
   ]
  },
  {
   "cell_type": "code",
   "execution_count": 17,
   "id": "0558567d-8c08-4b6c-ae8d-be03e2f102a6",
   "metadata": {},
   "outputs": [
    {
     "name": "stdout",
     "output_type": "stream",
     "text": [
      "GCD: 12\n",
      "Factorial: 120\n"
     ]
    }
   ],
   "source": [
    "# Assignment 8: Working with the math Module\n",
    "# Use the math module to calculate the greatest common divisor (GCD) of two numbers and the factorial of a number.\n",
    "\n",
    "import math\n",
    "a = 36\n",
    "b = 60\n",
    "n = 5\n",
    "\n",
    "gcd = math.gcd(a,b)\n",
    "print(f\"GCD: {gcd}\")\n",
    "\n",
    "fact = math.factorial(n)\n",
    "print(f\"Factorial: {fact}\")"
   ]
  },
  {
   "cell_type": "code",
   "execution_count": 35,
   "id": "57019762-5044-41d1-be37-94a6d89544d6",
   "metadata": {},
   "outputs": [
    {
     "name": "stdout",
     "output_type": "stream",
     "text": [
      "Current Data: 2025-05-22\n",
      "date 100 days from today: 2025-08-30\n",
      "Day of the week for 2006-02-17: Friday\n"
     ]
    }
   ],
   "source": [
    "# Assignment 9: Working with the `datetime` Module\n",
    "# Use the `datetime` module to print the current date, calculate the date 100 days from today, and determine the day of the week for a given date.\n",
    "\n",
    "import datetime\n",
    "today = datetime.date.today()\n",
    "print(f\"Current Data: {today}\")\n",
    "\n",
    "future_date = today + datetime.timedelta(100)\n",
    "print(f\"date 100 days from today: {future_date}\")\n",
    "\n",
    "given_date = datetime.date(2006, 2, 17)\n",
    "print(f\"Day of the week for 2006-02-17: {given_date.strftime('%A')}\")"
   ]
  },
  {
   "cell_type": "code",
   "execution_count": 36,
   "id": "7182b09d-b14b-42d0-b47a-7166790c30c0",
   "metadata": {},
   "outputs": [
    {
     "name": "stdout",
     "output_type": "stream",
     "text": [
      "[19, 25, 48, 34, 17]\n"
     ]
    }
   ],
   "source": [
    "# Assignment 10: Working with the `random` Module\n",
    "# Use the `random` module to generate a list of 5 random numbers between 1 and 50 and shuffle the elements of a list.\n",
    "\n",
    "import random \n",
    "list =[random.randint(1,50) for _ in range(5)]\n",
    "print(list)"
   ]
  },
  {
   "cell_type": "code",
   "execution_count": 46,
   "id": "8804a1ab-909a-4657-a0a9-6f4d17621e76",
   "metadata": {},
   "outputs": [
    {
     "name": "stdout",
     "output_type": "stream",
     "text": [
      "7\n",
      "20\n"
     ]
    }
   ],
   "source": [
    "# Assignment 11: Creating a Simple Package\n",
    "# Create a package named `mypackage` with two modules: `module1` and `module2`. `module1` should contain a function that adds two numbers, and `module2` should contain a function that multiplies two numbers. Write code to use these functions.\n",
    "\n",
    "from mypackage import module1, module2\n",
    "print(module1.add(3,4))\n",
    "print(module2.multiplies(4,5))"
   ]
  },
  {
   "cell_type": "code",
   "execution_count": 49,
   "id": "487bbca7-5d84-43bb-8e34-419827b1e59d",
   "metadata": {},
   "outputs": [
    {
     "name": "stdout",
     "output_type": "stream",
     "text": [
      "5\n",
      "27\n"
     ]
    }
   ],
   "source": [
    "# Assignment 14: Relative Imports\n",
    "# Create a subpackage named `subpackage` within `mypackage` and move `module2` into `subpackage`. Modify the import statements in `__init__.py` to use relative imports. Write code to use the functions from both modules.\n",
    "\n",
    "from mypackage import module1\n",
    "from mypackage.subpackage import module2\n",
    "\n",
    "print(module1.add(2,3))\n",
    "print(module2.multiplies(3,9))"
   ]
  },
  {
   "cell_type": "code",
   "execution_count": 51,
   "id": "006302d9-1e4e-4cee-9709-76a234396928",
   "metadata": {},
   "outputs": [
    {
     "name": "stdout",
     "output_type": "stream",
     "text": [
      "An Error occured: No module named 'sushil'\n"
     ]
    }
   ],
   "source": [
    "# Assignment 15: Handling Package Import Errors\n",
    "# Write code that attempts to import a non-existent function from `mypackage` and gracefully handles the import error by printing an error message.\n",
    "\n",
    "try: \n",
    "    import sushil\n",
    "    \n",
    "except Exception as e:\n",
    "    print(f\"An Error occured: {e}\")\n"
   ]
  },
  {
   "cell_type": "code",
   "execution_count": null,
   "id": "a56a91d8-8da3-48be-b045-b5bb69878731",
   "metadata": {},
   "outputs": [],
   "source": []
  }
 ],
 "metadata": {
  "kernelspec": {
   "display_name": "Python 3 (ipykernel)",
   "language": "python",
   "name": "python3"
  },
  "language_info": {
   "codemirror_mode": {
    "name": "ipython",
    "version": 3
   },
   "file_extension": ".py",
   "mimetype": "text/x-python",
   "name": "python",
   "nbconvert_exporter": "python",
   "pygments_lexer": "ipython3",
   "version": "3.10.11"
  }
 },
 "nbformat": 4,
 "nbformat_minor": 5
}
