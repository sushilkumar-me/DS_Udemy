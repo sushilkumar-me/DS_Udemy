{
 "cells": [
  {
   "cell_type": "markdown",
   "id": "a6ca63c3",
   "metadata": {},
   "source": [
    "# Module 3: Data Structures Assignments\n",
    "## Lesson 3.3: Sets\n",
    "### Assignment 1: Creating and Accessing Sets\n",
    "\n",
    "Create a set with the first 10 positive integers. Print the set.\n",
    "\n",
    "### Assignment 2: Adding and Removing Elements\n",
    "\n",
    "Add the number 11 to the set created in Assignment 1. Then remove the number 1 from the set. Print the modified set.\n",
    "\n",
    "### Assignment 3: Set Operations\n",
    "\n",
    "Create two sets: one with the first 5 positive integers and another with the first 5 even integers. Perform and print the results of union, intersection, difference, and symmetric difference operations on these sets.\n",
    "\n",
    "### Assignment 4: Set Comprehensions\n",
    "\n",
    "Create a new set containing the squares of the first 10 positive integers using a set comprehension. Print the new set.\n",
    "\n",
    "### Assignment 5: Filtering Sets\n",
    "\n",
    "Create a new set containing only the even numbers from the set created in Assignment 1 using a set comprehension. Print the new set.\n",
    "\n",
    "### Assignment 6: Set Methods\n",
    "\n",
    "Create a set with duplicate elements and remove the duplicates using set methods. Print the modified set.\n",
    "\n",
    "### Assignment 7: Subsets and Supersets\n",
    "\n",
    "Create two sets: one with the first 5 positive integers and another with the first 3 positive integers. Check if the second set is a subset of the first set and if the first set is a superset of the second set. Print the results.\n",
    "\n",
    "### Assignment 8: Frozenset\n",
    "\n",
    "Create a frozenset with the first 5 positive integers. Print the frozenset.\n",
    "\n",
    "### Assignment 9: Set and List Conversion\n",
    "\n",
    "Create a set with the first 5 positive integers. Convert it to a list, append the number 6, and convert it back to a set. Print the resulting set.\n",
    "\n",
    "### Assignment 10: Set and Dictionary\n",
    "\n",
    "Create a dictionary with set keys and integer values. Print the dictionary.\n",
    "\n",
    "### Assignment 11: Iterating Over Sets\n",
    "\n",
    "Create a set and iterate over the elements, printing each element.\n",
    "\n",
    "### Assignment 12: Removing Elements from Sets\n",
    "\n",
    "Create a set and remove elements from it until it is empty. Print the set after each removal.\n",
    "\n",
    "### Assignment 13: Set Symmetric Difference Update\n",
    "\n",
    "Create two sets and update the first set with the symmetric difference of the two sets. Print the modified first set.\n",
    "\n",
    "### Assignment 14: Set Membership Testing\n",
    "\n",
    "Create a set and test if certain elements are present in the set. Print the results.\n",
    "\n",
    "### Assignment 15: Set of Tuples\n",
    "\n",
    "Create a set containing tuples, where each tuple contains two elements. Print the set."
   ]
  },
  {
   "cell_type": "code",
   "execution_count": 2,
   "id": "c8bedc1a",
   "metadata": {},
   "outputs": [
    {
     "name": "stdout",
     "output_type": "stream",
     "text": [
      "{1, 2, 3, 4, 5, 6, 7, 8, 9, 10}\n"
     ]
    }
   ],
   "source": [
    "# Assignment 1: Creating and Accessing Sets\n",
    "# Create a set with the first 10 positive integers. Print the set.\n",
    "\n",
    "my_set = {i for i in range(1,11)}\n",
    "print(my_set)"
   ]
  },
  {
   "cell_type": "code",
   "execution_count": 4,
   "id": "5c19d4a8-18f4-4127-b55c-d2803ead4aaa",
   "metadata": {},
   "outputs": [
    {
     "name": "stdout",
     "output_type": "stream",
     "text": [
      "{2, 3, 4, 5, 6, 7, 8, 9, 10, 11}\n"
     ]
    }
   ],
   "source": [
    "# Assignment 2: Adding and Removing Elements\n",
    "# Add the number 11 to the set created in Assignment 1. Then remove the number 1 from the set. Print the modified set.\n",
    "\n",
    "my_set.add(11)\n",
    "my_set.remove(1)\n",
    "print(my_set)"
   ]
  },
  {
   "cell_type": "code",
   "execution_count": 9,
   "id": "908be4f9-247b-4257-bed9-d1a30315cf88",
   "metadata": {},
   "outputs": [
    {
     "name": "stdout",
     "output_type": "stream",
     "text": [
      "{1, 2, 3, 4, 5, 6, 8, 10}\n",
      "{2, 4}\n",
      "{1, 3, 5}\n",
      "{1, 3, 5, 6, 8, 10}\n"
     ]
    }
   ],
   "source": [
    "# Assignment 3: Set Operations\n",
    "# Create two sets: one with the first 5 positive integers and another with the first 5 even integers. Perform and print the results of union, intersection, difference, and symmetric difference operations on these sets.\n",
    "\n",
    "set1 = {i for i in range(1,6)}\n",
    "set2 = {i for i in range(1,11) if i% 2 == 0} \n",
    "\n",
    "print(set1.union(set2))\n",
    "print(set1.intersection(set2))\n",
    "print(set1.difference(set2))\n",
    "print(set1.symmetric_difference(set2))"
   ]
  },
  {
   "cell_type": "code",
   "execution_count": 10,
   "id": "20cd6df3-243f-402e-b2dd-e39744318427",
   "metadata": {},
   "outputs": [
    {
     "name": "stdout",
     "output_type": "stream",
     "text": [
      "{64, 1, 4, 36, 100, 9, 16, 49, 81, 25}\n"
     ]
    }
   ],
   "source": [
    "# Assignment 4: Set Comprehensions¶\n",
    "# Create a new set containing the squares of the first 10 positive integers using a set comprehension. Print the new set.\n",
    "\n",
    "new_set = {i**2 for i in range(1,11)}\n",
    "print(new_set)"
   ]
  },
  {
   "cell_type": "code",
   "execution_count": 14,
   "id": "8925a9d1-0e70-42a0-b358-16c82b9950d7",
   "metadata": {},
   "outputs": [
    {
     "name": "stdout",
     "output_type": "stream",
     "text": [
      "{2, 4, 6, 8, 10}\n"
     ]
    }
   ],
   "source": [
    "# Assignment 5: Filtering Sets\n",
    "# Create a new set containing only the even numbers from the set created in Assignment 1 using a set comprehension. Print the new set.\n",
    "\n",
    "new_set1 = {i for i in my_set if i % 2 == 0 }\n",
    "print(new_set1)"
   ]
  },
  {
   "cell_type": "code",
   "execution_count": 13,
   "id": "1c75008a-9ad7-4fcd-8c73-dbc7b630724d",
   "metadata": {},
   "outputs": [
    {
     "name": "stdout",
     "output_type": "stream",
     "text": [
      "{1, 2, 3, 4, 5}\n"
     ]
    }
   ],
   "source": [
    "# Assignment 6: Set Methods\n",
    "# Create a set with duplicate elements and remove the duplicates using set methods. Print the modified set.\n",
    "\n",
    "unique_set = set_dup = {1,2,2,2,3,4,5,1,2,3,}\n",
    "print(unique_set)"
   ]
  },
  {
   "cell_type": "code",
   "execution_count": 15,
   "id": "b9132292-e31c-40cb-b752-518a6642a30b",
   "metadata": {},
   "outputs": [
    {
     "name": "stdout",
     "output_type": "stream",
     "text": [
      "True\n",
      "True\n"
     ]
    }
   ],
   "source": [
    "# Assignment 7: Subsets and Supersets\n",
    "# Create two sets: one with the first 5 positive integers and another with the first 3 positive integers. Check if the second set is a subset of the first set and if the first set is a superset of the second set. Print the results.\n",
    "\n",
    "set_1 = {i for i in range(1,6)}\n",
    "set_2 = {i for i in range(1,4)}\n",
    "print(set_2.issubset(set_1))\n",
    "print(set_1.issuperset(set_2))"
   ]
  },
  {
   "cell_type": "code",
   "execution_count": 17,
   "id": "b13285ac-3c8a-4309-a0f7-b1b3df93e447",
   "metadata": {},
   "outputs": [
    {
     "name": "stdout",
     "output_type": "stream",
     "text": [
      "frozenset({1, 2, 3, 4, 5})\n"
     ]
    }
   ],
   "source": [
    "# Assignment 8: Frozenset\n",
    "# Create a frozenset with the first 5 positive integers. Print the frozenset.\n",
    "\n",
    "my_set = frozenset({1,2,3,4,5})\n",
    "print(frozen)"
   ]
  },
  {
   "cell_type": "code",
   "execution_count": 18,
   "id": "a276b482-c13c-457f-be90-89080587165b",
   "metadata": {},
   "outputs": [
    {
     "name": "stdout",
     "output_type": "stream",
     "text": [
      "{1, 2, 3, 4, 5, 6}\n"
     ]
    }
   ],
   "source": [
    "# Assignment 9: Set and List Conversion\n",
    "# Create a set with the first 5 positive integers. Convert it to a list, append the number 6, and convert it back to a set. Print the resulting set.\n",
    "\n",
    "my_set = {i for i in range(1,6)}\n",
    "lst = list(my_set)\n",
    "lst.append(6)\n",
    "my_set = set(lst)\n",
    "print(my_set)"
   ]
  },
  {
   "cell_type": "code",
   "execution_count": 24,
   "id": "ebe88e54-f601-41ce-90bc-ea25b947735c",
   "metadata": {},
   "outputs": [
    {
     "name": "stdout",
     "output_type": "stream",
     "text": [
      "{frozenset({'maths'}): 32, frozenset({'science'}): 30}\n"
     ]
    }
   ],
   "source": [
    "# Assignment 10: Set and Dictionary\n",
    "# Create a dictionary with set keys and integer values. Print the dictionary.\n",
    "\n",
    "dict = {frozenset({\"maths\"}): 32, frozenset({\"science\"}): 30} # We have to use frozenset\n",
    "print(dict)"
   ]
  },
  {
   "cell_type": "code",
   "execution_count": 43,
   "id": "c1460313-2326-4a8e-88e1-2da1731e2194",
   "metadata": {},
   "outputs": [
    {
     "name": "stdout",
     "output_type": "stream",
     "text": [
      "50\n",
      "20\n",
      "40\n",
      "10\n",
      "30\n"
     ]
    }
   ],
   "source": [
    "# Assignment 11: Iterating Over Sets\n",
    "# Create a set and iterate over the elements, printing each element.\n",
    "\n",
    "my_set = {10,20,30,40,50}\n",
    "for i in my_set:\n",
    "    print(i)"
   ]
  },
  {
   "cell_type": "code",
   "execution_count": 44,
   "id": "f61d8a39-5b01-4aa2-8d32-a420faa51140",
   "metadata": {},
   "outputs": [
    {
     "name": "stdout",
     "output_type": "stream",
     "text": [
      "{2, 3, 4, 5, 6, 7, 8, 9}\n",
      "{3, 4, 5, 6, 7, 8, 9}\n",
      "{4, 5, 6, 7, 8, 9}\n",
      "{5, 6, 7, 8, 9}\n",
      "{6, 7, 8, 9}\n",
      "{7, 8, 9}\n",
      "{8, 9}\n",
      "{9}\n",
      "set()\n"
     ]
    },
    {
     "ename": "KeyError",
     "evalue": "'pop from an empty set'",
     "output_type": "error",
     "traceback": [
      "\u001b[1;31m---------------------------------------------------------------------------\u001b[0m",
      "\u001b[1;31mKeyError\u001b[0m                                  Traceback (most recent call last)",
      "Cell \u001b[1;32mIn[44], line 7\u001b[0m\n\u001b[0;32m      5\u001b[0m cl \u001b[38;5;241m=\u001b[39m{\u001b[38;5;241m1\u001b[39m}\n\u001b[0;32m      6\u001b[0m \u001b[38;5;28;01mwhile\u001b[39;00m my_set \u001b[38;5;241m!=\u001b[39m cl\u001b[38;5;241m.\u001b[39mclear():\n\u001b[1;32m----> 7\u001b[0m     \u001b[43mmy_set\u001b[49m\u001b[38;5;241;43m.\u001b[39;49m\u001b[43mpop\u001b[49m\u001b[43m(\u001b[49m\u001b[43m)\u001b[49m\n\u001b[0;32m      8\u001b[0m     \u001b[38;5;28mprint\u001b[39m(my_set)\n",
      "\u001b[1;31mKeyError\u001b[0m: 'pop from an empty set'"
     ]
    }
   ],
   "source": [
    "# Assignment 12: Removing Elements from Sets\n",
    "# Create a set and remove elements from it until it is empty. Print the set after each removal.\n",
    "\n",
    "my_set = {1,2,3,4,5,6,7,8,9}\n",
    "cl ={1}\n",
    "while my_set != cl.clear():\n",
    "    my_set.pop()\n",
    "    print(my_set)\n"
   ]
  },
  {
   "cell_type": "code",
   "execution_count": 47,
   "id": "af4d653f-ee12-44a9-9ad6-1134d5e8489f",
   "metadata": {},
   "outputs": [
    {
     "name": "stdout",
     "output_type": "stream",
     "text": [
      "{1, 4, 5, 6, 8}\n"
     ]
    }
   ],
   "source": [
    "# Assignment 13: Set Symmetric Difference Update\n",
    "# Create two sets and update the first set with the symmetric difference of the two sets. Print the modified first set.\n",
    "\n",
    "set1 = {1,2,3,4,8,8}\n",
    "set2 = {3,2,5,6}\n",
    "set1.symmetric_difference_update(set2)\n",
    "print(set1)"
   ]
  },
  {
   "cell_type": "code",
   "execution_count": 49,
   "id": "b71807b2-9450-4cb5-a7da-f4ec42cff743",
   "metadata": {},
   "outputs": [
    {
     "name": "stdout",
     "output_type": "stream",
     "text": [
      "True\n",
      "False\n"
     ]
    }
   ],
   "source": [
    "# Assignment 14: Set Membership Testing\n",
    "# Create a set and test if certain elements are present in the set. Print the results.\n",
    "\n",
    "my_set = {1,2,3,4,5,6,7,8}\n",
    "print(4 in my_set)\n",
    "print(10 in my_set)"
   ]
  },
  {
   "cell_type": "code",
   "execution_count": 50,
   "id": "d827de5f-46c1-4a37-98ba-1059a66b410b",
   "metadata": {},
   "outputs": [
    {
     "name": "stdout",
     "output_type": "stream",
     "text": [
      "{(1, 2), (3, 4)}\n"
     ]
    }
   ],
   "source": [
    "# Assignment 15: Set of Tuples\n",
    "# Create a set containing tuples, where each tuple contains two elements. Print the set.\n",
    "\n",
    "my_set = {(1,2),(3,4)}\n",
    "print(my_set)"
   ]
  },
  {
   "cell_type": "code",
   "execution_count": null,
   "id": "55ea1559-6859-4e47-a114-e030b9ad1339",
   "metadata": {},
   "outputs": [],
   "source": []
  }
 ],
 "metadata": {
  "kernelspec": {
   "display_name": "Python 3 (ipykernel)",
   "language": "python",
   "name": "python3"
  },
  "language_info": {
   "codemirror_mode": {
    "name": "ipython",
    "version": 3
   },
   "file_extension": ".py",
   "mimetype": "text/x-python",
   "name": "python",
   "nbconvert_exporter": "python",
   "pygments_lexer": "ipython3",
   "version": "3.10.11"
  }
 },
 "nbformat": 4,
 "nbformat_minor": 5
}
